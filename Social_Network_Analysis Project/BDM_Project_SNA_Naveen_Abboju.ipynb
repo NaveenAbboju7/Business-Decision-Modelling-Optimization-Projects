{
  "nbformat": 4,
  "nbformat_minor": 0,
  "metadata": {
    "colab": {
      "provenance": [],
      "toc_visible": true
    },
    "kernelspec": {
      "name": "python3",
      "display_name": "Python 3"
    },
    "language_info": {
      "name": "python"
    }
  },
  "cells": [
    {
      "cell_type": "code",
      "execution_count": 52,
      "metadata": {
        "colab": {
          "base_uri": "https://localhost:8080/"
        },
        "id": "XZCk4W9BdgrT",
        "outputId": "802b4e7d-a5c2-42fb-c49a-5ae277eb3dd4"
      },
      "outputs": [
        {
          "output_type": "stream",
          "name": "stdout",
          "text": [
            "Drive already mounted at /content/drive; to attempt to forcibly remount, call drive.mount(\"/content/drive\", force_remount=True).\n"
          ]
        }
      ],
      "source": [
        "from google.colab import drive\n",
        "drive.mount('/content/drive')"
      ]
    },
    {
      "cell_type": "code",
      "source": [
        "import numpy as np\n",
        "import pandas as pd"
      ],
      "metadata": {
        "id": "zTcY4xi2dkWg"
      },
      "execution_count": 53,
      "outputs": []
    },
    {
      "cell_type": "code",
      "source": [
        "import sys\n",
        "import os\n",
        " \n",
        "if 'google.colab' in sys.modules:\n",
        "    !pip install idaes-pse --pre\n",
        "    !idaes get-extensions --to ./bin\n",
        "    os.environ['PATH'] += ':bin'\n",
        "    \n",
        "import matplotlib.pyplot as plt\n",
        "from pyomo.environ import *"
      ],
      "metadata": {
        "colab": {
          "base_uri": "https://localhost:8080/"
        },
        "id": "0G0E4QQqd2Jh",
        "outputId": "eff7c60e-b3ae-40aa-962d-d60ec91246d7"
      },
      "execution_count": 54,
      "outputs": [
        {
          "output_type": "stream",
          "name": "stdout",
          "text": [
            "Looking in indexes: https://pypi.org/simple, https://us-python.pkg.dev/colab-wheels/public/simple/\n",
            "Requirement already satisfied: idaes-pse in /usr/local/lib/python3.10/dist-packages (2.1.0rc0)\n",
            "Requirement already satisfied: pyomo>=6.6.1 in /usr/local/lib/python3.10/dist-packages (from idaes-pse) (6.6.1)\n",
            "Requirement already satisfied: pint in /usr/local/lib/python3.10/dist-packages (from idaes-pse) (0.22)\n",
            "Requirement already satisfied: networkx in /usr/local/lib/python3.10/dist-packages (from idaes-pse) (3.1)\n",
            "Requirement already satisfied: numpy in /usr/local/lib/python3.10/dist-packages (from idaes-pse) (1.22.4)\n",
            "Requirement already satisfied: pandas in /usr/local/lib/python3.10/dist-packages (from idaes-pse) (1.5.3)\n",
            "Requirement already satisfied: scipy in /usr/local/lib/python3.10/dist-packages (from idaes-pse) (1.10.1)\n",
            "Requirement already satisfied: sympy in /usr/local/lib/python3.10/dist-packages (from idaes-pse) (1.11.1)\n",
            "Requirement already satisfied: matplotlib in /usr/local/lib/python3.10/dist-packages (from idaes-pse) (3.7.1)\n",
            "Requirement already satisfied: click>=8 in /usr/local/lib/python3.10/dist-packages (from idaes-pse) (8.1.3)\n",
            "Requirement already satisfied: ply in /usr/local/lib/python3.10/dist-packages (from pyomo>=6.6.1->idaes-pse) (3.11)\n",
            "Requirement already satisfied: contourpy>=1.0.1 in /usr/local/lib/python3.10/dist-packages (from matplotlib->idaes-pse) (1.0.7)\n",
            "Requirement already satisfied: cycler>=0.10 in /usr/local/lib/python3.10/dist-packages (from matplotlib->idaes-pse) (0.11.0)\n",
            "Requirement already satisfied: fonttools>=4.22.0 in /usr/local/lib/python3.10/dist-packages (from matplotlib->idaes-pse) (4.39.3)\n",
            "Requirement already satisfied: kiwisolver>=1.0.1 in /usr/local/lib/python3.10/dist-packages (from matplotlib->idaes-pse) (1.4.4)\n",
            "Requirement already satisfied: packaging>=20.0 in /usr/local/lib/python3.10/dist-packages (from matplotlib->idaes-pse) (23.1)\n",
            "Requirement already satisfied: pillow>=6.2.0 in /usr/local/lib/python3.10/dist-packages (from matplotlib->idaes-pse) (8.4.0)\n",
            "Requirement already satisfied: pyparsing>=2.3.1 in /usr/local/lib/python3.10/dist-packages (from matplotlib->idaes-pse) (3.0.9)\n",
            "Requirement already satisfied: python-dateutil>=2.7 in /usr/local/lib/python3.10/dist-packages (from matplotlib->idaes-pse) (2.8.2)\n",
            "Requirement already satisfied: pytz>=2020.1 in /usr/local/lib/python3.10/dist-packages (from pandas->idaes-pse) (2022.7.1)\n",
            "Requirement already satisfied: typing-extensions in /usr/local/lib/python3.10/dist-packages (from pint->idaes-pse) (4.5.0)\n",
            "Requirement already satisfied: mpmath>=0.19 in /usr/local/lib/python3.10/dist-packages (from sympy->idaes-pse) (1.3.0)\n",
            "Requirement already satisfied: six>=1.5 in /usr/local/lib/python3.10/dist-packages (from python-dateutil>=2.7->matplotlib->idaes-pse) (1.16.0)\n",
            "Getting files...\n",
            "Done\n",
            "---------------------------------------------------\n",
            "IDAES Extensions Build Versions\n",
            "===================================================\n",
            "Solvers:  vno version file found\n",
            "Library:  vno version file found\n",
            "===================================================\n"
          ]
        }
      ]
    },
    {
      "cell_type": "markdown",
      "source": [
        "# **Social Network Analysis**"
      ],
      "metadata": {
        "id": "-uHrpRVpHI0u"
      }
    },
    {
      "cell_type": "code",
      "source": [
        "small = pd.read_excel('/content/drive/MyDrive/BDM /SocialNetworks.xlsx', sheet_name='Small', header=None)\n",
        "large = pd.read_excel('/content/drive/MyDrive/BDM /SocialNetworks.xlsx', sheet_name='Large', header=None)\n"
      ],
      "metadata": {
        "id": "B-MyhvyvhqUP"
      },
      "execution_count": 55,
      "outputs": []
    },
    {
      "cell_type": "code",
      "source": [
        "small.fillna(0, inplace=True)\n"
      ],
      "metadata": {
        "id": "T_MqRXMp5gZQ"
      },
      "execution_count": 56,
      "outputs": []
    },
    {
      "cell_type": "code",
      "source": [
        "small"
      ],
      "metadata": {
        "colab": {
          "base_uri": "https://localhost:8080/",
          "height": 676
        },
        "id": "I2oJ24ltxKHc",
        "outputId": "46eb41fd-e80d-4a90-f227-dd20a407c7cc"
      },
      "execution_count": 57,
      "outputs": [
        {
          "output_type": "execute_result",
          "data": {
            "text/plain": [
              "     0    1   2     3     4     5     6\n",
              "0    1  -->   2   3.0   9.0   0.0   0.0\n",
              "1    2  -->   1   3.0  10.0   0.0   0.0\n",
              "2    3  -->   1   2.0   4.0   0.0   0.0\n",
              "3    4  -->   3  17.0   0.0   0.0   0.0\n",
              "4    5  -->   6   7.0  10.0   0.0   0.0\n",
              "5    6  -->   5   7.0   9.0   0.0   0.0\n",
              "6    7  -->   5   6.0   8.0   0.0   0.0\n",
              "7    8  -->   7   9.0   0.0   0.0   0.0\n",
              "8    9  -->   1   6.0  10.0   8.0  12.0\n",
              "9   10  -->   2   5.0   9.0  11.0  12.0\n",
              "10  11  -->  10  12.0   0.0   0.0   0.0\n",
              "11  12  -->   9  10.0  11.0   0.0   0.0\n",
              "12  13  -->  14  20.0  16.0  18.0   0.0\n",
              "13  14  -->  13  18.0  16.0   0.0   0.0\n",
              "14  15  -->  16   0.0   0.0   0.0   0.0\n",
              "15  16  -->  13  14.0  15.0   0.0   0.0\n",
              "16  17  -->   4  19.0  20.0   0.0   0.0\n",
              "17  18  -->  14  13.0  20.0   0.0   0.0\n",
              "18  19  -->  17  20.0   0.0   0.0   0.0\n",
              "19  20  -->  13  17.0  18.0  19.0   0.0"
            ],
            "text/html": [
              "\n",
              "  <div id=\"df-5c1be29c-ee6b-4836-aa36-b906edc60c13\">\n",
              "    <div class=\"colab-df-container\">\n",
              "      <div>\n",
              "<style scoped>\n",
              "    .dataframe tbody tr th:only-of-type {\n",
              "        vertical-align: middle;\n",
              "    }\n",
              "\n",
              "    .dataframe tbody tr th {\n",
              "        vertical-align: top;\n",
              "    }\n",
              "\n",
              "    .dataframe thead th {\n",
              "        text-align: right;\n",
              "    }\n",
              "</style>\n",
              "<table border=\"1\" class=\"dataframe\">\n",
              "  <thead>\n",
              "    <tr style=\"text-align: right;\">\n",
              "      <th></th>\n",
              "      <th>0</th>\n",
              "      <th>1</th>\n",
              "      <th>2</th>\n",
              "      <th>3</th>\n",
              "      <th>4</th>\n",
              "      <th>5</th>\n",
              "      <th>6</th>\n",
              "    </tr>\n",
              "  </thead>\n",
              "  <tbody>\n",
              "    <tr>\n",
              "      <th>0</th>\n",
              "      <td>1</td>\n",
              "      <td>--&gt;</td>\n",
              "      <td>2</td>\n",
              "      <td>3.0</td>\n",
              "      <td>9.0</td>\n",
              "      <td>0.0</td>\n",
              "      <td>0.0</td>\n",
              "    </tr>\n",
              "    <tr>\n",
              "      <th>1</th>\n",
              "      <td>2</td>\n",
              "      <td>--&gt;</td>\n",
              "      <td>1</td>\n",
              "      <td>3.0</td>\n",
              "      <td>10.0</td>\n",
              "      <td>0.0</td>\n",
              "      <td>0.0</td>\n",
              "    </tr>\n",
              "    <tr>\n",
              "      <th>2</th>\n",
              "      <td>3</td>\n",
              "      <td>--&gt;</td>\n",
              "      <td>1</td>\n",
              "      <td>2.0</td>\n",
              "      <td>4.0</td>\n",
              "      <td>0.0</td>\n",
              "      <td>0.0</td>\n",
              "    </tr>\n",
              "    <tr>\n",
              "      <th>3</th>\n",
              "      <td>4</td>\n",
              "      <td>--&gt;</td>\n",
              "      <td>3</td>\n",
              "      <td>17.0</td>\n",
              "      <td>0.0</td>\n",
              "      <td>0.0</td>\n",
              "      <td>0.0</td>\n",
              "    </tr>\n",
              "    <tr>\n",
              "      <th>4</th>\n",
              "      <td>5</td>\n",
              "      <td>--&gt;</td>\n",
              "      <td>6</td>\n",
              "      <td>7.0</td>\n",
              "      <td>10.0</td>\n",
              "      <td>0.0</td>\n",
              "      <td>0.0</td>\n",
              "    </tr>\n",
              "    <tr>\n",
              "      <th>5</th>\n",
              "      <td>6</td>\n",
              "      <td>--&gt;</td>\n",
              "      <td>5</td>\n",
              "      <td>7.0</td>\n",
              "      <td>9.0</td>\n",
              "      <td>0.0</td>\n",
              "      <td>0.0</td>\n",
              "    </tr>\n",
              "    <tr>\n",
              "      <th>6</th>\n",
              "      <td>7</td>\n",
              "      <td>--&gt;</td>\n",
              "      <td>5</td>\n",
              "      <td>6.0</td>\n",
              "      <td>8.0</td>\n",
              "      <td>0.0</td>\n",
              "      <td>0.0</td>\n",
              "    </tr>\n",
              "    <tr>\n",
              "      <th>7</th>\n",
              "      <td>8</td>\n",
              "      <td>--&gt;</td>\n",
              "      <td>7</td>\n",
              "      <td>9.0</td>\n",
              "      <td>0.0</td>\n",
              "      <td>0.0</td>\n",
              "      <td>0.0</td>\n",
              "    </tr>\n",
              "    <tr>\n",
              "      <th>8</th>\n",
              "      <td>9</td>\n",
              "      <td>--&gt;</td>\n",
              "      <td>1</td>\n",
              "      <td>6.0</td>\n",
              "      <td>10.0</td>\n",
              "      <td>8.0</td>\n",
              "      <td>12.0</td>\n",
              "    </tr>\n",
              "    <tr>\n",
              "      <th>9</th>\n",
              "      <td>10</td>\n",
              "      <td>--&gt;</td>\n",
              "      <td>2</td>\n",
              "      <td>5.0</td>\n",
              "      <td>9.0</td>\n",
              "      <td>11.0</td>\n",
              "      <td>12.0</td>\n",
              "    </tr>\n",
              "    <tr>\n",
              "      <th>10</th>\n",
              "      <td>11</td>\n",
              "      <td>--&gt;</td>\n",
              "      <td>10</td>\n",
              "      <td>12.0</td>\n",
              "      <td>0.0</td>\n",
              "      <td>0.0</td>\n",
              "      <td>0.0</td>\n",
              "    </tr>\n",
              "    <tr>\n",
              "      <th>11</th>\n",
              "      <td>12</td>\n",
              "      <td>--&gt;</td>\n",
              "      <td>9</td>\n",
              "      <td>10.0</td>\n",
              "      <td>11.0</td>\n",
              "      <td>0.0</td>\n",
              "      <td>0.0</td>\n",
              "    </tr>\n",
              "    <tr>\n",
              "      <th>12</th>\n",
              "      <td>13</td>\n",
              "      <td>--&gt;</td>\n",
              "      <td>14</td>\n",
              "      <td>20.0</td>\n",
              "      <td>16.0</td>\n",
              "      <td>18.0</td>\n",
              "      <td>0.0</td>\n",
              "    </tr>\n",
              "    <tr>\n",
              "      <th>13</th>\n",
              "      <td>14</td>\n",
              "      <td>--&gt;</td>\n",
              "      <td>13</td>\n",
              "      <td>18.0</td>\n",
              "      <td>16.0</td>\n",
              "      <td>0.0</td>\n",
              "      <td>0.0</td>\n",
              "    </tr>\n",
              "    <tr>\n",
              "      <th>14</th>\n",
              "      <td>15</td>\n",
              "      <td>--&gt;</td>\n",
              "      <td>16</td>\n",
              "      <td>0.0</td>\n",
              "      <td>0.0</td>\n",
              "      <td>0.0</td>\n",
              "      <td>0.0</td>\n",
              "    </tr>\n",
              "    <tr>\n",
              "      <th>15</th>\n",
              "      <td>16</td>\n",
              "      <td>--&gt;</td>\n",
              "      <td>13</td>\n",
              "      <td>14.0</td>\n",
              "      <td>15.0</td>\n",
              "      <td>0.0</td>\n",
              "      <td>0.0</td>\n",
              "    </tr>\n",
              "    <tr>\n",
              "      <th>16</th>\n",
              "      <td>17</td>\n",
              "      <td>--&gt;</td>\n",
              "      <td>4</td>\n",
              "      <td>19.0</td>\n",
              "      <td>20.0</td>\n",
              "      <td>0.0</td>\n",
              "      <td>0.0</td>\n",
              "    </tr>\n",
              "    <tr>\n",
              "      <th>17</th>\n",
              "      <td>18</td>\n",
              "      <td>--&gt;</td>\n",
              "      <td>14</td>\n",
              "      <td>13.0</td>\n",
              "      <td>20.0</td>\n",
              "      <td>0.0</td>\n",
              "      <td>0.0</td>\n",
              "    </tr>\n",
              "    <tr>\n",
              "      <th>18</th>\n",
              "      <td>19</td>\n",
              "      <td>--&gt;</td>\n",
              "      <td>17</td>\n",
              "      <td>20.0</td>\n",
              "      <td>0.0</td>\n",
              "      <td>0.0</td>\n",
              "      <td>0.0</td>\n",
              "    </tr>\n",
              "    <tr>\n",
              "      <th>19</th>\n",
              "      <td>20</td>\n",
              "      <td>--&gt;</td>\n",
              "      <td>13</td>\n",
              "      <td>17.0</td>\n",
              "      <td>18.0</td>\n",
              "      <td>19.0</td>\n",
              "      <td>0.0</td>\n",
              "    </tr>\n",
              "  </tbody>\n",
              "</table>\n",
              "</div>\n",
              "      <button class=\"colab-df-convert\" onclick=\"convertToInteractive('df-5c1be29c-ee6b-4836-aa36-b906edc60c13')\"\n",
              "              title=\"Convert this dataframe to an interactive table.\"\n",
              "              style=\"display:none;\">\n",
              "        \n",
              "  <svg xmlns=\"http://www.w3.org/2000/svg\" height=\"24px\"viewBox=\"0 0 24 24\"\n",
              "       width=\"24px\">\n",
              "    <path d=\"M0 0h24v24H0V0z\" fill=\"none\"/>\n",
              "    <path d=\"M18.56 5.44l.94 2.06.94-2.06 2.06-.94-2.06-.94-.94-2.06-.94 2.06-2.06.94zm-11 1L8.5 8.5l.94-2.06 2.06-.94-2.06-.94L8.5 2.5l-.94 2.06-2.06.94zm10 10l.94 2.06.94-2.06 2.06-.94-2.06-.94-.94-2.06-.94 2.06-2.06.94z\"/><path d=\"M17.41 7.96l-1.37-1.37c-.4-.4-.92-.59-1.43-.59-.52 0-1.04.2-1.43.59L10.3 9.45l-7.72 7.72c-.78.78-.78 2.05 0 2.83L4 21.41c.39.39.9.59 1.41.59.51 0 1.02-.2 1.41-.59l7.78-7.78 2.81-2.81c.8-.78.8-2.07 0-2.86zM5.41 20L4 18.59l7.72-7.72 1.47 1.35L5.41 20z\"/>\n",
              "  </svg>\n",
              "      </button>\n",
              "      \n",
              "  <style>\n",
              "    .colab-df-container {\n",
              "      display:flex;\n",
              "      flex-wrap:wrap;\n",
              "      gap: 12px;\n",
              "    }\n",
              "\n",
              "    .colab-df-convert {\n",
              "      background-color: #E8F0FE;\n",
              "      border: none;\n",
              "      border-radius: 50%;\n",
              "      cursor: pointer;\n",
              "      display: none;\n",
              "      fill: #1967D2;\n",
              "      height: 32px;\n",
              "      padding: 0 0 0 0;\n",
              "      width: 32px;\n",
              "    }\n",
              "\n",
              "    .colab-df-convert:hover {\n",
              "      background-color: #E2EBFA;\n",
              "      box-shadow: 0px 1px 2px rgba(60, 64, 67, 0.3), 0px 1px 3px 1px rgba(60, 64, 67, 0.15);\n",
              "      fill: #174EA6;\n",
              "    }\n",
              "\n",
              "    [theme=dark] .colab-df-convert {\n",
              "      background-color: #3B4455;\n",
              "      fill: #D2E3FC;\n",
              "    }\n",
              "\n",
              "    [theme=dark] .colab-df-convert:hover {\n",
              "      background-color: #434B5C;\n",
              "      box-shadow: 0px 1px 3px 1px rgba(0, 0, 0, 0.15);\n",
              "      filter: drop-shadow(0px 1px 2px rgba(0, 0, 0, 0.3));\n",
              "      fill: #FFFFFF;\n",
              "    }\n",
              "  </style>\n",
              "\n",
              "      <script>\n",
              "        const buttonEl =\n",
              "          document.querySelector('#df-5c1be29c-ee6b-4836-aa36-b906edc60c13 button.colab-df-convert');\n",
              "        buttonEl.style.display =\n",
              "          google.colab.kernel.accessAllowed ? 'block' : 'none';\n",
              "\n",
              "        async function convertToInteractive(key) {\n",
              "          const element = document.querySelector('#df-5c1be29c-ee6b-4836-aa36-b906edc60c13');\n",
              "          const dataTable =\n",
              "            await google.colab.kernel.invokeFunction('convertToInteractive',\n",
              "                                                     [key], {});\n",
              "          if (!dataTable) return;\n",
              "\n",
              "          const docLinkHtml = 'Like what you see? Visit the ' +\n",
              "            '<a target=\"_blank\" href=https://colab.research.google.com/notebooks/data_table.ipynb>data table notebook</a>'\n",
              "            + ' to learn more about interactive tables.';\n",
              "          element.innerHTML = '';\n",
              "          dataTable['output_type'] = 'display_data';\n",
              "          await google.colab.output.renderOutput(dataTable, element);\n",
              "          const docLink = document.createElement('div');\n",
              "          docLink.innerHTML = docLinkHtml;\n",
              "          element.appendChild(docLink);\n",
              "        }\n",
              "      </script>\n",
              "    </div>\n",
              "  </div>\n",
              "  "
            ]
          },
          "metadata": {},
          "execution_count": 57
        }
      ]
    },
    {
      "cell_type": "code",
      "source": [
        "small.columns= ['Person', 'rep', 's_network1', 's_network2', 's_network3', 's_network4', 's_network5']"
      ],
      "metadata": {
        "id": "3sYTPrAliHYx"
      },
      "execution_count": 58,
      "outputs": []
    },
    {
      "cell_type": "code",
      "source": [
        "small.drop('rep', axis=1, inplace=True)\n"
      ],
      "metadata": {
        "id": "Es23HoowmpUB"
      },
      "execution_count": 59,
      "outputs": []
    },
    {
      "cell_type": "code",
      "source": [
        "\n",
        "small.shape"
      ],
      "metadata": {
        "colab": {
          "base_uri": "https://localhost:8080/"
        },
        "id": "3mKh4toii1Mz",
        "outputId": "19714e96-a452-48a7-ac80-f59e4476e132"
      },
      "execution_count": 60,
      "outputs": [
        {
          "output_type": "execute_result",
          "data": {
            "text/plain": [
              "(20, 6)"
            ]
          },
          "metadata": {},
          "execution_count": 60
        }
      ]
    },
    {
      "cell_type": "code",
      "source": [
        "selected_columns = ['s_network1', 's_network2', 's_network3', 's_network4', 's_network5']\n",
        "array_list = small[selected_columns].values.tolist()\n",
        "\n"
      ],
      "metadata": {
        "id": "gjs5NnDL6LCb"
      },
      "execution_count": 61,
      "outputs": []
    },
    {
      "cell_type": "code",
      "source": [
        "array_list"
      ],
      "metadata": {
        "colab": {
          "base_uri": "https://localhost:8080/"
        },
        "id": "ensM87KNXrST",
        "outputId": "1c20ed9e-6162-417a-f20e-61807d09df30"
      },
      "execution_count": 62,
      "outputs": [
        {
          "output_type": "execute_result",
          "data": {
            "text/plain": [
              "[[2.0, 3.0, 9.0, 0.0, 0.0],\n",
              " [1.0, 3.0, 10.0, 0.0, 0.0],\n",
              " [1.0, 2.0, 4.0, 0.0, 0.0],\n",
              " [3.0, 17.0, 0.0, 0.0, 0.0],\n",
              " [6.0, 7.0, 10.0, 0.0, 0.0],\n",
              " [5.0, 7.0, 9.0, 0.0, 0.0],\n",
              " [5.0, 6.0, 8.0, 0.0, 0.0],\n",
              " [7.0, 9.0, 0.0, 0.0, 0.0],\n",
              " [1.0, 6.0, 10.0, 8.0, 12.0],\n",
              " [2.0, 5.0, 9.0, 11.0, 12.0],\n",
              " [10.0, 12.0, 0.0, 0.0, 0.0],\n",
              " [9.0, 10.0, 11.0, 0.0, 0.0],\n",
              " [14.0, 20.0, 16.0, 18.0, 0.0],\n",
              " [13.0, 18.0, 16.0, 0.0, 0.0],\n",
              " [16.0, 0.0, 0.0, 0.0, 0.0],\n",
              " [13.0, 14.0, 15.0, 0.0, 0.0],\n",
              " [4.0, 19.0, 20.0, 0.0, 0.0],\n",
              " [14.0, 13.0, 20.0, 0.0, 0.0],\n",
              " [17.0, 20.0, 0.0, 0.0, 0.0],\n",
              " [13.0, 17.0, 18.0, 19.0, 0.0]]"
            ]
          },
          "metadata": {},
          "execution_count": 62
        }
      ]
    },
    {
      "cell_type": "code",
      "source": [
        "large.shape"
      ],
      "metadata": {
        "colab": {
          "base_uri": "https://localhost:8080/"
        },
        "id": "me_BISuXi3R5",
        "outputId": "eb594386-1dfc-4dbd-c20f-a86ae59c208e"
      },
      "execution_count": 63,
      "outputs": [
        {
          "output_type": "execute_result",
          "data": {
            "text/plain": [
              "(50, 10)"
            ]
          },
          "metadata": {},
          "execution_count": 63
        }
      ]
    },
    {
      "cell_type": "code",
      "source": [
        "large.columns= ['Person', 'rep', 's_network1', 's_network2', 's_network3', 's_network4', 's_network5', 's_network6', 's_network7', 's_network8']"
      ],
      "metadata": {
        "id": "7zMlDdOwir1N"
      },
      "execution_count": 64,
      "outputs": []
    },
    {
      "cell_type": "code",
      "source": [
        "large.drop('rep', axis=1, inplace=True)"
      ],
      "metadata": {
        "id": "Kc-iuB12w9uz"
      },
      "execution_count": 65,
      "outputs": []
    },
    {
      "cell_type": "code",
      "source": [
        "small"
      ],
      "metadata": {
        "colab": {
          "base_uri": "https://localhost:8080/",
          "height": 676
        },
        "id": "_JECqk41h49V",
        "outputId": "a285dad7-3501-421e-b1cd-80ceb01cef87"
      },
      "execution_count": 66,
      "outputs": [
        {
          "output_type": "execute_result",
          "data": {
            "text/plain": [
              "    Person  s_network1  s_network2  s_network3  s_network4  s_network5\n",
              "0        1           2         3.0         9.0         0.0         0.0\n",
              "1        2           1         3.0        10.0         0.0         0.0\n",
              "2        3           1         2.0         4.0         0.0         0.0\n",
              "3        4           3        17.0         0.0         0.0         0.0\n",
              "4        5           6         7.0        10.0         0.0         0.0\n",
              "5        6           5         7.0         9.0         0.0         0.0\n",
              "6        7           5         6.0         8.0         0.0         0.0\n",
              "7        8           7         9.0         0.0         0.0         0.0\n",
              "8        9           1         6.0        10.0         8.0        12.0\n",
              "9       10           2         5.0         9.0        11.0        12.0\n",
              "10      11          10        12.0         0.0         0.0         0.0\n",
              "11      12           9        10.0        11.0         0.0         0.0\n",
              "12      13          14        20.0        16.0        18.0         0.0\n",
              "13      14          13        18.0        16.0         0.0         0.0\n",
              "14      15          16         0.0         0.0         0.0         0.0\n",
              "15      16          13        14.0        15.0         0.0         0.0\n",
              "16      17           4        19.0        20.0         0.0         0.0\n",
              "17      18          14        13.0        20.0         0.0         0.0\n",
              "18      19          17        20.0         0.0         0.0         0.0\n",
              "19      20          13        17.0        18.0        19.0         0.0"
            ],
            "text/html": [
              "\n",
              "  <div id=\"df-e6588723-d96f-45a1-a12c-ba0f5885297c\">\n",
              "    <div class=\"colab-df-container\">\n",
              "      <div>\n",
              "<style scoped>\n",
              "    .dataframe tbody tr th:only-of-type {\n",
              "        vertical-align: middle;\n",
              "    }\n",
              "\n",
              "    .dataframe tbody tr th {\n",
              "        vertical-align: top;\n",
              "    }\n",
              "\n",
              "    .dataframe thead th {\n",
              "        text-align: right;\n",
              "    }\n",
              "</style>\n",
              "<table border=\"1\" class=\"dataframe\">\n",
              "  <thead>\n",
              "    <tr style=\"text-align: right;\">\n",
              "      <th></th>\n",
              "      <th>Person</th>\n",
              "      <th>s_network1</th>\n",
              "      <th>s_network2</th>\n",
              "      <th>s_network3</th>\n",
              "      <th>s_network4</th>\n",
              "      <th>s_network5</th>\n",
              "    </tr>\n",
              "  </thead>\n",
              "  <tbody>\n",
              "    <tr>\n",
              "      <th>0</th>\n",
              "      <td>1</td>\n",
              "      <td>2</td>\n",
              "      <td>3.0</td>\n",
              "      <td>9.0</td>\n",
              "      <td>0.0</td>\n",
              "      <td>0.0</td>\n",
              "    </tr>\n",
              "    <tr>\n",
              "      <th>1</th>\n",
              "      <td>2</td>\n",
              "      <td>1</td>\n",
              "      <td>3.0</td>\n",
              "      <td>10.0</td>\n",
              "      <td>0.0</td>\n",
              "      <td>0.0</td>\n",
              "    </tr>\n",
              "    <tr>\n",
              "      <th>2</th>\n",
              "      <td>3</td>\n",
              "      <td>1</td>\n",
              "      <td>2.0</td>\n",
              "      <td>4.0</td>\n",
              "      <td>0.0</td>\n",
              "      <td>0.0</td>\n",
              "    </tr>\n",
              "    <tr>\n",
              "      <th>3</th>\n",
              "      <td>4</td>\n",
              "      <td>3</td>\n",
              "      <td>17.0</td>\n",
              "      <td>0.0</td>\n",
              "      <td>0.0</td>\n",
              "      <td>0.0</td>\n",
              "    </tr>\n",
              "    <tr>\n",
              "      <th>4</th>\n",
              "      <td>5</td>\n",
              "      <td>6</td>\n",
              "      <td>7.0</td>\n",
              "      <td>10.0</td>\n",
              "      <td>0.0</td>\n",
              "      <td>0.0</td>\n",
              "    </tr>\n",
              "    <tr>\n",
              "      <th>5</th>\n",
              "      <td>6</td>\n",
              "      <td>5</td>\n",
              "      <td>7.0</td>\n",
              "      <td>9.0</td>\n",
              "      <td>0.0</td>\n",
              "      <td>0.0</td>\n",
              "    </tr>\n",
              "    <tr>\n",
              "      <th>6</th>\n",
              "      <td>7</td>\n",
              "      <td>5</td>\n",
              "      <td>6.0</td>\n",
              "      <td>8.0</td>\n",
              "      <td>0.0</td>\n",
              "      <td>0.0</td>\n",
              "    </tr>\n",
              "    <tr>\n",
              "      <th>7</th>\n",
              "      <td>8</td>\n",
              "      <td>7</td>\n",
              "      <td>9.0</td>\n",
              "      <td>0.0</td>\n",
              "      <td>0.0</td>\n",
              "      <td>0.0</td>\n",
              "    </tr>\n",
              "    <tr>\n",
              "      <th>8</th>\n",
              "      <td>9</td>\n",
              "      <td>1</td>\n",
              "      <td>6.0</td>\n",
              "      <td>10.0</td>\n",
              "      <td>8.0</td>\n",
              "      <td>12.0</td>\n",
              "    </tr>\n",
              "    <tr>\n",
              "      <th>9</th>\n",
              "      <td>10</td>\n",
              "      <td>2</td>\n",
              "      <td>5.0</td>\n",
              "      <td>9.0</td>\n",
              "      <td>11.0</td>\n",
              "      <td>12.0</td>\n",
              "    </tr>\n",
              "    <tr>\n",
              "      <th>10</th>\n",
              "      <td>11</td>\n",
              "      <td>10</td>\n",
              "      <td>12.0</td>\n",
              "      <td>0.0</td>\n",
              "      <td>0.0</td>\n",
              "      <td>0.0</td>\n",
              "    </tr>\n",
              "    <tr>\n",
              "      <th>11</th>\n",
              "      <td>12</td>\n",
              "      <td>9</td>\n",
              "      <td>10.0</td>\n",
              "      <td>11.0</td>\n",
              "      <td>0.0</td>\n",
              "      <td>0.0</td>\n",
              "    </tr>\n",
              "    <tr>\n",
              "      <th>12</th>\n",
              "      <td>13</td>\n",
              "      <td>14</td>\n",
              "      <td>20.0</td>\n",
              "      <td>16.0</td>\n",
              "      <td>18.0</td>\n",
              "      <td>0.0</td>\n",
              "    </tr>\n",
              "    <tr>\n",
              "      <th>13</th>\n",
              "      <td>14</td>\n",
              "      <td>13</td>\n",
              "      <td>18.0</td>\n",
              "      <td>16.0</td>\n",
              "      <td>0.0</td>\n",
              "      <td>0.0</td>\n",
              "    </tr>\n",
              "    <tr>\n",
              "      <th>14</th>\n",
              "      <td>15</td>\n",
              "      <td>16</td>\n",
              "      <td>0.0</td>\n",
              "      <td>0.0</td>\n",
              "      <td>0.0</td>\n",
              "      <td>0.0</td>\n",
              "    </tr>\n",
              "    <tr>\n",
              "      <th>15</th>\n",
              "      <td>16</td>\n",
              "      <td>13</td>\n",
              "      <td>14.0</td>\n",
              "      <td>15.0</td>\n",
              "      <td>0.0</td>\n",
              "      <td>0.0</td>\n",
              "    </tr>\n",
              "    <tr>\n",
              "      <th>16</th>\n",
              "      <td>17</td>\n",
              "      <td>4</td>\n",
              "      <td>19.0</td>\n",
              "      <td>20.0</td>\n",
              "      <td>0.0</td>\n",
              "      <td>0.0</td>\n",
              "    </tr>\n",
              "    <tr>\n",
              "      <th>17</th>\n",
              "      <td>18</td>\n",
              "      <td>14</td>\n",
              "      <td>13.0</td>\n",
              "      <td>20.0</td>\n",
              "      <td>0.0</td>\n",
              "      <td>0.0</td>\n",
              "    </tr>\n",
              "    <tr>\n",
              "      <th>18</th>\n",
              "      <td>19</td>\n",
              "      <td>17</td>\n",
              "      <td>20.0</td>\n",
              "      <td>0.0</td>\n",
              "      <td>0.0</td>\n",
              "      <td>0.0</td>\n",
              "    </tr>\n",
              "    <tr>\n",
              "      <th>19</th>\n",
              "      <td>20</td>\n",
              "      <td>13</td>\n",
              "      <td>17.0</td>\n",
              "      <td>18.0</td>\n",
              "      <td>19.0</td>\n",
              "      <td>0.0</td>\n",
              "    </tr>\n",
              "  </tbody>\n",
              "</table>\n",
              "</div>\n",
              "      <button class=\"colab-df-convert\" onclick=\"convertToInteractive('df-e6588723-d96f-45a1-a12c-ba0f5885297c')\"\n",
              "              title=\"Convert this dataframe to an interactive table.\"\n",
              "              style=\"display:none;\">\n",
              "        \n",
              "  <svg xmlns=\"http://www.w3.org/2000/svg\" height=\"24px\"viewBox=\"0 0 24 24\"\n",
              "       width=\"24px\">\n",
              "    <path d=\"M0 0h24v24H0V0z\" fill=\"none\"/>\n",
              "    <path d=\"M18.56 5.44l.94 2.06.94-2.06 2.06-.94-2.06-.94-.94-2.06-.94 2.06-2.06.94zm-11 1L8.5 8.5l.94-2.06 2.06-.94-2.06-.94L8.5 2.5l-.94 2.06-2.06.94zm10 10l.94 2.06.94-2.06 2.06-.94-2.06-.94-.94-2.06-.94 2.06-2.06.94z\"/><path d=\"M17.41 7.96l-1.37-1.37c-.4-.4-.92-.59-1.43-.59-.52 0-1.04.2-1.43.59L10.3 9.45l-7.72 7.72c-.78.78-.78 2.05 0 2.83L4 21.41c.39.39.9.59 1.41.59.51 0 1.02-.2 1.41-.59l7.78-7.78 2.81-2.81c.8-.78.8-2.07 0-2.86zM5.41 20L4 18.59l7.72-7.72 1.47 1.35L5.41 20z\"/>\n",
              "  </svg>\n",
              "      </button>\n",
              "      \n",
              "  <style>\n",
              "    .colab-df-container {\n",
              "      display:flex;\n",
              "      flex-wrap:wrap;\n",
              "      gap: 12px;\n",
              "    }\n",
              "\n",
              "    .colab-df-convert {\n",
              "      background-color: #E8F0FE;\n",
              "      border: none;\n",
              "      border-radius: 50%;\n",
              "      cursor: pointer;\n",
              "      display: none;\n",
              "      fill: #1967D2;\n",
              "      height: 32px;\n",
              "      padding: 0 0 0 0;\n",
              "      width: 32px;\n",
              "    }\n",
              "\n",
              "    .colab-df-convert:hover {\n",
              "      background-color: #E2EBFA;\n",
              "      box-shadow: 0px 1px 2px rgba(60, 64, 67, 0.3), 0px 1px 3px 1px rgba(60, 64, 67, 0.15);\n",
              "      fill: #174EA6;\n",
              "    }\n",
              "\n",
              "    [theme=dark] .colab-df-convert {\n",
              "      background-color: #3B4455;\n",
              "      fill: #D2E3FC;\n",
              "    }\n",
              "\n",
              "    [theme=dark] .colab-df-convert:hover {\n",
              "      background-color: #434B5C;\n",
              "      box-shadow: 0px 1px 3px 1px rgba(0, 0, 0, 0.15);\n",
              "      filter: drop-shadow(0px 1px 2px rgba(0, 0, 0, 0.3));\n",
              "      fill: #FFFFFF;\n",
              "    }\n",
              "  </style>\n",
              "\n",
              "      <script>\n",
              "        const buttonEl =\n",
              "          document.querySelector('#df-e6588723-d96f-45a1-a12c-ba0f5885297c button.colab-df-convert');\n",
              "        buttonEl.style.display =\n",
              "          google.colab.kernel.accessAllowed ? 'block' : 'none';\n",
              "\n",
              "        async function convertToInteractive(key) {\n",
              "          const element = document.querySelector('#df-e6588723-d96f-45a1-a12c-ba0f5885297c');\n",
              "          const dataTable =\n",
              "            await google.colab.kernel.invokeFunction('convertToInteractive',\n",
              "                                                     [key], {});\n",
              "          if (!dataTable) return;\n",
              "\n",
              "          const docLinkHtml = 'Like what you see? Visit the ' +\n",
              "            '<a target=\"_blank\" href=https://colab.research.google.com/notebooks/data_table.ipynb>data table notebook</a>'\n",
              "            + ' to learn more about interactive tables.';\n",
              "          element.innerHTML = '';\n",
              "          dataTable['output_type'] = 'display_data';\n",
              "          await google.colab.output.renderOutput(dataTable, element);\n",
              "          const docLink = document.createElement('div');\n",
              "          docLink.innerHTML = docLinkHtml;\n",
              "          element.appendChild(docLink);\n",
              "        }\n",
              "      </script>\n",
              "    </div>\n",
              "  </div>\n",
              "  "
            ]
          },
          "metadata": {},
          "execution_count": 66
        }
      ]
    },
    {
      "cell_type": "code",
      "source": [
        "large.fillna(0, inplace=True)"
      ],
      "metadata": {
        "id": "6xZdHnXmgYF1"
      },
      "execution_count": 67,
      "outputs": []
    },
    {
      "cell_type": "code",
      "source": [
        "large"
      ],
      "metadata": {
        "colab": {
          "base_uri": "https://localhost:8080/",
          "height": 1000
        },
        "id": "3igARrkYh7Vb",
        "outputId": "cd1f9208-9aa8-4610-e793-9576507a214b"
      },
      "execution_count": 68,
      "outputs": [
        {
          "output_type": "execute_result",
          "data": {
            "text/plain": [
              "    Person  s_network1  s_network2  s_network3  s_network4  s_network5  \\\n",
              "0        1           2           3        25.0         5.0        47.0   \n",
              "1        2           1          24        16.0        26.0         0.0   \n",
              "2        3           1           4         5.0         0.0         0.0   \n",
              "3        4           3           5         0.0         0.0         0.0   \n",
              "4        5           1           3         4.0         0.0         0.0   \n",
              "5        6          39          22        32.0        23.0         0.0   \n",
              "6        7           8           9        10.0         0.0         0.0   \n",
              "7        8           7           9        10.0         0.0         0.0   \n",
              "8        9           7           8        26.0        29.0         0.0   \n",
              "9       10           7           8        21.0         0.0         0.0   \n",
              "10      11          12          13        33.0        22.0        46.0   \n",
              "11      12          11          13        47.0        15.0        17.0   \n",
              "12      13          11          12        14.0        15.0         0.0   \n",
              "13      14          13          15         0.0         0.0         0.0   \n",
              "14      15          12          13        14.0         0.0         0.0   \n",
              "15      16           2          42        27.0        19.0        48.0   \n",
              "16      17          12          19        20.0        22.0         0.0   \n",
              "17      18          12          20         0.0         0.0         0.0   \n",
              "18      19          16          17        36.0        31.0         0.0   \n",
              "19      20          17          18        26.0        32.0         0.0   \n",
              "20      21          22          10        44.0        25.0         0.0   \n",
              "21      22           6          11        21.0        17.0        24.0   \n",
              "22      23           6          24        25.0        38.0         0.0   \n",
              "23      24           2          22        23.0        25.0         0.0   \n",
              "24      25           1          21        22.0        23.0        24.0   \n",
              "25      26           2           9        12.0        28.0        20.0   \n",
              "26      27          16          12        29.0        30.0         0.0   \n",
              "27      28          26          29        30.0         0.0         0.0   \n",
              "28      29          27          28         9.0         0.0         0.0   \n",
              "29      30          27          28         0.0         0.0         0.0   \n",
              "30      31          32          19        41.0        25.0         0.0   \n",
              "31      32           6          31        33.0        34.0        20.0   \n",
              "32      33          11          32        34.0        35.0         0.0   \n",
              "33      34          32          33        35.0         0.0         0.0   \n",
              "34      35          33          34         0.0         0.0         0.0   \n",
              "35      36          19          37        38.0        39.0        40.0   \n",
              "36      37          36          38        39.0        40.0         0.0   \n",
              "37      38          36          37        23.0        25.0         0.0   \n",
              "38      39           6          36        37.0        40.0         0.0   \n",
              "39      40          36          37        39.0         0.0         0.0   \n",
              "40      41          31          42        43.0        44.0        45.0   \n",
              "41      42          16          41        43.0        48.0        22.0   \n",
              "42      43          41          42        44.0        45.0         0.0   \n",
              "43      44          21          41        43.0        45.0         0.0   \n",
              "44      45          41          43        44.0         0.0         0.0   \n",
              "45      46          47          11        49.0        50.0         0.0   \n",
              "46      47          12          46        25.0         1.0        50.0   \n",
              "47      48          16          42        49.0        50.0         0.0   \n",
              "48      49          46          48        50.0         0.0         0.0   \n",
              "49      50          46          47        48.0        49.0         0.0   \n",
              "\n",
              "    s_network6  s_network7  s_network8  \n",
              "0          0.0         0.0         0.0  \n",
              "1          0.0         0.0         0.0  \n",
              "2          0.0         0.0         0.0  \n",
              "3          0.0         0.0         0.0  \n",
              "4          0.0         0.0         0.0  \n",
              "5          0.0         0.0         0.0  \n",
              "6          0.0         0.0         0.0  \n",
              "7          0.0         0.0         0.0  \n",
              "8          0.0         0.0         0.0  \n",
              "9          0.0         0.0         0.0  \n",
              "10         0.0         0.0         0.0  \n",
              "11        18.0        26.0        27.0  \n",
              "12         0.0         0.0         0.0  \n",
              "13         0.0         0.0         0.0  \n",
              "14         0.0         0.0         0.0  \n",
              "15        26.0         0.0         0.0  \n",
              "16         0.0         0.0         0.0  \n",
              "17         0.0         0.0         0.0  \n",
              "18         0.0         0.0         0.0  \n",
              "19         0.0         0.0         0.0  \n",
              "20         0.0         0.0         0.0  \n",
              "21        25.0        42.0         0.0  \n",
              "22         0.0         0.0         0.0  \n",
              "23         0.0         0.0         0.0  \n",
              "24        31.0        38.0        47.0  \n",
              "25        16.0         0.0         0.0  \n",
              "26         0.0         0.0         0.0  \n",
              "27         0.0         0.0         0.0  \n",
              "28         0.0         0.0         0.0  \n",
              "29         0.0         0.0         0.0  \n",
              "30         0.0         0.0         0.0  \n",
              "31         0.0         0.0         0.0  \n",
              "32         0.0         0.0         0.0  \n",
              "33         0.0         0.0         0.0  \n",
              "34         0.0         0.0         0.0  \n",
              "35         0.0         0.0         0.0  \n",
              "36         0.0         0.0         0.0  \n",
              "37         0.0         0.0         0.0  \n",
              "38         0.0         0.0         0.0  \n",
              "39         0.0         0.0         0.0  \n",
              "40         0.0         0.0         0.0  \n",
              "41         0.0         0.0         0.0  \n",
              "42         0.0         0.0         0.0  \n",
              "43         0.0         0.0         0.0  \n",
              "44         0.0         0.0         0.0  \n",
              "45         0.0         0.0         0.0  \n",
              "46         0.0         0.0         0.0  \n",
              "47         0.0         0.0         0.0  \n",
              "48         0.0         0.0         0.0  \n",
              "49         0.0         0.0         0.0  "
            ],
            "text/html": [
              "\n",
              "  <div id=\"df-0abec029-cdb3-4418-8798-be2ab57e2404\">\n",
              "    <div class=\"colab-df-container\">\n",
              "      <div>\n",
              "<style scoped>\n",
              "    .dataframe tbody tr th:only-of-type {\n",
              "        vertical-align: middle;\n",
              "    }\n",
              "\n",
              "    .dataframe tbody tr th {\n",
              "        vertical-align: top;\n",
              "    }\n",
              "\n",
              "    .dataframe thead th {\n",
              "        text-align: right;\n",
              "    }\n",
              "</style>\n",
              "<table border=\"1\" class=\"dataframe\">\n",
              "  <thead>\n",
              "    <tr style=\"text-align: right;\">\n",
              "      <th></th>\n",
              "      <th>Person</th>\n",
              "      <th>s_network1</th>\n",
              "      <th>s_network2</th>\n",
              "      <th>s_network3</th>\n",
              "      <th>s_network4</th>\n",
              "      <th>s_network5</th>\n",
              "      <th>s_network6</th>\n",
              "      <th>s_network7</th>\n",
              "      <th>s_network8</th>\n",
              "    </tr>\n",
              "  </thead>\n",
              "  <tbody>\n",
              "    <tr>\n",
              "      <th>0</th>\n",
              "      <td>1</td>\n",
              "      <td>2</td>\n",
              "      <td>3</td>\n",
              "      <td>25.0</td>\n",
              "      <td>5.0</td>\n",
              "      <td>47.0</td>\n",
              "      <td>0.0</td>\n",
              "      <td>0.0</td>\n",
              "      <td>0.0</td>\n",
              "    </tr>\n",
              "    <tr>\n",
              "      <th>1</th>\n",
              "      <td>2</td>\n",
              "      <td>1</td>\n",
              "      <td>24</td>\n",
              "      <td>16.0</td>\n",
              "      <td>26.0</td>\n",
              "      <td>0.0</td>\n",
              "      <td>0.0</td>\n",
              "      <td>0.0</td>\n",
              "      <td>0.0</td>\n",
              "    </tr>\n",
              "    <tr>\n",
              "      <th>2</th>\n",
              "      <td>3</td>\n",
              "      <td>1</td>\n",
              "      <td>4</td>\n",
              "      <td>5.0</td>\n",
              "      <td>0.0</td>\n",
              "      <td>0.0</td>\n",
              "      <td>0.0</td>\n",
              "      <td>0.0</td>\n",
              "      <td>0.0</td>\n",
              "    </tr>\n",
              "    <tr>\n",
              "      <th>3</th>\n",
              "      <td>4</td>\n",
              "      <td>3</td>\n",
              "      <td>5</td>\n",
              "      <td>0.0</td>\n",
              "      <td>0.0</td>\n",
              "      <td>0.0</td>\n",
              "      <td>0.0</td>\n",
              "      <td>0.0</td>\n",
              "      <td>0.0</td>\n",
              "    </tr>\n",
              "    <tr>\n",
              "      <th>4</th>\n",
              "      <td>5</td>\n",
              "      <td>1</td>\n",
              "      <td>3</td>\n",
              "      <td>4.0</td>\n",
              "      <td>0.0</td>\n",
              "      <td>0.0</td>\n",
              "      <td>0.0</td>\n",
              "      <td>0.0</td>\n",
              "      <td>0.0</td>\n",
              "    </tr>\n",
              "    <tr>\n",
              "      <th>5</th>\n",
              "      <td>6</td>\n",
              "      <td>39</td>\n",
              "      <td>22</td>\n",
              "      <td>32.0</td>\n",
              "      <td>23.0</td>\n",
              "      <td>0.0</td>\n",
              "      <td>0.0</td>\n",
              "      <td>0.0</td>\n",
              "      <td>0.0</td>\n",
              "    </tr>\n",
              "    <tr>\n",
              "      <th>6</th>\n",
              "      <td>7</td>\n",
              "      <td>8</td>\n",
              "      <td>9</td>\n",
              "      <td>10.0</td>\n",
              "      <td>0.0</td>\n",
              "      <td>0.0</td>\n",
              "      <td>0.0</td>\n",
              "      <td>0.0</td>\n",
              "      <td>0.0</td>\n",
              "    </tr>\n",
              "    <tr>\n",
              "      <th>7</th>\n",
              "      <td>8</td>\n",
              "      <td>7</td>\n",
              "      <td>9</td>\n",
              "      <td>10.0</td>\n",
              "      <td>0.0</td>\n",
              "      <td>0.0</td>\n",
              "      <td>0.0</td>\n",
              "      <td>0.0</td>\n",
              "      <td>0.0</td>\n",
              "    </tr>\n",
              "    <tr>\n",
              "      <th>8</th>\n",
              "      <td>9</td>\n",
              "      <td>7</td>\n",
              "      <td>8</td>\n",
              "      <td>26.0</td>\n",
              "      <td>29.0</td>\n",
              "      <td>0.0</td>\n",
              "      <td>0.0</td>\n",
              "      <td>0.0</td>\n",
              "      <td>0.0</td>\n",
              "    </tr>\n",
              "    <tr>\n",
              "      <th>9</th>\n",
              "      <td>10</td>\n",
              "      <td>7</td>\n",
              "      <td>8</td>\n",
              "      <td>21.0</td>\n",
              "      <td>0.0</td>\n",
              "      <td>0.0</td>\n",
              "      <td>0.0</td>\n",
              "      <td>0.0</td>\n",
              "      <td>0.0</td>\n",
              "    </tr>\n",
              "    <tr>\n",
              "      <th>10</th>\n",
              "      <td>11</td>\n",
              "      <td>12</td>\n",
              "      <td>13</td>\n",
              "      <td>33.0</td>\n",
              "      <td>22.0</td>\n",
              "      <td>46.0</td>\n",
              "      <td>0.0</td>\n",
              "      <td>0.0</td>\n",
              "      <td>0.0</td>\n",
              "    </tr>\n",
              "    <tr>\n",
              "      <th>11</th>\n",
              "      <td>12</td>\n",
              "      <td>11</td>\n",
              "      <td>13</td>\n",
              "      <td>47.0</td>\n",
              "      <td>15.0</td>\n",
              "      <td>17.0</td>\n",
              "      <td>18.0</td>\n",
              "      <td>26.0</td>\n",
              "      <td>27.0</td>\n",
              "    </tr>\n",
              "    <tr>\n",
              "      <th>12</th>\n",
              "      <td>13</td>\n",
              "      <td>11</td>\n",
              "      <td>12</td>\n",
              "      <td>14.0</td>\n",
              "      <td>15.0</td>\n",
              "      <td>0.0</td>\n",
              "      <td>0.0</td>\n",
              "      <td>0.0</td>\n",
              "      <td>0.0</td>\n",
              "    </tr>\n",
              "    <tr>\n",
              "      <th>13</th>\n",
              "      <td>14</td>\n",
              "      <td>13</td>\n",
              "      <td>15</td>\n",
              "      <td>0.0</td>\n",
              "      <td>0.0</td>\n",
              "      <td>0.0</td>\n",
              "      <td>0.0</td>\n",
              "      <td>0.0</td>\n",
              "      <td>0.0</td>\n",
              "    </tr>\n",
              "    <tr>\n",
              "      <th>14</th>\n",
              "      <td>15</td>\n",
              "      <td>12</td>\n",
              "      <td>13</td>\n",
              "      <td>14.0</td>\n",
              "      <td>0.0</td>\n",
              "      <td>0.0</td>\n",
              "      <td>0.0</td>\n",
              "      <td>0.0</td>\n",
              "      <td>0.0</td>\n",
              "    </tr>\n",
              "    <tr>\n",
              "      <th>15</th>\n",
              "      <td>16</td>\n",
              "      <td>2</td>\n",
              "      <td>42</td>\n",
              "      <td>27.0</td>\n",
              "      <td>19.0</td>\n",
              "      <td>48.0</td>\n",
              "      <td>26.0</td>\n",
              "      <td>0.0</td>\n",
              "      <td>0.0</td>\n",
              "    </tr>\n",
              "    <tr>\n",
              "      <th>16</th>\n",
              "      <td>17</td>\n",
              "      <td>12</td>\n",
              "      <td>19</td>\n",
              "      <td>20.0</td>\n",
              "      <td>22.0</td>\n",
              "      <td>0.0</td>\n",
              "      <td>0.0</td>\n",
              "      <td>0.0</td>\n",
              "      <td>0.0</td>\n",
              "    </tr>\n",
              "    <tr>\n",
              "      <th>17</th>\n",
              "      <td>18</td>\n",
              "      <td>12</td>\n",
              "      <td>20</td>\n",
              "      <td>0.0</td>\n",
              "      <td>0.0</td>\n",
              "      <td>0.0</td>\n",
              "      <td>0.0</td>\n",
              "      <td>0.0</td>\n",
              "      <td>0.0</td>\n",
              "    </tr>\n",
              "    <tr>\n",
              "      <th>18</th>\n",
              "      <td>19</td>\n",
              "      <td>16</td>\n",
              "      <td>17</td>\n",
              "      <td>36.0</td>\n",
              "      <td>31.0</td>\n",
              "      <td>0.0</td>\n",
              "      <td>0.0</td>\n",
              "      <td>0.0</td>\n",
              "      <td>0.0</td>\n",
              "    </tr>\n",
              "    <tr>\n",
              "      <th>19</th>\n",
              "      <td>20</td>\n",
              "      <td>17</td>\n",
              "      <td>18</td>\n",
              "      <td>26.0</td>\n",
              "      <td>32.0</td>\n",
              "      <td>0.0</td>\n",
              "      <td>0.0</td>\n",
              "      <td>0.0</td>\n",
              "      <td>0.0</td>\n",
              "    </tr>\n",
              "    <tr>\n",
              "      <th>20</th>\n",
              "      <td>21</td>\n",
              "      <td>22</td>\n",
              "      <td>10</td>\n",
              "      <td>44.0</td>\n",
              "      <td>25.0</td>\n",
              "      <td>0.0</td>\n",
              "      <td>0.0</td>\n",
              "      <td>0.0</td>\n",
              "      <td>0.0</td>\n",
              "    </tr>\n",
              "    <tr>\n",
              "      <th>21</th>\n",
              "      <td>22</td>\n",
              "      <td>6</td>\n",
              "      <td>11</td>\n",
              "      <td>21.0</td>\n",
              "      <td>17.0</td>\n",
              "      <td>24.0</td>\n",
              "      <td>25.0</td>\n",
              "      <td>42.0</td>\n",
              "      <td>0.0</td>\n",
              "    </tr>\n",
              "    <tr>\n",
              "      <th>22</th>\n",
              "      <td>23</td>\n",
              "      <td>6</td>\n",
              "      <td>24</td>\n",
              "      <td>25.0</td>\n",
              "      <td>38.0</td>\n",
              "      <td>0.0</td>\n",
              "      <td>0.0</td>\n",
              "      <td>0.0</td>\n",
              "      <td>0.0</td>\n",
              "    </tr>\n",
              "    <tr>\n",
              "      <th>23</th>\n",
              "      <td>24</td>\n",
              "      <td>2</td>\n",
              "      <td>22</td>\n",
              "      <td>23.0</td>\n",
              "      <td>25.0</td>\n",
              "      <td>0.0</td>\n",
              "      <td>0.0</td>\n",
              "      <td>0.0</td>\n",
              "      <td>0.0</td>\n",
              "    </tr>\n",
              "    <tr>\n",
              "      <th>24</th>\n",
              "      <td>25</td>\n",
              "      <td>1</td>\n",
              "      <td>21</td>\n",
              "      <td>22.0</td>\n",
              "      <td>23.0</td>\n",
              "      <td>24.0</td>\n",
              "      <td>31.0</td>\n",
              "      <td>38.0</td>\n",
              "      <td>47.0</td>\n",
              "    </tr>\n",
              "    <tr>\n",
              "      <th>25</th>\n",
              "      <td>26</td>\n",
              "      <td>2</td>\n",
              "      <td>9</td>\n",
              "      <td>12.0</td>\n",
              "      <td>28.0</td>\n",
              "      <td>20.0</td>\n",
              "      <td>16.0</td>\n",
              "      <td>0.0</td>\n",
              "      <td>0.0</td>\n",
              "    </tr>\n",
              "    <tr>\n",
              "      <th>26</th>\n",
              "      <td>27</td>\n",
              "      <td>16</td>\n",
              "      <td>12</td>\n",
              "      <td>29.0</td>\n",
              "      <td>30.0</td>\n",
              "      <td>0.0</td>\n",
              "      <td>0.0</td>\n",
              "      <td>0.0</td>\n",
              "      <td>0.0</td>\n",
              "    </tr>\n",
              "    <tr>\n",
              "      <th>27</th>\n",
              "      <td>28</td>\n",
              "      <td>26</td>\n",
              "      <td>29</td>\n",
              "      <td>30.0</td>\n",
              "      <td>0.0</td>\n",
              "      <td>0.0</td>\n",
              "      <td>0.0</td>\n",
              "      <td>0.0</td>\n",
              "      <td>0.0</td>\n",
              "    </tr>\n",
              "    <tr>\n",
              "      <th>28</th>\n",
              "      <td>29</td>\n",
              "      <td>27</td>\n",
              "      <td>28</td>\n",
              "      <td>9.0</td>\n",
              "      <td>0.0</td>\n",
              "      <td>0.0</td>\n",
              "      <td>0.0</td>\n",
              "      <td>0.0</td>\n",
              "      <td>0.0</td>\n",
              "    </tr>\n",
              "    <tr>\n",
              "      <th>29</th>\n",
              "      <td>30</td>\n",
              "      <td>27</td>\n",
              "      <td>28</td>\n",
              "      <td>0.0</td>\n",
              "      <td>0.0</td>\n",
              "      <td>0.0</td>\n",
              "      <td>0.0</td>\n",
              "      <td>0.0</td>\n",
              "      <td>0.0</td>\n",
              "    </tr>\n",
              "    <tr>\n",
              "      <th>30</th>\n",
              "      <td>31</td>\n",
              "      <td>32</td>\n",
              "      <td>19</td>\n",
              "      <td>41.0</td>\n",
              "      <td>25.0</td>\n",
              "      <td>0.0</td>\n",
              "      <td>0.0</td>\n",
              "      <td>0.0</td>\n",
              "      <td>0.0</td>\n",
              "    </tr>\n",
              "    <tr>\n",
              "      <th>31</th>\n",
              "      <td>32</td>\n",
              "      <td>6</td>\n",
              "      <td>31</td>\n",
              "      <td>33.0</td>\n",
              "      <td>34.0</td>\n",
              "      <td>20.0</td>\n",
              "      <td>0.0</td>\n",
              "      <td>0.0</td>\n",
              "      <td>0.0</td>\n",
              "    </tr>\n",
              "    <tr>\n",
              "      <th>32</th>\n",
              "      <td>33</td>\n",
              "      <td>11</td>\n",
              "      <td>32</td>\n",
              "      <td>34.0</td>\n",
              "      <td>35.0</td>\n",
              "      <td>0.0</td>\n",
              "      <td>0.0</td>\n",
              "      <td>0.0</td>\n",
              "      <td>0.0</td>\n",
              "    </tr>\n",
              "    <tr>\n",
              "      <th>33</th>\n",
              "      <td>34</td>\n",
              "      <td>32</td>\n",
              "      <td>33</td>\n",
              "      <td>35.0</td>\n",
              "      <td>0.0</td>\n",
              "      <td>0.0</td>\n",
              "      <td>0.0</td>\n",
              "      <td>0.0</td>\n",
              "      <td>0.0</td>\n",
              "    </tr>\n",
              "    <tr>\n",
              "      <th>34</th>\n",
              "      <td>35</td>\n",
              "      <td>33</td>\n",
              "      <td>34</td>\n",
              "      <td>0.0</td>\n",
              "      <td>0.0</td>\n",
              "      <td>0.0</td>\n",
              "      <td>0.0</td>\n",
              "      <td>0.0</td>\n",
              "      <td>0.0</td>\n",
              "    </tr>\n",
              "    <tr>\n",
              "      <th>35</th>\n",
              "      <td>36</td>\n",
              "      <td>19</td>\n",
              "      <td>37</td>\n",
              "      <td>38.0</td>\n",
              "      <td>39.0</td>\n",
              "      <td>40.0</td>\n",
              "      <td>0.0</td>\n",
              "      <td>0.0</td>\n",
              "      <td>0.0</td>\n",
              "    </tr>\n",
              "    <tr>\n",
              "      <th>36</th>\n",
              "      <td>37</td>\n",
              "      <td>36</td>\n",
              "      <td>38</td>\n",
              "      <td>39.0</td>\n",
              "      <td>40.0</td>\n",
              "      <td>0.0</td>\n",
              "      <td>0.0</td>\n",
              "      <td>0.0</td>\n",
              "      <td>0.0</td>\n",
              "    </tr>\n",
              "    <tr>\n",
              "      <th>37</th>\n",
              "      <td>38</td>\n",
              "      <td>36</td>\n",
              "      <td>37</td>\n",
              "      <td>23.0</td>\n",
              "      <td>25.0</td>\n",
              "      <td>0.0</td>\n",
              "      <td>0.0</td>\n",
              "      <td>0.0</td>\n",
              "      <td>0.0</td>\n",
              "    </tr>\n",
              "    <tr>\n",
              "      <th>38</th>\n",
              "      <td>39</td>\n",
              "      <td>6</td>\n",
              "      <td>36</td>\n",
              "      <td>37.0</td>\n",
              "      <td>40.0</td>\n",
              "      <td>0.0</td>\n",
              "      <td>0.0</td>\n",
              "      <td>0.0</td>\n",
              "      <td>0.0</td>\n",
              "    </tr>\n",
              "    <tr>\n",
              "      <th>39</th>\n",
              "      <td>40</td>\n",
              "      <td>36</td>\n",
              "      <td>37</td>\n",
              "      <td>39.0</td>\n",
              "      <td>0.0</td>\n",
              "      <td>0.0</td>\n",
              "      <td>0.0</td>\n",
              "      <td>0.0</td>\n",
              "      <td>0.0</td>\n",
              "    </tr>\n",
              "    <tr>\n",
              "      <th>40</th>\n",
              "      <td>41</td>\n",
              "      <td>31</td>\n",
              "      <td>42</td>\n",
              "      <td>43.0</td>\n",
              "      <td>44.0</td>\n",
              "      <td>45.0</td>\n",
              "      <td>0.0</td>\n",
              "      <td>0.0</td>\n",
              "      <td>0.0</td>\n",
              "    </tr>\n",
              "    <tr>\n",
              "      <th>41</th>\n",
              "      <td>42</td>\n",
              "      <td>16</td>\n",
              "      <td>41</td>\n",
              "      <td>43.0</td>\n",
              "      <td>48.0</td>\n",
              "      <td>22.0</td>\n",
              "      <td>0.0</td>\n",
              "      <td>0.0</td>\n",
              "      <td>0.0</td>\n",
              "    </tr>\n",
              "    <tr>\n",
              "      <th>42</th>\n",
              "      <td>43</td>\n",
              "      <td>41</td>\n",
              "      <td>42</td>\n",
              "      <td>44.0</td>\n",
              "      <td>45.0</td>\n",
              "      <td>0.0</td>\n",
              "      <td>0.0</td>\n",
              "      <td>0.0</td>\n",
              "      <td>0.0</td>\n",
              "    </tr>\n",
              "    <tr>\n",
              "      <th>43</th>\n",
              "      <td>44</td>\n",
              "      <td>21</td>\n",
              "      <td>41</td>\n",
              "      <td>43.0</td>\n",
              "      <td>45.0</td>\n",
              "      <td>0.0</td>\n",
              "      <td>0.0</td>\n",
              "      <td>0.0</td>\n",
              "      <td>0.0</td>\n",
              "    </tr>\n",
              "    <tr>\n",
              "      <th>44</th>\n",
              "      <td>45</td>\n",
              "      <td>41</td>\n",
              "      <td>43</td>\n",
              "      <td>44.0</td>\n",
              "      <td>0.0</td>\n",
              "      <td>0.0</td>\n",
              "      <td>0.0</td>\n",
              "      <td>0.0</td>\n",
              "      <td>0.0</td>\n",
              "    </tr>\n",
              "    <tr>\n",
              "      <th>45</th>\n",
              "      <td>46</td>\n",
              "      <td>47</td>\n",
              "      <td>11</td>\n",
              "      <td>49.0</td>\n",
              "      <td>50.0</td>\n",
              "      <td>0.0</td>\n",
              "      <td>0.0</td>\n",
              "      <td>0.0</td>\n",
              "      <td>0.0</td>\n",
              "    </tr>\n",
              "    <tr>\n",
              "      <th>46</th>\n",
              "      <td>47</td>\n",
              "      <td>12</td>\n",
              "      <td>46</td>\n",
              "      <td>25.0</td>\n",
              "      <td>1.0</td>\n",
              "      <td>50.0</td>\n",
              "      <td>0.0</td>\n",
              "      <td>0.0</td>\n",
              "      <td>0.0</td>\n",
              "    </tr>\n",
              "    <tr>\n",
              "      <th>47</th>\n",
              "      <td>48</td>\n",
              "      <td>16</td>\n",
              "      <td>42</td>\n",
              "      <td>49.0</td>\n",
              "      <td>50.0</td>\n",
              "      <td>0.0</td>\n",
              "      <td>0.0</td>\n",
              "      <td>0.0</td>\n",
              "      <td>0.0</td>\n",
              "    </tr>\n",
              "    <tr>\n",
              "      <th>48</th>\n",
              "      <td>49</td>\n",
              "      <td>46</td>\n",
              "      <td>48</td>\n",
              "      <td>50.0</td>\n",
              "      <td>0.0</td>\n",
              "      <td>0.0</td>\n",
              "      <td>0.0</td>\n",
              "      <td>0.0</td>\n",
              "      <td>0.0</td>\n",
              "    </tr>\n",
              "    <tr>\n",
              "      <th>49</th>\n",
              "      <td>50</td>\n",
              "      <td>46</td>\n",
              "      <td>47</td>\n",
              "      <td>48.0</td>\n",
              "      <td>49.0</td>\n",
              "      <td>0.0</td>\n",
              "      <td>0.0</td>\n",
              "      <td>0.0</td>\n",
              "      <td>0.0</td>\n",
              "    </tr>\n",
              "  </tbody>\n",
              "</table>\n",
              "</div>\n",
              "      <button class=\"colab-df-convert\" onclick=\"convertToInteractive('df-0abec029-cdb3-4418-8798-be2ab57e2404')\"\n",
              "              title=\"Convert this dataframe to an interactive table.\"\n",
              "              style=\"display:none;\">\n",
              "        \n",
              "  <svg xmlns=\"http://www.w3.org/2000/svg\" height=\"24px\"viewBox=\"0 0 24 24\"\n",
              "       width=\"24px\">\n",
              "    <path d=\"M0 0h24v24H0V0z\" fill=\"none\"/>\n",
              "    <path d=\"M18.56 5.44l.94 2.06.94-2.06 2.06-.94-2.06-.94-.94-2.06-.94 2.06-2.06.94zm-11 1L8.5 8.5l.94-2.06 2.06-.94-2.06-.94L8.5 2.5l-.94 2.06-2.06.94zm10 10l.94 2.06.94-2.06 2.06-.94-2.06-.94-.94-2.06-.94 2.06-2.06.94z\"/><path d=\"M17.41 7.96l-1.37-1.37c-.4-.4-.92-.59-1.43-.59-.52 0-1.04.2-1.43.59L10.3 9.45l-7.72 7.72c-.78.78-.78 2.05 0 2.83L4 21.41c.39.39.9.59 1.41.59.51 0 1.02-.2 1.41-.59l7.78-7.78 2.81-2.81c.8-.78.8-2.07 0-2.86zM5.41 20L4 18.59l7.72-7.72 1.47 1.35L5.41 20z\"/>\n",
              "  </svg>\n",
              "      </button>\n",
              "      \n",
              "  <style>\n",
              "    .colab-df-container {\n",
              "      display:flex;\n",
              "      flex-wrap:wrap;\n",
              "      gap: 12px;\n",
              "    }\n",
              "\n",
              "    .colab-df-convert {\n",
              "      background-color: #E8F0FE;\n",
              "      border: none;\n",
              "      border-radius: 50%;\n",
              "      cursor: pointer;\n",
              "      display: none;\n",
              "      fill: #1967D2;\n",
              "      height: 32px;\n",
              "      padding: 0 0 0 0;\n",
              "      width: 32px;\n",
              "    }\n",
              "\n",
              "    .colab-df-convert:hover {\n",
              "      background-color: #E2EBFA;\n",
              "      box-shadow: 0px 1px 2px rgba(60, 64, 67, 0.3), 0px 1px 3px 1px rgba(60, 64, 67, 0.15);\n",
              "      fill: #174EA6;\n",
              "    }\n",
              "\n",
              "    [theme=dark] .colab-df-convert {\n",
              "      background-color: #3B4455;\n",
              "      fill: #D2E3FC;\n",
              "    }\n",
              "\n",
              "    [theme=dark] .colab-df-convert:hover {\n",
              "      background-color: #434B5C;\n",
              "      box-shadow: 0px 1px 3px 1px rgba(0, 0, 0, 0.15);\n",
              "      filter: drop-shadow(0px 1px 2px rgba(0, 0, 0, 0.3));\n",
              "      fill: #FFFFFF;\n",
              "    }\n",
              "  </style>\n",
              "\n",
              "      <script>\n",
              "        const buttonEl =\n",
              "          document.querySelector('#df-0abec029-cdb3-4418-8798-be2ab57e2404 button.colab-df-convert');\n",
              "        buttonEl.style.display =\n",
              "          google.colab.kernel.accessAllowed ? 'block' : 'none';\n",
              "\n",
              "        async function convertToInteractive(key) {\n",
              "          const element = document.querySelector('#df-0abec029-cdb3-4418-8798-be2ab57e2404');\n",
              "          const dataTable =\n",
              "            await google.colab.kernel.invokeFunction('convertToInteractive',\n",
              "                                                     [key], {});\n",
              "          if (!dataTable) return;\n",
              "\n",
              "          const docLinkHtml = 'Like what you see? Visit the ' +\n",
              "            '<a target=\"_blank\" href=https://colab.research.google.com/notebooks/data_table.ipynb>data table notebook</a>'\n",
              "            + ' to learn more about interactive tables.';\n",
              "          element.innerHTML = '';\n",
              "          dataTable['output_type'] = 'display_data';\n",
              "          await google.colab.output.renderOutput(dataTable, element);\n",
              "          const docLink = document.createElement('div');\n",
              "          docLink.innerHTML = docLinkHtml;\n",
              "          element.appendChild(docLink);\n",
              "        }\n",
              "      </script>\n",
              "    </div>\n",
              "  </div>\n",
              "  "
            ]
          },
          "metadata": {},
          "execution_count": 68
        }
      ]
    },
    {
      "cell_type": "markdown",
      "source": [
        "## **Problem 1a**"
      ],
      "metadata": {
        "id": "sp8D0WRXEVfS"
      }
    },
    {
      "cell_type": "markdown",
      "source": [
        "### Small Network"
      ],
      "metadata": {
        "id": "r_GxDCNkEYN9"
      }
    },
    {
      "cell_type": "code",
      "source": [
        "network_columns = small.columns[1:]  # Exclude the 'Person' column\n",
        "\n",
        "for network_col in network_columns:\n",
        "    # Calculate the number of links\n",
        "    total_links = small[network_col].sum() / 2\n",
        "\n",
        "    # Calculate the number of possible links\n",
        "    num_nodes = len(small)\n",
        "    possible_links = (num_nodes * (num_nodes - 1)) / 2\n",
        "\n",
        "    # Calculate the density\n",
        "    density = total_links / possible_links\n",
        "\n",
        "    print(f\"Density of {network_col}: {density}\")\n"
      ],
      "metadata": {
        "colab": {
          "base_uri": "https://localhost:8080/"
        },
        "id": "6ltkvday4lYS",
        "outputId": "ebd2faf5-f175-4f68-ccc8-52918f7b4801"
      },
      "execution_count": 69,
      "outputs": [
        {
          "output_type": "stream",
          "name": "stdout",
          "text": [
            "Density of s_network1: 0.4105263157894737\n",
            "Density of s_network2: 0.5473684210526316\n",
            "Density of s_network3: 0.4868421052631579\n",
            "Density of s_network4: 0.14736842105263157\n",
            "Density of s_network5: 0.06315789473684211\n"
          ]
        }
      ]
    },
    {
      "cell_type": "markdown",
      "source": [
        "### Large Network"
      ],
      "metadata": {
        "id": "9QKfrJQeEkSn"
      }
    },
    {
      "cell_type": "code",
      "source": [
        "\n",
        "network_columns = large.columns[1:]  # Exclude the 'Person' column\n",
        "\n",
        "for network_col in network_columns:\n",
        "    # Calculate the number of links\n",
        "    total_links = large[network_col].sum() / 2\n",
        "\n",
        "    # Calculate the number of possible links\n",
        "    num_nodes = len(large)\n",
        "    possible_links = (num_nodes * (num_nodes - 1)) / 2\n",
        "\n",
        "    # Calculate the density\n",
        "    density = total_links / possible_links\n",
        "\n",
        "    print(f\"Density of {network_col}: {density}\")\n"
      ],
      "metadata": {
        "colab": {
          "base_uri": "https://localhost:8080/"
        },
        "id": "Kagq344c6qtT",
        "outputId": "442e539a-a7b2-4738-8135-b9fe685abc1b"
      },
      "execution_count": 70,
      "outputs": [
        {
          "output_type": "stream",
          "name": "stdout",
          "text": [
            "Density of s_network1: 0.36448979591836733\n",
            "Density of s_network2: 0.4930612244897959\n",
            "Density of s_network3: 0.5461224489795918\n",
            "Density of s_network4: 0.4061224489795918\n",
            "Density of s_network5: 0.16448979591836735\n",
            "Density of s_network6: 0.0473469387755102\n",
            "Density of s_network7: 0.04326530612244898\n",
            "Density of s_network8: 0.030204081632653063\n"
          ]
        }
      ]
    },
    {
      "cell_type": "markdown",
      "source": [
        "## **Problem 1b**"
      ],
      "metadata": {
        "id": "h23sbLwkEw3X"
      }
    },
    {
      "cell_type": "markdown",
      "source": [
        "\n",
        "\n",
        "### Small Network"
      ],
      "metadata": {
        "id": "Y2XhAkh_EzRF"
      }
    },
    {
      "cell_type": "code",
      "source": [
        "\n",
        "# Convert the DataFrame 'small' to the adjacency matrix 'matrix'\n",
        "n_individuals = len(small)\n",
        "n_networks = len(small.columns) - 1\n",
        "\n",
        "matrix = np.zeros((n_individuals, n_individuals))\n",
        "\n",
        "for i in range(len(small)):\n",
        "    person = small.iloc[i][0]\n",
        "    connections = small.iloc[i][1:]\n",
        "    \n",
        "    for j in range(len(connections)):\n",
        "        if not np.isnan(connections[j]) and connections[j] != 0:\n",
        "            matrix[int(person) - 1][int(connections[j]) - 1] = 1\n",
        "\n",
        "# Perform the analysis using the 'matrix'\n",
        "n_relations = matrix.shape[0]\n",
        "\n",
        "model = ConcreteModel()\n",
        "\n",
        "model.x = Var(range(n_relations), range(n_relations), within=Binary)\n",
        "\n",
        "model.rel_constraints = ConstraintList()\n",
        "\n",
        "for i in range(n_individuals):\n",
        "    for j in range(n_individuals):\n",
        "        if matrix[i, j] == 0:\n",
        "            model.rel_constraints.add(model.x[i, j] == 0)\n",
        "\n",
        "objective_expr = sum(model.x[i, j] * matrix[i, j] for i in range(n_individuals) for j in range(n_individuals))\n",
        "\n",
        "model.total_distance = Objective(expr=objective_expr, sense=minimize)\n",
        "\n",
        "for i in range(n_individuals):\n",
        "    flow_in = sum(model.x[j, i] for j in range(n_individuals))\n",
        "    flow_out = sum(model.x[i, j] for j in range(n_individuals))\n",
        "    \n",
        "    if i == 0:\n",
        "        flow_in += 1\n",
        "    if i == 15:\n",
        "        flow_out += 1\n",
        "    \n",
        "    model.rel_constraints.add(flow_in == flow_out)\n",
        "\n",
        "SolverFactory('cbc').solve(model, tee=False).write()\n"
      ],
      "metadata": {
        "colab": {
          "base_uri": "https://localhost:8080/"
        },
        "id": "pyXJ28y9ewbO",
        "outputId": "8f2d68e1-0f1c-48db-814a-d9f72cc00869"
      },
      "execution_count": 71,
      "outputs": [
        {
          "output_type": "stream",
          "name": "stdout",
          "text": [
            "# ==========================================================\n",
            "# = Solver Results                                         =\n",
            "# ==========================================================\n",
            "# ----------------------------------------------------------\n",
            "#   Problem Information\n",
            "# ----------------------------------------------------------\n",
            "Problem: \n",
            "- Name: unknown\n",
            "  Lower bound: 6.0\n",
            "  Upper bound: 6.0\n",
            "  Number of objectives: 1\n",
            "  Number of constraints: 19\n",
            "  Number of variables: 58\n",
            "  Number of binary variables: 400\n",
            "  Number of integer variables: 400\n",
            "  Number of nonzeros: 58\n",
            "  Sense: minimize\n",
            "# ----------------------------------------------------------\n",
            "#   Solver Information\n",
            "# ----------------------------------------------------------\n",
            "Solver: \n",
            "- Status: ok\n",
            "  User time: -1.0\n",
            "  System time: 0.01\n",
            "  Wallclock time: 0.01\n",
            "  Termination condition: optimal\n",
            "  Termination message: Model was solved to optimality (subject to tolerances), and an optimal solution is available.\n",
            "  Statistics: \n",
            "    Branch and bound: \n",
            "      Number of bounded subproblems: 0\n",
            "      Number of created subproblems: 0\n",
            "    Black box: \n",
            "      Number of iterations: 0\n",
            "  Error rc: 0\n",
            "  Time: 0.024230003356933594\n",
            "# ----------------------------------------------------------\n",
            "#   Solution Information\n",
            "# ----------------------------------------------------------\n",
            "Solution: \n",
            "- number of solutions: 0\n",
            "  number of solutions displayed: 0\n"
          ]
        }
      ]
    },
    {
      "cell_type": "code",
      "source": [
        "fewest_connections = 0\n",
        "\n",
        "for i in range(20):\n",
        "    for j in range(20):\n",
        "        if model.x[i, j]() > 0.5:\n",
        "            fewest_connections += 1\n",
        "            print()\n",
        "            print(\"Person\", i + 1, \"->\", j + 1)\n",
        "\n",
        "print(\"Fewest Connections from Person 1 to 16:\", fewest_connections)"
      ],
      "metadata": {
        "colab": {
          "base_uri": "https://localhost:8080/"
        },
        "id": "H0lyt_dHniXJ",
        "outputId": "8adb13da-57c0-460a-a631-f3f726b0d323"
      },
      "execution_count": 72,
      "outputs": [
        {
          "output_type": "stream",
          "name": "stdout",
          "text": [
            "\n",
            "Person 1 -> 3\n",
            "\n",
            "Person 3 -> 4\n",
            "\n",
            "Person 4 -> 17\n",
            "\n",
            "Person 13 -> 16\n",
            "\n",
            "Person 17 -> 20\n",
            "\n",
            "Person 20 -> 13\n",
            "Fewest Connections from Person 1 to 16: 6\n"
          ]
        }
      ]
    },
    {
      "cell_type": "markdown",
      "source": [
        "### Large Network"
      ],
      "metadata": {
        "id": "P6GKMhllE-Mo"
      }
    },
    {
      "cell_type": "code",
      "source": [
        "# Convert the DataFrame 'small' to the adjacency matrix 'rel_matrix'\n",
        "rel_matrix = np.zeros((50, 50))\n",
        "\n",
        "for i in range(len(large)):\n",
        "    person = large.iloc[i][0]\n",
        "    connections = large.iloc[i][1:]\n",
        "    \n",
        "    for j in range(len(connections)):\n",
        "        if not np.isnan(connections[j]) and connections[j] != 0:\n",
        "            rel_matrix[int(person) - 1][int(connections[j]) - 1] = 1\n",
        "\n",
        "# Perform the analysis using the 'rel_matrix'\n",
        "n_relations = rel_matrix.shape[0]\n",
        "\n",
        "model = ConcreteModel()\n",
        "\n",
        "model.x = Var(range(n_relations), range(n_relations), within=Binary)\n",
        "\n",
        "model.rel_constraints = ConstraintList()\n",
        "\n",
        "for i in range(50):\n",
        "    for j in range(50):\n",
        "        if rel_matrix[i, j] == 0:\n",
        "            model.rel_constraints.add(model.x[i, j] == 0)\n",
        "\n",
        "objective_expr = sum(model.x[i, j] * rel_matrix[i, j] for i in range(50) for j in range(50))\n",
        "\n",
        "model.total_distance = Objective(expr=objective_expr, sense=minimize)\n",
        "\n",
        "for i in range(50):\n",
        "    flow_in = sum(model.x[j, i] for j in range(50))\n",
        "    flow_out = sum(model.x[i, j] for j in range(50))\n",
        "    \n",
        "    if i == 0:\n",
        "        flow_in += 1\n",
        "    if i == 15:\n",
        "        flow_out += 1\n",
        "    \n",
        "    model.rel_constraints.add(flow_in == flow_out)\n",
        "\n",
        "SolverFactory('cbc').solve(model, tee=False).write()\n",
        "\n",
        "\n"
      ],
      "metadata": {
        "colab": {
          "base_uri": "https://localhost:8080/"
        },
        "id": "LfqNVpDMxkEv",
        "outputId": "9643ca09-f082-4f16-9f34-7312b3390aca"
      },
      "execution_count": 73,
      "outputs": [
        {
          "output_type": "stream",
          "name": "stdout",
          "text": [
            "# ==========================================================\n",
            "# = Solver Results                                         =\n",
            "# ==========================================================\n",
            "# ----------------------------------------------------------\n",
            "#   Problem Information\n",
            "# ----------------------------------------------------------\n",
            "Problem: \n",
            "- Name: unknown\n",
            "  Lower bound: 2.0\n",
            "  Upper bound: 2.0\n",
            "  Number of objectives: 1\n",
            "  Number of constraints: 50\n",
            "  Number of variables: 200\n",
            "  Number of binary variables: 2500\n",
            "  Number of integer variables: 2500\n",
            "  Number of nonzeros: 200\n",
            "  Sense: minimize\n",
            "# ----------------------------------------------------------\n",
            "#   Solver Information\n",
            "# ----------------------------------------------------------\n",
            "Solver: \n",
            "- Status: ok\n",
            "  User time: -1.0\n",
            "  System time: 0.05\n",
            "  Wallclock time: 0.05\n",
            "  Termination condition: optimal\n",
            "  Termination message: Model was solved to optimality (subject to tolerances), and an optimal solution is available.\n",
            "  Statistics: \n",
            "    Branch and bound: \n",
            "      Number of bounded subproblems: 0\n",
            "      Number of created subproblems: 0\n",
            "    Black box: \n",
            "      Number of iterations: 0\n",
            "  Error rc: 0\n",
            "  Time: 0.06026315689086914\n",
            "# ----------------------------------------------------------\n",
            "#   Solution Information\n",
            "# ----------------------------------------------------------\n",
            "Solution: \n",
            "- number of solutions: 0\n",
            "  number of solutions displayed: 0\n"
          ]
        }
      ]
    },
    {
      "cell_type": "code",
      "source": [
        "fewest_connections = 0\n",
        "\n",
        "for i in range(50):\n",
        "    for j in range(50):\n",
        "        if model.x[i, j]() > 0.5:\n",
        "            fewest_connections += 1\n",
        "            print()\n",
        "            print(\"Person\", i + 1, \"->\", j + 1)\n",
        "\n",
        "print(\"Fewest Connections from Person 1 to 16:\", fewest_connections)"
      ],
      "metadata": {
        "colab": {
          "base_uri": "https://localhost:8080/"
        },
        "id": "MC9Bkv7K0ZSY",
        "outputId": "bbaad5c3-35c3-47fd-aea5-d366b0a70329"
      },
      "execution_count": 74,
      "outputs": [
        {
          "output_type": "stream",
          "name": "stdout",
          "text": [
            "\n",
            "Person 1 -> 2\n",
            "\n",
            "Person 2 -> 16\n",
            "Fewest Connections from Person 1 to 16: 2\n"
          ]
        }
      ]
    },
    {
      "cell_type": "markdown",
      "source": [
        "## Problem 1c"
      ],
      "metadata": {
        "id": "PlwtS73M4dsU"
      }
    },
    {
      "cell_type": "markdown",
      "source": [
        "### Small Network"
      ],
      "metadata": {
        "id": "OCndYVjT4kwZ"
      }
    },
    {
      "cell_type": "code",
      "source": [
        "n_relations = matrix.shape[0]\n",
        "n_relations"
      ],
      "metadata": {
        "colab": {
          "base_uri": "https://localhost:8080/"
        },
        "id": "27QHbXIw8Ikk",
        "outputId": "9df56f0c-5553-454f-bc9c-9229e3343022"
      },
      "execution_count": 75,
      "outputs": [
        {
          "output_type": "execute_result",
          "data": {
            "text/plain": [
              "20"
            ]
          },
          "metadata": {},
          "execution_count": 75
        }
      ]
    },
    {
      "cell_type": "code",
      "source": [
        "\n",
        "model = ConcreteModel()\n",
        "\n",
        "model.x = Var(range(n_relations), within=Binary)\n",
        "\n",
        "objective_expr = sum(model.x[i] for i in range(n_relations))\n",
        "\n",
        "model.total_distance = Objective(expr=objective_expr, sense=maximize)\n",
        "\n",
        "model.rel_constraints = ConstraintList()\n",
        "\n",
        "for i in range(n_relations):\n",
        "    for j in range(n_relations):\n",
        "        if rel_matrix[i, j] == 1:\n",
        "            model.rel_constraints.add(model.x[i] + model.x[j] <= 1)\n",
        "\n",
        "solver = SolverFactory('cbc')\n",
        "solver.solve(model, tee=False).write()\n"
      ],
      "metadata": {
        "colab": {
          "base_uri": "https://localhost:8080/"
        },
        "id": "RE8UFm-r-YhV",
        "outputId": "fb16af92-77d8-4c4c-c882-88ab6d6fcf7a"
      },
      "execution_count": 76,
      "outputs": [
        {
          "output_type": "stream",
          "name": "stdout",
          "text": [
            "# ==========================================================\n",
            "# = Solver Results                                         =\n",
            "# ==========================================================\n",
            "# ----------------------------------------------------------\n",
            "#   Problem Information\n",
            "# ----------------------------------------------------------\n",
            "Problem: \n",
            "- Name: unknown\n",
            "  Lower bound: 10.0\n",
            "  Upper bound: 10.0\n",
            "  Number of objectives: 1\n",
            "  Number of constraints: 25\n",
            "  Number of variables: 19\n",
            "  Number of binary variables: 20\n",
            "  Number of integer variables: 20\n",
            "  Number of nonzeros: 19\n",
            "  Sense: maximize\n",
            "# ----------------------------------------------------------\n",
            "#   Solver Information\n",
            "# ----------------------------------------------------------\n",
            "Solver: \n",
            "- Status: ok\n",
            "  User time: -1.0\n",
            "  System time: 0.01\n",
            "  Wallclock time: 0.01\n",
            "  Termination condition: optimal\n",
            "  Termination message: Model was solved to optimality (subject to tolerances), and an optimal solution is available.\n",
            "  Statistics: \n",
            "    Branch and bound: \n",
            "      Number of bounded subproblems: 0\n",
            "      Number of created subproblems: 0\n",
            "    Black box: \n",
            "      Number of iterations: 0\n",
            "  Error rc: 0\n",
            "  Time: 0.01809072494506836\n",
            "# ----------------------------------------------------------\n",
            "#   Solution Information\n",
            "# ----------------------------------------------------------\n",
            "Solution: \n",
            "- number of solutions: 0\n",
            "  number of solutions displayed: 0\n"
          ]
        }
      ]
    },
    {
      "cell_type": "code",
      "source": [
        "selected_people = [i + 1 for i in range(n_relations) if model.x[i]() > 0.5]\n",
        "largest_group_size = len(selected_people)\n",
        "\n",
        "print(\"Selected People:\", selected_people)\n",
        "print(\"Size of the largest group of people, no two of which are connected to each other:\", largest_group_size)"
      ],
      "metadata": {
        "colab": {
          "base_uri": "https://localhost:8080/"
        },
        "id": "gW6HnM8o-azu",
        "outputId": "a48f43fd-8092-4a71-b8e8-a6197b1e7b74"
      },
      "execution_count": 77,
      "outputs": [
        {
          "output_type": "stream",
          "name": "stdout",
          "text": [
            "Selected People: [1, 4, 6, 9, 10, 11, 14, 16, 17, 18]\n",
            "Size of the largest group of people, no two of which are connected to each other: 10\n"
          ]
        }
      ]
    },
    {
      "cell_type": "markdown",
      "source": [
        "### Large Network"
      ],
      "metadata": {
        "id": "kLmLe3RA-7BP"
      }
    },
    {
      "cell_type": "code",
      "source": [
        "n_relations = rel_matrix.shape[0]\n",
        "n_relations"
      ],
      "metadata": {
        "colab": {
          "base_uri": "https://localhost:8080/"
        },
        "id": "HTtvN-gL7Wcg",
        "outputId": "975c7161-3668-4a27-b193-4efcc673176b"
      },
      "execution_count": 78,
      "outputs": [
        {
          "output_type": "execute_result",
          "data": {
            "text/plain": [
              "50"
            ]
          },
          "metadata": {},
          "execution_count": 78
        }
      ]
    },
    {
      "cell_type": "code",
      "source": [
        "\n",
        "model = ConcreteModel()\n",
        "\n",
        "model.x = Var(range(n_relations), within=Binary)\n",
        "\n",
        "objective_expr = sum(model.x[i] for i in range(n_relations))\n",
        "\n",
        "model.total_distance = Objective(expr=objective_expr, sense=maximize)\n",
        "\n",
        "model.rel_constraints = ConstraintList()\n",
        "\n",
        "for i in range(n_relations):\n",
        "    for j in range(n_relations):\n",
        "        if rel_matrix[i, j] == 1:\n",
        "            model.rel_constraints.add(model.x[i] + model.x[j] <= 1)\n",
        "\n",
        "solver = SolverFactory('cbc')\n",
        "solver.solve(model, tee=False).write()"
      ],
      "metadata": {
        "colab": {
          "base_uri": "https://localhost:8080/"
        },
        "id": "ZqW6pfMF4m25",
        "outputId": "007d0c94-1f98-4a8a-fb69-7d325303dc3b"
      },
      "execution_count": 79,
      "outputs": [
        {
          "output_type": "stream",
          "name": "stdout",
          "text": [
            "# ==========================================================\n",
            "# = Solver Results                                         =\n",
            "# ==========================================================\n",
            "# ----------------------------------------------------------\n",
            "#   Problem Information\n",
            "# ----------------------------------------------------------\n",
            "Problem: \n",
            "- Name: unknown\n",
            "  Lower bound: 20.0\n",
            "  Upper bound: 20.0\n",
            "  Number of objectives: 1\n",
            "  Number of constraints: 100\n",
            "  Number of variables: 50\n",
            "  Number of binary variables: 50\n",
            "  Number of integer variables: 50\n",
            "  Number of nonzeros: 50\n",
            "  Sense: maximize\n",
            "# ----------------------------------------------------------\n",
            "#   Solver Information\n",
            "# ----------------------------------------------------------\n",
            "Solver: \n",
            "- Status: ok\n",
            "  User time: -1.0\n",
            "  System time: 0.02\n",
            "  Wallclock time: 0.03\n",
            "  Termination condition: optimal\n",
            "  Termination message: Model was solved to optimality (subject to tolerances), and an optimal solution is available.\n",
            "  Statistics: \n",
            "    Branch and bound: \n",
            "      Number of bounded subproblems: 0\n",
            "      Number of created subproblems: 0\n",
            "    Black box: \n",
            "      Number of iterations: 0\n",
            "  Error rc: 0\n",
            "  Time: 0.040731191635131836\n",
            "# ----------------------------------------------------------\n",
            "#   Solution Information\n",
            "# ----------------------------------------------------------\n",
            "Solution: \n",
            "- number of solutions: 0\n",
            "  number of solutions displayed: 0\n"
          ]
        }
      ]
    },
    {
      "cell_type": "code",
      "source": [
        "selected_people = [i + 1 for i in range(n_relations) if model.x[i]() > 0.5]\n",
        "largest_group_size = len(selected_people)\n",
        "\n",
        "print(\"Selected People:\", selected_people)\n",
        "print(\"Size of the largest group of people, no two of which are connected to each other:\", largest_group_size)"
      ],
      "metadata": {
        "colab": {
          "base_uri": "https://localhost:8080/"
        },
        "id": "o2gOGrM47q5l",
        "outputId": "e8a7e34c-b54e-489b-b5f2-0c7836b04760"
      },
      "execution_count": 80,
      "outputs": [
        {
          "output_type": "stream",
          "name": "stdout",
          "text": [
            "Selected People: [1, 4, 6, 8, 11, 15, 17, 18, 21, 24, 26, 29, 30, 31, 34, 38, 40, 42, 45, 50]\n",
            "Size of the largest group of people, no two of which are connected to each other: 20\n"
          ]
        }
      ]
    },
    {
      "cell_type": "markdown",
      "source": [
        "## **Problem 1d**"
      ],
      "metadata": {
        "id": "few49J_9FbtV"
      }
    },
    {
      "cell_type": "markdown",
      "source": [
        "### Small Network"
      ],
      "metadata": {
        "id": "rnnSnNJ3Fgn3"
      }
    },
    {
      "cell_type": "code",
      "source": [
        "# Create the relational matrix\n",
        "matrix = np.zeros((20, 20))\n",
        "\n",
        "for i in range(len(small)):\n",
        "    person = small.iloc[i][0]\n",
        "    connections = small.iloc[i][1:]\n",
        "\n",
        "    for j in range(len(connections)):\n",
        "        if not np.isnan(connections[j]):\n",
        "            if isinstance(connections[j], (int, float)):\n",
        "                rel_matrix[int(person) - 1][int(connections[j]) - 1] = 1\n",
        "\n",
        "# Solve the optimization problem\n",
        "n_relations = matrix.shape[0]\n",
        "\n",
        "model = ConcreteModel()\n",
        "\n",
        "model.x = Var(range(n_relations), within=Binary)\n",
        "\n",
        "objective_expr = 0\n"
      ],
      "metadata": {
        "id": "8K6KzVdqFgt3"
      },
      "execution_count": 81,
      "outputs": []
    },
    {
      "cell_type": "code",
      "source": [
        "for i in range(n_relations):\n",
        "    objective_expr += model.x[i]\n",
        "\n",
        "model.total_distance = Objective(\n",
        "    expr=objective_expr,\n",
        "    sense=maximize\n",
        ")\n",
        "\n",
        "model.rel_constraints = ConstraintList()\n",
        "\n",
        "for i in range(n_relations):\n",
        "    for j in range(n_relations):\n",
        "        if rel_matrix[i, j] == 1:\n",
        "            model.rel_constraints.add(model.x[i] + model.x[j] <= 1)\n",
        "\n",
        "# Solve the optimization problem using CBC solver\n",
        "solver = SolverFactory('cbc')\n",
        "solver.solve(model, tee=False).write()\n",
        "\n"
      ],
      "metadata": {
        "colab": {
          "base_uri": "https://localhost:8080/"
        },
        "id": "mBslzGu2FzUm",
        "outputId": "15518bd4-d4bc-408d-831a-cfb189152cd5"
      },
      "execution_count": 82,
      "outputs": [
        {
          "output_type": "stream",
          "name": "stdout",
          "text": [
            "# ==========================================================\n",
            "# = Solver Results                                         =\n",
            "# ==========================================================\n",
            "# ----------------------------------------------------------\n",
            "#   Problem Information\n",
            "# ----------------------------------------------------------\n",
            "Problem: \n",
            "- Name: unknown\n",
            "  Lower bound: 8.0\n",
            "  Upper bound: 8.0\n",
            "  Number of objectives: 1\n",
            "  Number of constraints: 45\n",
            "  Number of variables: 20\n",
            "  Number of binary variables: 20\n",
            "  Number of integer variables: 20\n",
            "  Number of nonzeros: 20\n",
            "  Sense: maximize\n",
            "# ----------------------------------------------------------\n",
            "#   Solver Information\n",
            "# ----------------------------------------------------------\n",
            "Solver: \n",
            "- Status: ok\n",
            "  User time: -1.0\n",
            "  System time: 0.01\n",
            "  Wallclock time: 0.02\n",
            "  Termination condition: optimal\n",
            "  Termination message: Model was solved to optimality (subject to tolerances), and an optimal solution is available.\n",
            "  Statistics: \n",
            "    Branch and bound: \n",
            "      Number of bounded subproblems: 0\n",
            "      Number of created subproblems: 0\n",
            "    Black box: \n",
            "      Number of iterations: 0\n",
            "  Error rc: 0\n",
            "  Time: 0.041390180587768555\n",
            "# ----------------------------------------------------------\n",
            "#   Solution Information\n",
            "# ----------------------------------------------------------\n",
            "Solution: \n",
            "- number of solutions: 0\n",
            "  number of solutions displayed: 0\n"
          ]
        }
      ]
    },
    {
      "cell_type": "code",
      "source": [
        "# Extract the individuals in the largest clique\n",
        "largest_clique = []\n",
        "for i in range(n_relations):\n",
        "    if model.x[i]() > 0.5:\n",
        "        largest_clique.append(i + 1)\n",
        "\n",
        "\n",
        "# Print the results\n",
        "print(\"Size of the largest clique:\", len(largest_clique))\n",
        "print(\"Individuals in the largest clique:\", largest_clique)\n"
      ],
      "metadata": {
        "colab": {
          "base_uri": "https://localhost:8080/"
        },
        "id": "P9zFYHjoGVCn",
        "outputId": "eb657b32-4431-4afe-bbb2-789ec125d178"
      },
      "execution_count": 83,
      "outputs": [
        {
          "output_type": "stream",
          "name": "stdout",
          "text": [
            "Size of the largest clique: 8\n",
            "Individuals in the largest clique: [1, 4, 6, 8, 11, 15, 18, 19]\n"
          ]
        }
      ]
    },
    {
      "cell_type": "markdown",
      "source": [
        "### Large Network"
      ],
      "metadata": {
        "id": "x6nAvxWxFmfm"
      }
    },
    {
      "cell_type": "code",
      "source": [
        "# Create the adjacency matrix\n",
        "rel_matrix = np.zeros((50, 50))\n",
        "network_columns = ['s_network1', 's_network2', 's_network3', 's_network4', 's_network5', 's_network6', 's_network7', 's_network8']"
      ],
      "metadata": {
        "id": "40yoPKgPQSkC"
      },
      "execution_count": 84,
      "outputs": []
    },
    {
      "cell_type": "code",
      "source": [
        "\n",
        "for column in network_columns:\n",
        "    for i in range(len(large)):\n",
        "        person = large.loc[i, 'Person']\n",
        "        connection = large.loc[i, column]\n",
        "        if not np.isnan(connection):\n",
        "            rel_matrix[person - 1, int(connection) - 1] = 1\n",
        "\n",
        "# Solve the optimization problem\n",
        "n_relations = rel_matrix.shape[0]\n",
        "\n",
        "model = ConcreteModel()\n",
        "\n",
        "model.x = Var(range(n_relations), within=Binary)\n",
        "\n",
        "objective_expr = 0\n",
        "\n",
        "for i in range(n_relations):\n",
        "    objective_expr += model.x[i]\n",
        "\n",
        "model.total_distance = Objective(\n",
        "    expr=objective_expr,\n",
        "    sense=maximize\n",
        ")\n",
        "\n",
        "model.rel_constraints = ConstraintList()\n",
        "\n",
        "for i in range(n_relations):\n",
        "    for j in range(n_relations):\n",
        "        if rel_matrix[i, j] == 1:\n",
        "            model.rel_constraints.add(model.x[i] + model.x[j] <= 1)\n",
        "\n",
        "# Solve the optimization problem using CBC solver\n",
        "solver = SolverFactory('cbc')\n",
        "solver.solve(model, tee=False).write()\n",
        "\n"
      ],
      "metadata": {
        "colab": {
          "base_uri": "https://localhost:8080/"
        },
        "id": "vN7wW0N_N7SX",
        "outputId": "9fe95acf-5e42-46ee-8d1e-e2d0a2bf4361"
      },
      "execution_count": 85,
      "outputs": [
        {
          "output_type": "stream",
          "name": "stdout",
          "text": [
            "# ==========================================================\n",
            "# = Solver Results                                         =\n",
            "# ==========================================================\n",
            "# ----------------------------------------------------------\n",
            "#   Problem Information\n",
            "# ----------------------------------------------------------\n",
            "Problem: \n",
            "- Name: unknown\n",
            "  Lower bound: 20.0\n",
            "  Upper bound: 20.0\n",
            "  Number of objectives: 1\n",
            "  Number of constraints: 96\n",
            "  Number of variables: 49\n",
            "  Number of binary variables: 50\n",
            "  Number of integer variables: 50\n",
            "  Number of nonzeros: 49\n",
            "  Sense: maximize\n",
            "# ----------------------------------------------------------\n",
            "#   Solver Information\n",
            "# ----------------------------------------------------------\n",
            "Solver: \n",
            "- Status: ok\n",
            "  User time: -1.0\n",
            "  System time: 0.02\n",
            "  Wallclock time: 0.07\n",
            "  Termination condition: optimal\n",
            "  Termination message: Model was solved to optimality (subject to tolerances), and an optimal solution is available.\n",
            "  Statistics: \n",
            "    Branch and bound: \n",
            "      Number of bounded subproblems: 0\n",
            "      Number of created subproblems: 0\n",
            "    Black box: \n",
            "      Number of iterations: 0\n",
            "  Error rc: 0\n",
            "  Time: 0.16122770309448242\n",
            "# ----------------------------------------------------------\n",
            "#   Solution Information\n",
            "# ----------------------------------------------------------\n",
            "Solution: \n",
            "- number of solutions: 0\n",
            "  number of solutions displayed: 0\n"
          ]
        }
      ]
    },
    {
      "cell_type": "code",
      "source": [
        "# Extract the individuals in the largest clique\n",
        "largest_clique = []\n",
        "for i in range(n_relations):\n",
        "    if model.x[i]() > 0.5:\n",
        "        largest_clique.append(i + 1)\n",
        "\n",
        "\n",
        "# Print the results\n",
        "print(\"Size of the largest clique:\", len(largest_clique))\n",
        "print(\"Individuals in the largest clique:\", largest_clique)"
      ],
      "metadata": {
        "colab": {
          "base_uri": "https://localhost:8080/"
        },
        "id": "8Cd7Q2tEPg_9",
        "outputId": "3006ce3c-d817-469e-98f7-70c33f5224a5"
      },
      "execution_count": 86,
      "outputs": [
        {
          "output_type": "stream",
          "name": "stdout",
          "text": [
            "Size of the largest clique: 20\n",
            "Individuals in the largest clique: [4, 6, 7, 11, 15, 17, 18, 21, 24, 26, 29, 30, 31, 34, 38, 40, 42, 45, 47, 49]\n"
          ]
        }
      ]
    },
    {
      "cell_type": "markdown",
      "source": [
        "## **Problem 2a**"
      ],
      "metadata": {
        "id": "l2HeKTBsFuhj"
      }
    },
    {
      "cell_type": "markdown",
      "source": [
        "### Small Network"
      ],
      "metadata": {
        "id": "i50DrzYwFxAY"
      }
    },
    {
      "cell_type": "code",
      "source": [
        "# Create the relational matrix\n",
        "matrix = small.iloc[:, 1:].values\n",
        "\n",
        "# Solve the optimization problem\n",
        "n_relations = matrix.shape[0]\n",
        "n_networks = matrix.shape[1]"
      ],
      "metadata": {
        "id": "7pqNL4T6X2Ud"
      },
      "execution_count": 87,
      "outputs": []
    },
    {
      "cell_type": "code",
      "source": [
        "\n",
        "model = ConcreteModel()\n",
        "\n",
        "model.x = Var(range(n_relations), within=Binary)\n",
        "model.y = Var(range(n_relations), within=Binary)\n",
        "\n",
        "\n",
        "objective_expr = 0\n",
        "for i in range(n_relations):\n",
        "    objective_expr += model.y[i]\n",
        "      \n",
        "model.total_distance = Objective(\n",
        "    expr=objective_expr,\n",
        "    sense=minimize\n",
        ")\n",
        "\n",
        "model.rel_constraints = ConstraintList()\n",
        "\n",
        "membership = 0\n",
        "for i in range(n_relations):\n",
        "    membership += model.x[i]\n",
        "model.rel_constraints.add(membership >= 1)\n",
        "\n",
        "for i in range(n_relations):\n",
        "    non_null_items = [int(item) for item in matrix[i] if not np.isnan(item)]\n",
        "    connections = sum(model.x[no-1] for no in non_null_items if no > 0)\n",
        "    model.rel_constraints.add(model.y[i] <= connections)\n",
        "    model.rel_constraints.add(connections <= len(non_null_items) * model.y[i])\n",
        "\n",
        "SolverFactory('cbc').solve(model, tee=False).write()"
      ],
      "metadata": {
        "colab": {
          "base_uri": "https://localhost:8080/"
        },
        "id": "icfu0cYaTrTA",
        "outputId": "33da52eb-e9fd-40f2-ba91-136ae1aa0dae"
      },
      "execution_count": 88,
      "outputs": [
        {
          "output_type": "stream",
          "name": "stdout",
          "text": [
            "# ==========================================================\n",
            "# = Solver Results                                         =\n",
            "# ==========================================================\n",
            "# ----------------------------------------------------------\n",
            "#   Problem Information\n",
            "# ----------------------------------------------------------\n",
            "Problem: \n",
            "- Name: unknown\n",
            "  Lower bound: 1.0\n",
            "  Upper bound: 1.0\n",
            "  Number of objectives: 1\n",
            "  Number of constraints: 41\n",
            "  Number of variables: 40\n",
            "  Number of binary variables: 40\n",
            "  Number of integer variables: 40\n",
            "  Number of nonzeros: 20\n",
            "  Sense: minimize\n",
            "# ----------------------------------------------------------\n",
            "#   Solver Information\n",
            "# ----------------------------------------------------------\n",
            "Solver: \n",
            "- Status: ok\n",
            "  User time: -1.0\n",
            "  System time: 0.01\n",
            "  Wallclock time: 0.02\n",
            "  Termination condition: optimal\n",
            "  Termination message: Model was solved to optimality (subject to tolerances), and an optimal solution is available.\n",
            "  Statistics: \n",
            "    Branch and bound: \n",
            "      Number of bounded subproblems: 0\n",
            "      Number of created subproblems: 0\n",
            "    Black box: \n",
            "      Number of iterations: 3\n",
            "  Error rc: 0\n",
            "  Time: 0.033206939697265625\n",
            "# ----------------------------------------------------------\n",
            "#   Solution Information\n",
            "# ----------------------------------------------------------\n",
            "Solution: \n",
            "- number of solutions: 0\n",
            "  number of solutions displayed: 0\n"
          ]
        }
      ]
    },
    {
      "cell_type": "code",
      "source": [
        "for i in range(n_relations):\n",
        "    if model.x[i]() > 0.5:\n",
        "        print('person with membership or connected to a person with a membership:', i+1)"
      ],
      "metadata": {
        "colab": {
          "base_uri": "https://localhost:8080/"
        },
        "id": "fLBPXxtjXvb7",
        "outputId": "de6417e7-38a2-47a4-b936-429496f317dc"
      },
      "execution_count": 89,
      "outputs": [
        {
          "output_type": "stream",
          "name": "stdout",
          "text": [
            "person with membership or connected to a person with a membership: 15\n"
          ]
        }
      ]
    },
    {
      "cell_type": "markdown",
      "source": [
        "### Large Network"
      ],
      "metadata": {
        "id": "OuMz4bDXF41d"
      }
    },
    {
      "cell_type": "code",
      "source": [
        "# Create the relational matrix\n",
        "rel_matrix = large.iloc[:, 1:].values\n",
        "\n",
        "# Solve the optimization problem\n",
        "n_relations = rel_matrix.shape[0]\n",
        "n_networks = rel_matrix.shape[1]"
      ],
      "metadata": {
        "id": "BQuEgUqH_Zf2"
      },
      "execution_count": 90,
      "outputs": []
    },
    {
      "cell_type": "code",
      "source": [
        "\n",
        "model = ConcreteModel()\n",
        "\n",
        "model.x = Var(range(n_relations), within=Binary)\n",
        "model.y = Var(range(n_relations), within=Binary)\n",
        "\n",
        "\n",
        "objective_expr = 0\n",
        "for i in range(n_relations):\n",
        "    objective_expr += model.y[i]\n",
        "      \n",
        "model.total_distance = Objective(\n",
        "    expr=objective_expr,\n",
        "    sense=minimize\n",
        ")\n",
        "\n",
        "model.rel_constraints = ConstraintList()\n",
        "\n",
        "membership = 0\n",
        "for i in range(n_relations):\n",
        "    membership += model.x[i]\n",
        "model.rel_constraints.add(membership >= 1)\n",
        "\n",
        "for i in range(n_relations):\n",
        "    non_null_items = [int(item) for item in rel_matrix[i] if not np.isnan(item)]\n",
        "    connections = sum(model.x[no-1] for no in non_null_items if no > 0)\n",
        "    model.rel_constraints.add(model.y[i] <= connections)\n",
        "    model.rel_constraints.add(connections <= len(non_null_items) * model.y[i])\n",
        "\n",
        "SolverFactory('cbc').solve(model, tee=False).write()"
      ],
      "metadata": {
        "colab": {
          "base_uri": "https://localhost:8080/"
        },
        "id": "n7MWYup1YM-1",
        "outputId": "e24b2e6f-4c93-4252-fbe2-9079ebe03d08"
      },
      "execution_count": 91,
      "outputs": [
        {
          "output_type": "stream",
          "name": "stdout",
          "text": [
            "# ==========================================================\n",
            "# = Solver Results                                         =\n",
            "# ==========================================================\n",
            "# ----------------------------------------------------------\n",
            "#   Problem Information\n",
            "# ----------------------------------------------------------\n",
            "Problem: \n",
            "- Name: unknown\n",
            "  Lower bound: 2.0\n",
            "  Upper bound: 2.0\n",
            "  Number of objectives: 1\n",
            "  Number of constraints: 101\n",
            "  Number of variables: 100\n",
            "  Number of binary variables: 100\n",
            "  Number of integer variables: 100\n",
            "  Number of nonzeros: 50\n",
            "  Sense: minimize\n",
            "# ----------------------------------------------------------\n",
            "#   Solver Information\n",
            "# ----------------------------------------------------------\n",
            "Solver: \n",
            "- Status: ok\n",
            "  User time: -1.0\n",
            "  System time: 0.05\n",
            "  Wallclock time: 0.11\n",
            "  Termination condition: optimal\n",
            "  Termination message: Model was solved to optimality (subject to tolerances), and an optimal solution is available.\n",
            "  Statistics: \n",
            "    Branch and bound: \n",
            "      Number of bounded subproblems: 0\n",
            "      Number of created subproblems: 0\n",
            "    Black box: \n",
            "      Number of iterations: 0\n",
            "  Error rc: 0\n",
            "  Time: 0.14885497093200684\n",
            "# ----------------------------------------------------------\n",
            "#   Solution Information\n",
            "# ----------------------------------------------------------\n",
            "Solution: \n",
            "- number of solutions: 0\n",
            "  number of solutions displayed: 0\n"
          ]
        }
      ]
    },
    {
      "cell_type": "code",
      "source": [
        "for i in range(n_relations):\n",
        "    if model.x[i]() > 0.5:\n",
        "        print('person with membership or connected to a person with a membership:', i+1)"
      ],
      "metadata": {
        "colab": {
          "base_uri": "https://localhost:8080/"
        },
        "id": "_gMO1HIBYOUH",
        "outputId": "4d6262c5-4fe3-4454-aa4d-af39015ec083"
      },
      "execution_count": 92,
      "outputs": [
        {
          "output_type": "stream",
          "name": "stdout",
          "text": [
            "person with membership or connected to a person with a membership: 18\n"
          ]
        }
      ]
    },
    {
      "cell_type": "markdown",
      "source": [
        "## **Problem 2b**"
      ],
      "metadata": {
        "id": "aaxUjBMJGSuB"
      }
    },
    {
      "cell_type": "markdown",
      "source": [
        "### Small Network"
      ],
      "metadata": {
        "id": "qOR5tm3YGVMA"
      }
    },
    {
      "cell_type": "code",
      "source": [
        "# Create the relational matrix\n",
        "matrix = small.iloc[:, 1:].values\n",
        "\n",
        "# Solve the optimization problem\n",
        "n_relations = matrix.shape[0]\n",
        "n_networks = matrix.shape[1]"
      ],
      "metadata": {
        "id": "O7Cw09rTipQ3"
      },
      "execution_count": 93,
      "outputs": []
    },
    {
      "cell_type": "code",
      "source": [
        "model = ConcreteModel()\n",
        "\n",
        "model.x = Var(range(1, n_relations + 1), within=Binary)\n",
        "model.y = Var(range(n_relations), within=Binary)\n",
        "\n",
        "objective_expr = sum(model.y[i] for i in range(n_relations))\n",
        "model.total_distance = Objective(expr=objective_expr, sense=maximize)\n",
        "\n",
        "model.rel_constraints = ConstraintList()\n",
        "\n",
        "trial = sum(model.x[i] for i in range(1, n_relations + 1))\n",
        "model.rel_constraints.add(trial == 2)\n",
        "\n",
        "for i in range(n_relations):\n",
        "    non_null_items = [int(item) for item in matrix[i] if not np.isnan(item)]\n",
        "    if non_null_items:\n",
        "        connections = sum(model.x[no] for no in non_null_items if no > 0)\n",
        "        model.rel_constraints.add(model.y[i] <= connections)\n",
        "        model.rel_constraints.add(connections <= len(non_null_items) * model.y[i])\n",
        "\n",
        "solver = SolverFactory('cbc')\n",
        "results = solver.solve(model).write()"
      ],
      "metadata": {
        "colab": {
          "base_uri": "https://localhost:8080/"
        },
        "id": "lYLY93cCixd7",
        "outputId": "a7d288ad-6342-4011-bf29-57c3b107e083"
      },
      "execution_count": 94,
      "outputs": [
        {
          "output_type": "stream",
          "name": "stdout",
          "text": [
            "# ==========================================================\n",
            "# = Solver Results                                         =\n",
            "# ==========================================================\n",
            "# ----------------------------------------------------------\n",
            "#   Problem Information\n",
            "# ----------------------------------------------------------\n",
            "Problem: \n",
            "- Name: unknown\n",
            "  Lower bound: 9.0\n",
            "  Upper bound: 9.0\n",
            "  Number of objectives: 1\n",
            "  Number of constraints: 41\n",
            "  Number of variables: 40\n",
            "  Number of binary variables: 40\n",
            "  Number of integer variables: 40\n",
            "  Number of nonzeros: 20\n",
            "  Sense: maximize\n",
            "# ----------------------------------------------------------\n",
            "#   Solver Information\n",
            "# ----------------------------------------------------------\n",
            "Solver: \n",
            "- Status: ok\n",
            "  User time: -1.0\n",
            "  System time: 0.01\n",
            "  Wallclock time: 0.03\n",
            "  Termination condition: optimal\n",
            "  Termination message: Model was solved to optimality (subject to tolerances), and an optimal solution is available.\n",
            "  Statistics: \n",
            "    Branch and bound: \n",
            "      Number of bounded subproblems: 0\n",
            "      Number of created subproblems: 0\n",
            "    Black box: \n",
            "      Number of iterations: 0\n",
            "  Error rc: 0\n",
            "  Time: 0.07274913787841797\n",
            "# ----------------------------------------------------------\n",
            "#   Solution Information\n",
            "# ----------------------------------------------------------\n",
            "Solution: \n",
            "- number of solutions: 0\n",
            "  number of solutions displayed: 0\n"
          ]
        }
      ]
    },
    {
      "cell_type": "code",
      "source": [
        "trial_selected = [i for i in range(1, n_relations + 1) if model.x[i]() > 0.5]\n",
        "print(\"Selected individuals for trial:\", trial_selected)\n",
        "\n",
        "# Determine the number of connected people for each trial selection\n",
        "connected_counts = []\n",
        "for trial_person in trial_selected:\n",
        "    connected_count = sum(\n",
        "        1 for network in large.columns[1:] if large.loc[trial_person - 1, network] == trial_person\n",
        "    )\n",
        "    connected_counts.append(connected_count)\n",
        "\n",
        "# Identify the trial selection with the maximum number of connected people\n",
        "max_connected_index = np.argmax(connected_counts)\n",
        "max_connected_trial = trial_selected[max_connected_index]\n",
        "\n",
        "# Remove the selected trial from the options and find the second trial with the maximum connected people\n",
        "trial_selected.remove(max_connected_trial)\n",
        "second_max_connected_index = np.argmax(connected_counts)\n",
        "second_max_connected_trial = trial_selected[second_max_connected_index]\n",
        "\n",
        "print(\"Optimal trial selections:\")\n",
        "print(\"Trial 1:\", max_connected_trial)\n",
        "print(\"Trial 2:\", second_max_connected_trial)"
      ],
      "metadata": {
        "colab": {
          "base_uri": "https://localhost:8080/"
        },
        "id": "ZgJll85ji7k-",
        "outputId": "b0b452df-de13-4b91-dfd7-35f7e4e118a4"
      },
      "execution_count": 95,
      "outputs": [
        {
          "output_type": "stream",
          "name": "stdout",
          "text": [
            "Selected individuals for trial: [10, 13]\n",
            "Optimal trial selections:\n",
            "Trial 1: 10\n",
            "Trial 2: 13\n"
          ]
        }
      ]
    },
    {
      "cell_type": "markdown",
      "source": [
        "### Large Network\n"
      ],
      "metadata": {
        "id": "tbNWetJZGYt0"
      }
    },
    {
      "cell_type": "code",
      "source": [
        "# Create the relational matrix\n",
        "rel_matrix = large.iloc[:, 1:].values\n",
        "\n",
        "# Solve the optimization problem\n",
        "n_relations = rel_matrix.shape[0]\n",
        "n_networks = rel_matrix.shape[1]"
      ],
      "metadata": {
        "id": "MXmUynSagoI0"
      },
      "execution_count": 96,
      "outputs": []
    },
    {
      "cell_type": "code",
      "source": [
        "model = ConcreteModel()\n",
        "\n",
        "model.x = Var(range(1, n_relations + 1), within=Binary)\n",
        "model.y = Var(range(n_relations), within=Binary)\n",
        "\n",
        "objective_expr = sum(model.y[i] for i in range(n_relations))\n",
        "model.total_distance = Objective(expr=objective_expr, sense=maximize)\n",
        "\n",
        "model.rel_constraints = ConstraintList()\n",
        "\n",
        "trial = sum(model.x[i] for i in range(1, n_relations + 1))\n",
        "model.rel_constraints.add(trial == 2)\n",
        "\n",
        "for i in range(n_relations):\n",
        "    non_null_items = [int(item) for item in rel_matrix[i] if not np.isnan(item)]\n",
        "    if non_null_items:\n",
        "        connections = sum(model.x[no] for no in non_null_items if no > 0)\n",
        "        model.rel_constraints.add(model.y[i] <= connections)\n",
        "        model.rel_constraints.add(connections <= len(non_null_items) * model.y[i])\n",
        "\n",
        "solver = SolverFactory('cbc')\n",
        "results = solver.solve(model).write()\n",
        "\n",
        "\n"
      ],
      "metadata": {
        "colab": {
          "base_uri": "https://localhost:8080/"
        },
        "id": "Z5PPgsiRhAq9",
        "outputId": "f583bc9e-8b3a-47a0-dd3b-b48a643bb7bd"
      },
      "execution_count": 97,
      "outputs": [
        {
          "output_type": "stream",
          "name": "stdout",
          "text": [
            "# ==========================================================\n",
            "# = Solver Results                                         =\n",
            "# ==========================================================\n",
            "# ----------------------------------------------------------\n",
            "#   Problem Information\n",
            "# ----------------------------------------------------------\n",
            "Problem: \n",
            "- Name: unknown\n",
            "  Lower bound: 15.0\n",
            "  Upper bound: 15.0\n",
            "  Number of objectives: 1\n",
            "  Number of constraints: 101\n",
            "  Number of variables: 100\n",
            "  Number of binary variables: 100\n",
            "  Number of integer variables: 100\n",
            "  Number of nonzeros: 50\n",
            "  Sense: maximize\n",
            "# ----------------------------------------------------------\n",
            "#   Solver Information\n",
            "# ----------------------------------------------------------\n",
            "Solver: \n",
            "- Status: ok\n",
            "  User time: -1.0\n",
            "  System time: 0.01\n",
            "  Wallclock time: 0.01\n",
            "  Termination condition: optimal\n",
            "  Termination message: Model was solved to optimality (subject to tolerances), and an optimal solution is available.\n",
            "  Statistics: \n",
            "    Branch and bound: \n",
            "      Number of bounded subproblems: 0\n",
            "      Number of created subproblems: 0\n",
            "    Black box: \n",
            "      Number of iterations: 0\n",
            "  Error rc: 0\n",
            "  Time: 0.02591872215270996\n",
            "# ----------------------------------------------------------\n",
            "#   Solution Information\n",
            "# ----------------------------------------------------------\n",
            "Solution: \n",
            "- number of solutions: 0\n",
            "  number of solutions displayed: 0\n"
          ]
        }
      ]
    },
    {
      "cell_type": "code",
      "source": [
        "trial_selected = [i for i in range(1, n_relations + 1) if model.x[i]() > 0.5]\n",
        "print(\"Selected individuals for trial:\", trial_selected)\n",
        "\n",
        "# Determine the number of connected people for each trial selection\n",
        "connected_counts = []\n",
        "for trial_person in trial_selected:\n",
        "    connected_count = sum(\n",
        "        1 for network in large.columns[1:] if large.loc[trial_person - 1, network] == trial_person\n",
        "    )\n",
        "    connected_counts.append(connected_count)\n",
        "\n",
        "# Identify the trial selection with the maximum number of connected people\n",
        "max_connected_index = np.argmax(connected_counts)\n",
        "max_connected_trial = trial_selected[max_connected_index]\n",
        "\n",
        "# Remove the selected trial from the options and find the second trial with the maximum connected people\n",
        "trial_selected.remove(max_connected_trial)\n",
        "second_max_connected_index = np.argmax(connected_counts)\n",
        "second_max_connected_trial = trial_selected[second_max_connected_index]\n",
        "\n",
        "print(\"Optimal trial selections:\")\n",
        "print(\"Trial 1:\", max_connected_trial)\n",
        "print(\"Trial 2:\", second_max_connected_trial)"
      ],
      "metadata": {
        "colab": {
          "base_uri": "https://localhost:8080/"
        },
        "id": "zkQ1KYSniV0o",
        "outputId": "0fe91074-58fc-426a-dbf6-25ddea9ebec0"
      },
      "execution_count": 98,
      "outputs": [
        {
          "output_type": "stream",
          "name": "stdout",
          "text": [
            "Selected individuals for trial: [12, 25]\n",
            "Optimal trial selections:\n",
            "Trial 1: 12\n",
            "Trial 2: 25\n"
          ]
        }
      ]
    },
    {
      "cell_type": "markdown",
      "source": [
        "## **Problem 3**"
      ],
      "metadata": {
        "id": "oWci1hR0Ghp_"
      }
    },
    {
      "cell_type": "markdown",
      "source": [
        "### Small Network"
      ],
      "metadata": {
        "id": "dF0v-NKpH0Me"
      }
    },
    {
      "cell_type": "code",
      "source": [
        "# Create the relational matrix\n",
        "matrix = small.iloc[:, 1:].values\n",
        "\n",
        "# Solve the optimization problem\n",
        "n_relations = matrix.shape[0]\n",
        "n_networks = matrix.shape[1]"
      ],
      "metadata": {
        "id": "4pnwMB2cLm0h"
      },
      "execution_count": 99,
      "outputs": []
    },
    {
      "cell_type": "code",
      "source": [
        "\n",
        "# Create a list to store the clusters\n",
        "clusters = []\n",
        "\n",
        "# Function to check if an individual can be assigned to a cluster\n",
        "def can_be_assigned(individual, cluster):\n",
        "    for member in cluster:\n",
        "        if member - 1 < n_networks and matrix[individual - 1, member - 1] == 1:\n",
        "            return False\n",
        "    return True\n",
        "\n",
        "# Assign individuals to clusters\n",
        "for i in range(n_relations):\n",
        "    assigned = False\n",
        "    for cluster in clusters:\n",
        "        if can_be_assigned(i + 1, cluster):\n",
        "            cluster.append(i + 1)\n",
        "            assigned = True\n",
        "            break\n",
        "    if not assigned:\n",
        "        clusters.append([i + 1])\n",
        "\n",
        "# Count the number of clusters\n",
        "num_clusters = len(clusters)\n",
        "\n",
        "# Print the minimum number of clusters necessary\n",
        "print(\"Minimum number of clusters necessary:\", num_clusters)\n",
        "\n",
        "# Print the clusters\n",
        "for i, cluster in enumerate(clusters):\n",
        "    print(\"Cluster\", i + 1, \":\", cluster)\n"
      ],
      "metadata": {
        "colab": {
          "base_uri": "https://localhost:8080/"
        },
        "id": "HiWbhiOhEf2b",
        "outputId": "6cdb617f-b6c8-4146-93a0-0639df6ba18f"
      },
      "execution_count": 100,
      "outputs": [
        {
          "output_type": "stream",
          "name": "stdout",
          "text": [
            "Minimum number of clusters necessary: 2\n",
            "Cluster 1 : [1, 4, 5, 6, 7, 8, 10, 11, 12, 13, 14, 15, 16, 17, 18, 19, 20]\n",
            "Cluster 2 : [2, 3, 9]\n"
          ]
        }
      ]
    },
    {
      "cell_type": "markdown",
      "source": [
        "### Large Network"
      ],
      "metadata": {
        "id": "MEQbFFPGH4fM"
      }
    },
    {
      "cell_type": "code",
      "source": [
        "# Create the relational matrix\n",
        "rel_matrix = large.iloc[:, 1:].values\n",
        "\n",
        "# Solve the optimization problem\n",
        "n_relations = rel_matrix.shape[0]\n",
        "n_networks = rel_matrix.shape[1]"
      ],
      "metadata": {
        "id": "XwHlZjCgce4p"
      },
      "execution_count": 101,
      "outputs": []
    },
    {
      "cell_type": "code",
      "source": [
        "# Create a list to store the clusters\n",
        "clusters = []\n",
        "\n",
        "# Function to check if an individual can be assigned to a cluster\n",
        "def can_be_assigned(individual, cluster):\n",
        "    for member in cluster:\n",
        "        if member - 1 < n_networks and rel_matrix[individual - 1, member - 1] == 1:\n",
        "            return False\n",
        "    return True\n",
        "\n",
        "# Assign individuals to clusters\n",
        "for i in range(n_relations):\n",
        "    assigned = False\n",
        "    for cluster in clusters:\n",
        "        if can_be_assigned(i + 1, cluster):\n",
        "            cluster.append(i + 1)\n",
        "            assigned = True\n",
        "            break\n",
        "    if not assigned:\n",
        "        clusters.append([i + 1])\n",
        "\n",
        "# Count the number of clusters\n",
        "num_clusters = len(clusters)\n",
        "\n",
        "# Print the minimum number of clusters necessary\n",
        "print(\"Minimum number of clusters necessary:\", num_clusters)\n",
        "\n",
        "# Print the clusters\n",
        "for i, cluster in enumerate(clusters):\n",
        "    print(\"Cluster\", i + 1, \":\", cluster)\n"
      ],
      "metadata": {
        "colab": {
          "base_uri": "https://localhost:8080/"
        },
        "id": "hK36QrXXyy35",
        "outputId": "d00bc213-6811-40e2-fdbd-1e1475f84e33"
      },
      "execution_count": 102,
      "outputs": [
        {
          "output_type": "stream",
          "name": "stdout",
          "text": [
            "Minimum number of clusters necessary: 2\n",
            "Cluster 1 : [1, 4, 6, 7, 8, 9, 10, 11, 12, 13, 14, 15, 16, 17, 18, 19, 20, 21, 22, 23, 24, 26, 27, 28, 29, 30, 31, 32, 33, 34, 35, 36, 37, 38, 39, 40, 41, 42, 43, 44, 45, 46, 48, 49, 50]\n",
            "Cluster 2 : [2, 3, 5, 25, 47]\n"
          ]
        }
      ]
    }
  ]
}