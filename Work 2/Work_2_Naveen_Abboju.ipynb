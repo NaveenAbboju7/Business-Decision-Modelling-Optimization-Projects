{
  "nbformat": 4,
  "nbformat_minor": 0,
  "metadata": {
    "colab": {
      "provenance": [],
      "toc_visible": true
    },
    "kernelspec": {
      "name": "python3",
      "display_name": "Python 3"
    },
    "language_info": {
      "name": "python"
    }
  },
  "cells": [
    {
      "cell_type": "markdown",
      "source": [
        "# Homework 2\n",
        "\n",
        "Due Monday, May 15th, at 7:59pm.  Please download your notebooks and submit them as a zip file.  "
      ],
      "metadata": {
        "id": "85R_fn2Fdw61"
      }
    },
    {
      "cell_type": "markdown",
      "source": [
        "## Problem 1 (25 points)\n",
        "\n",
        "The *p-harmonic* series is the infinite sum of the reciprical of the natural numbers raised to the $p$ power:\n",
        "\n",
        "$\\sum\\limits_{i=1}^∞ \\frac{1}{i^p}$.\n",
        "\n",
        "### Problem 1a\n",
        "\n",
        "If $p=1$, you get the *harmonic* series:\n",
        "\n",
        "$\\sum\\limits_{i=1}^∞ \\frac{1}{i}$.\n",
        "\n",
        "(i) Instead of counting this all the way to infinity, calculate the sum of the first 10 terms:\n",
        "\n",
        "$\\sum\\limits_{i=1}^{10} \\frac{1}{i} = \\frac{1}{1} + \\frac{1}{2} + \\cdots + \\frac{1}{10}$.\n",
        "\n",
        "(ii) Again for $p=1$, calulate the sum of the first 100 terms. \n",
        "\n",
        "(ii) Again for $p=1$, calulate the sum of the first 10,000 terms. \n",
        "\n",
        "### Problem 1b\n",
        "\n",
        "Now, for $p=2$, do the same exercise, i.e., calculate the sum of the first $n$ terms in the sum\n",
        "\n",
        "$\\sum\\limits_{i=1}^{n} \\frac{1}{i^2} = \\frac{1}{1^2} + \\frac{1}{2^2} + \\cdots + \\frac{1}{n^2}$.\n",
        "\n",
        "Do this for:\n",
        "\n",
        "(i) $n=10$.\n",
        "\n",
        "(ii) $n=100$.\n",
        "\n",
        "(ii) $n=10,000$.\n",
        "\n",
        "### Problem 1c\n",
        "\n",
        "Compare the answers from 1a and 1b.  Which one grows faster?  Any observations?\n",
        "\n"
      ],
      "metadata": {
        "id": "lGkSpQTDd_OW"
      }
    },
    {
      "cell_type": "markdown",
      "source": [
        "# Problem 1a"
      ],
      "metadata": {
        "id": "FK2Gb9LPP8fG"
      }
    },
    {
      "cell_type": "markdown",
      "source": [
        "## (i)"
      ],
      "metadata": {
        "id": "MbGeRMHwQkvT"
      }
    },
    {
      "cell_type": "code",
      "source": [
        "p=1\n",
        "n=10\n",
        "sum=0\n",
        "for i in range(1,n+1):\n",
        "  sum = sum + (1/(i**p))\n",
        "print(round(sum, 2))"
      ],
      "metadata": {
        "colab": {
          "base_uri": "https://localhost:8080/"
        },
        "id": "EKwcNV2PL7wG",
        "outputId": "c2eecb20-38aa-4cd3-99c1-6f48953ea2c5"
      },
      "execution_count": 7,
      "outputs": [
        {
          "output_type": "stream",
          "name": "stdout",
          "text": [
            "2.93\n"
          ]
        }
      ]
    },
    {
      "cell_type": "markdown",
      "source": [
        "## (ii)"
      ],
      "metadata": {
        "id": "Yk7b7uuNQoOh"
      }
    },
    {
      "cell_type": "code",
      "source": [
        "p=1\n",
        "n=100\n",
        "sum=0\n",
        "for i in range(1,n+1):\n",
        "  sum = sum + (1/(i**p))\n",
        "print(round(sum, 2))"
      ],
      "metadata": {
        "colab": {
          "base_uri": "https://localhost:8080/"
        },
        "id": "f5s8Chr0OIQn",
        "outputId": "d04093f8-4284-41ef-bc9f-5ada116edad4"
      },
      "execution_count": 8,
      "outputs": [
        {
          "output_type": "stream",
          "name": "stdout",
          "text": [
            "5.19\n"
          ]
        }
      ]
    },
    {
      "cell_type": "markdown",
      "source": [
        "## (iii)"
      ],
      "metadata": {
        "id": "IMjS-U4jQr4q"
      }
    },
    {
      "cell_type": "code",
      "source": [
        "p=1\n",
        "n=10000\n",
        "sum=0\n",
        "for i in range(1,n+1):\n",
        "  sum = sum + (1/(i**p))\n",
        "print(round(sum, 2))"
      ],
      "metadata": {
        "colab": {
          "base_uri": "https://localhost:8080/"
        },
        "id": "MIg_wqgHORe7",
        "outputId": "bcaf53d0-6011-4d3f-ae0b-a8dc4c541bd9"
      },
      "execution_count": 10,
      "outputs": [
        {
          "output_type": "stream",
          "name": "stdout",
          "text": [
            "9.79\n"
          ]
        }
      ]
    },
    {
      "cell_type": "markdown",
      "source": [
        "# Problem 1b"
      ],
      "metadata": {
        "id": "Dr7i7PQmQwuh"
      }
    },
    {
      "cell_type": "markdown",
      "source": [
        "## (i)"
      ],
      "metadata": {
        "id": "fRdUgvdtR3Sq"
      }
    },
    {
      "cell_type": "code",
      "source": [
        "p=2\n",
        "n=10\n",
        "sum=0\n",
        "for i in range(1,n+1):\n",
        "  sum = sum+(1/(i**p))\n",
        "print(round(sum, 2))"
      ],
      "metadata": {
        "colab": {
          "base_uri": "https://localhost:8080/"
        },
        "id": "Rvhx_wrRSLAg",
        "outputId": "74c63ccc-9f74-408e-d709-4014596b8882"
      },
      "execution_count": 11,
      "outputs": [
        {
          "output_type": "stream",
          "name": "stdout",
          "text": [
            "1.55\n"
          ]
        }
      ]
    },
    {
      "cell_type": "markdown",
      "source": [
        "## (ii)"
      ],
      "metadata": {
        "id": "LcziLu4eSyWW"
      }
    },
    {
      "cell_type": "code",
      "source": [
        "p=2\n",
        "n=100\n",
        "sum=0\n",
        "for i in range(1,n+1):\n",
        "  sum = sum+(1/(i**p))\n",
        "print(round(sum, 2))"
      ],
      "metadata": {
        "colab": {
          "base_uri": "https://localhost:8080/"
        },
        "id": "9NYpU46ZS0w7",
        "outputId": "09b72f0d-3052-4ab0-d454-89f55b16bd7e"
      },
      "execution_count": 12,
      "outputs": [
        {
          "output_type": "stream",
          "name": "stdout",
          "text": [
            "1.63\n"
          ]
        }
      ]
    },
    {
      "cell_type": "markdown",
      "source": [
        "## (iii)"
      ],
      "metadata": {
        "id": "4xhpo1YUS-VL"
      }
    },
    {
      "cell_type": "code",
      "source": [
        "p=2\n",
        "n=10000\n",
        "sum=0\n",
        "for i in range(1,n+1):\n",
        "  sum = sum+(1/(i**p))\n",
        "print(round(sum, 2))"
      ],
      "metadata": {
        "colab": {
          "base_uri": "https://localhost:8080/"
        },
        "id": "Uc2s808GULna",
        "outputId": "8580a105-0428-46f3-e4e0-fe15d62f813f"
      },
      "execution_count": 13,
      "outputs": [
        {
          "output_type": "stream",
          "name": "stdout",
          "text": [
            "1.64\n"
          ]
        }
      ]
    },
    {
      "cell_type": "markdown",
      "source": [
        "# Problem 1c"
      ],
      "metadata": {
        "id": "tfhv3xj4Vzwb"
      }
    },
    {
      "cell_type": "markdown",
      "source": [
        "By comparing 1a and 1b we can say that p=1 is growing faster than the p=2. \n",
        "\n",
        "And these are a few notes:\n",
        " 1. For p=1, the growth is rapidly increasing as the 'n' value increases.\n",
        " 2. For p=2, as 'i' is the denominator value and it is squared result in a decrease in growth when compared to p=1(n=10, 100, 10000).  "
      ],
      "metadata": {
        "id": "c1xnRhSmKVGK"
      }
    },
    {
      "cell_type": "markdown",
      "source": [
        "## Problem 2 (25 points)\n",
        "\n",
        "**Directions:** \n",
        "Adopted from Chapter 9, Problem 5 from Powell using the brute force method. \n",
        "\n",
        "**Planning Automobile Production.** The Auto Company\n",
        "of America (ACA) produces four types of cars: subcompact,\n",
        "compact, intermediate, and luxury. ACA also produces trucks\n",
        "and vans. Vendor capacities limit total production capacity to\n",
        "at most 1.2 million vehicles per year. Subcompacts and com-\n",
        "pacts are built together in a facility with a total annual capacity\n",
        "of 620,000 cars. Intermediate and luxury cars are produced in\n",
        "another facility with capacity of 400,000; and the truck/van\n",
        "facility has a capacity of 275,000. ACA’s marketing strategy\n",
        "requires that subcompacts and compacts must constitute at\n",
        "least half of the product mix for the four car types. The\n",
        "Corporate Average Fuel Economy (CAFE) standards in the\n",
        "Energy Policy and Conservation Act require an average fleet\n",
        "fuel economy of at least 27 mpg.\n",
        "\n",
        "Profit margins, market potential, and fuel efficiencies are\n",
        "summarized as follows:\n",
        "\n",
        "Type | Profit Margin (USD/vehicle) |Market Potential (sales in ‘000) | Fuel Economy (mpg)\n",
        "---| ---| ---| ---\n",
        "Subcompact| 50| 600| 40\n",
        "Compact| 225| 400| 34\n",
        "Intermediate| 250| 300| 15\n",
        "Luxury| 500| 225| 12\n",
        "Truck| 400| 325| 20\n",
        "Van| 200| 100| 25\n",
        "\n",
        "\n",
        "\n",
        "1. What is the optimal profit for ACA?\n",
        "2. How long did it take to run your script in total? \n",
        "\n",
        "\n",
        "***Note that it might take quite some time for the code to finish so think about how to handle that!***"
      ],
      "metadata": {
        "id": "aTbmrqL4eS2P"
      }
    },
    {
      "cell_type": "markdown",
      "source": [
        "### With set value = 100000 "
      ],
      "metadata": {
        "id": "nRPPAUkCDrFa"
      }
    },
    {
      "cell_type": "code",
      "source": [
        "# Initialize variables\n",
        "max_profit = -1\n",
        "best_s = -1\n",
        "best_c = -1\n",
        "best_i = -1\n",
        "best_l = -1\n",
        "best_t = -1\n",
        "best_v = -1\n",
        "best_option = 0\n",
        "\n",
        "# Set ranges for each variable\n",
        "s_range = range(0, 600001, 100000)\n",
        "c_range = range(0, 400001, 100000)\n",
        "i_range = range(0, 300001, 100000)\n",
        "l_range = range(0, 225001, 100000)\n",
        "t_range = range(0, 325001, 100000)\n",
        "v_range = range(0, 100001, 100000)\n",
        "\n",
        "# Loop through each combination of variables and check the constraints\n",
        "for s in s_range:\n",
        "    for c in c_range:\n",
        "        if s + c > 620000:\n",
        "            continue\n",
        "        for i in i_range:\n",
        "            for l in l_range:\n",
        "                if i + l > 400000:\n",
        "                    continue\n",
        "                for t in t_range:\n",
        "                    for v in v_range:\n",
        "                        if t + v > 275000:\n",
        "                            continue\n",
        "                        if s + c + i + l + t + v > 1200000:\n",
        "                            continue\n",
        "                        if s + c < (s + c + i + l) / 2:\n",
        "                            continue\n",
        "                        if s+c+i+l+t+v == 0:\n",
        "                            continue\n",
        "                        if ((s*40+c*34+i*15+l*12+t*20+v*25)/(s+c+i+l+t+v)) < 27:\n",
        "                            continue\n",
        "                        \n",
        "                        # Increase the count of feasible solutions\n",
        "                        best_option += 1\n",
        "                        \n",
        "                        # Calculate the profit for the current solution\n",
        "                        profit = 50 * s + 225 * c + 250 * i + 500 * l + 400 * t + 200 * v\n",
        "                        \n",
        "                        # If the current solution is better than the previous one, update the variables\n",
        "                        if profit > max_profit:\n",
        "                            max_profit = profit\n",
        "                            best_s = s\n",
        "                            best_c = c\n",
        "                            best_i = i\n",
        "                            best_l = l\n",
        "                            best_t = t\n",
        "                            best_v = v\n",
        "\n",
        "# Print the best solution and the number of feasible solutions found\n",
        "print(\"Best profit: \", max_profit)\n",
        "print(\"Best combination: s=\", best_s, \", c=\", best_c, \", i=\", best_i, \", l=\", best_l, \", t=\", best_t, \", v=\", best_v)\n",
        "print(\"Number of feasible solutions found: \", best_option)\n"
      ],
      "metadata": {
        "colab": {
          "base_uri": "https://localhost:8080/"
        },
        "id": "cj2DAhi3_xws",
        "outputId": "cf845257-4da9-44e6-d24d-d05c058de1f8"
      },
      "execution_count": 7,
      "outputs": [
        {
          "output_type": "stream",
          "name": "stdout",
          "text": [
            "Best profit:  287500000\n",
            "Best combination: s= 300000 , c= 300000 , i= 100000 , l= 200000 , t= 200000 , v= 0\n",
            "Number of feasible solutions found:  762\n"
          ]
        }
      ]
    },
    {
      "cell_type": "markdown",
      "source": [
        "### With set value = 75000 "
      ],
      "metadata": {
        "id": "OsOy6cn8D7A4"
      }
    },
    {
      "cell_type": "code",
      "source": [
        "# Initialize variables\n",
        "max_profit = -1\n",
        "best_s = -1\n",
        "best_c = -1\n",
        "best_i = -1\n",
        "best_l = -1\n",
        "best_t = -1\n",
        "best_v = -1\n",
        "best_option = 0\n",
        "\n",
        "# Set ranges for each variable\n",
        "s_range = range(0, 600001, 75000)\n",
        "c_range = range(0, 400001, 75000)\n",
        "i_range = range(0, 300001, 75000)\n",
        "l_range = range(0, 225001, 75000)\n",
        "t_range = range(0, 325001, 75000)\n",
        "v_range = range(0, 100001, 75000)\n",
        "\n",
        "# Loop through each combination of variables and check the constraints\n",
        "for s in s_range:\n",
        "    for c in c_range:\n",
        "        if s + c > 620000:\n",
        "            continue\n",
        "        for i in i_range:\n",
        "            for l in l_range:\n",
        "                if i + l > 400000:\n",
        "                    continue\n",
        "                for t in t_range:\n",
        "                    for v in v_range:\n",
        "                        if t + v > 275000:\n",
        "                            continue\n",
        "                        if s + c + i + l + t + v > 1200000:\n",
        "                            continue\n",
        "                        if s + c < (s + c + i + l) / 2:\n",
        "                            continue\n",
        "                        if s+c+i+l+t+v == 0:\n",
        "                            continue\n",
        "                        if ((s*40+c*34+i*15+l*12+t*20+v*25)/(s+c+i+l+t+v)) < 27:\n",
        "                            continue\n",
        "                        \n",
        "                        # Increase the count of feasible solutions\n",
        "                        best_option += 1\n",
        "                        \n",
        "                        # Calculate the profit for the current solution\n",
        "                        profit = 50 * s + 225 * c + 250 * i + 500 * l + 400 * t + 200 * v\n",
        "                        \n",
        "                        # If the current solution is better than the previous one, update the variables\n",
        "                        if profit > max_profit:\n",
        "                            max_profit = profit\n",
        "                            best_s = s\n",
        "                            best_c = c\n",
        "                            best_i = i\n",
        "                            best_l = l\n",
        "                            best_t = t\n",
        "                            best_v = v\n",
        "\n",
        "# Print the best solution and the number of feasible solutions found\n",
        "print(\"Best profit: \", max_profit)\n",
        "print(\"Best combination: s=\", best_s, \", c=\", best_c, \", i=\", best_i, \", l=\", best_l, \", t=\", best_t, \", v=\", best_v)\n",
        "print(\"Number of feasible solutions found: \", best_option)\n"
      ],
      "metadata": {
        "colab": {
          "base_uri": "https://localhost:8080/"
        },
        "id": "dHEin7l5AJa0",
        "outputId": "6f667e3a-6a53-40cd-c12c-a9ff4ef9d44d"
      },
      "execution_count": 8,
      "outputs": [
        {
          "output_type": "stream",
          "name": "stdout",
          "text": [
            "Best profit:  303750000\n",
            "Best combination: s= 300000 , c= 300000 , i= 75000 , l= 225000 , t= 225000 , v= 0\n",
            "Number of feasible solutions found:  2514\n"
          ]
        }
      ]
    },
    {
      "cell_type": "markdown",
      "source": [
        "### With set value = 50000 "
      ],
      "metadata": {
        "id": "EX1xve2vD9xz"
      }
    },
    {
      "cell_type": "code",
      "source": [
        "# Initialize variables\n",
        "max_profit = -1\n",
        "best_s = -1\n",
        "best_c = -1\n",
        "best_i = -1\n",
        "best_l = -1\n",
        "best_t = -1\n",
        "best_v = -1\n",
        "best_option = 0\n",
        "\n",
        "# Set ranges for each variable\n",
        "s_range = range(0, 600001, 50000)\n",
        "c_range = range(0, 400001, 50000)\n",
        "i_range = range(0, 300001, 50000)\n",
        "l_range = range(0, 225001, 50000)\n",
        "t_range = range(0, 325001, 50000)\n",
        "v_range = range(0, 100001, 50000)\n",
        "\n",
        "# Loop through each combination of variables and check the constraints\n",
        "for s in s_range:\n",
        "    for c in c_range:\n",
        "        if s + c > 620000:\n",
        "            continue\n",
        "        for i in i_range:\n",
        "            for l in l_range:\n",
        "                if i + l > 400000:\n",
        "                    continue\n",
        "                for t in t_range:\n",
        "                    for v in v_range:\n",
        "                        if t + v > 275000:\n",
        "                            continue\n",
        "                        if s + c + i + l + t + v > 1200000:\n",
        "                            continue\n",
        "                        if s + c < (s + c + i + l) / 2:\n",
        "                            continue\n",
        "                        if s+c+i+l+t+v == 0:\n",
        "                            continue\n",
        "                        if ((s*40+c*34+i*15+l*12+t*20+v*25)/(s+c+i+l+t+v)) < 27:\n",
        "                            continue\n",
        "                        \n",
        "                        # Increase the count of feasible solutions\n",
        "                        best_option += 1\n",
        "                        \n",
        "                        # Calculate the profit for the current solution\n",
        "                        profit = 50 * s + 225 * c + 250 * i + 500 * l + 400 * t + 200 * v\n",
        "                        \n",
        "                        # If the current solution is better than the previous one, update the variables\n",
        "                        if profit > max_profit:\n",
        "                            max_profit = profit\n",
        "                            best_s = s\n",
        "                            best_c = c\n",
        "                            best_i = i\n",
        "                            best_l = l\n",
        "                            best_t = t\n",
        "                            best_v = v\n",
        "\n",
        "# Print the best solution and the number of feasible solutions found\n",
        "print(\"Best profit: \", max_profit)\n",
        "print(\"Best combination: s=\", best_s, \", c=\", best_c, \", i=\", best_i, \", l=\", best_l, \", t=\", best_t, \", v=\", best_v)\n",
        "print(\"Number of feasible solutions found: \", best_option)\n"
      ],
      "metadata": {
        "colab": {
          "base_uri": "https://localhost:8080/"
        },
        "id": "qipjLQeAAjaw",
        "outputId": "0862f604-f1af-4e04-e9f9-4d780bb4eeec"
      },
      "execution_count": 9,
      "outputs": [
        {
          "output_type": "stream",
          "name": "stdout",
          "text": [
            "Best profit:  312500000\n",
            "Best combination: s= 200000 , c= 400000 , i= 50000 , l= 200000 , t= 250000 , v= 0\n",
            "Number of feasible solutions found:  20384\n"
          ]
        }
      ]
    },
    {
      "cell_type": "markdown",
      "source": [
        "### With set value = 25000 "
      ],
      "metadata": {
        "id": "-JWgptBEEBUM"
      }
    },
    {
      "cell_type": "code",
      "source": [
        "# Initialize variables\n",
        "max_profit = -1\n",
        "best_s = -1\n",
        "best_c = -1\n",
        "best_i = -1\n",
        "best_l = -1\n",
        "best_t = -1\n",
        "best_v = -1\n",
        "best_option = 0\n",
        "\n",
        "# Set ranges for each variable\n",
        "s_range = range(0, 600001, 25000)\n",
        "c_range = range(0, 400001, 25000)\n",
        "i_range = range(0, 300001, 25000)\n",
        "l_range = range(0, 225001, 25000)\n",
        "t_range = range(0, 325001, 25000)\n",
        "v_range = range(0, 100001, 25000)\n",
        "\n",
        "# Loop through each combination of variables and check the constraints\n",
        "for s in s_range:\n",
        "    for c in c_range:\n",
        "        if s + c > 620000:\n",
        "            continue\n",
        "        for i in i_range:\n",
        "            for l in l_range:\n",
        "                if i + l > 400000:\n",
        "                    continue\n",
        "                for t in t_range:\n",
        "                    for v in v_range:\n",
        "                        if t + v > 275000:\n",
        "                            continue\n",
        "                        if s + c + i + l + t + v > 1200000:\n",
        "                            continue\n",
        "                        if s + c < (s + c + i + l) / 2:\n",
        "                            continue\n",
        "                        if s+c+i+l+t+v == 0:\n",
        "                            continue\n",
        "                        if ((s*40+c*34+i*15+l*12+t*20+v*25)/(s+c+i+l+t+v)) < 27:\n",
        "                            continue\n",
        "                        \n",
        "                        # Increase the count of feasible solutions\n",
        "                        best_option += 1\n",
        "                        \n",
        "                        # Calculate the profit for the current solution\n",
        "                        profit = 50 * s + 225 * c + 250 * i + 500 * l + 400 * t + 200 * v\n",
        "                        \n",
        "                        # If the current solution is better than the previous one, update the variables\n",
        "                        if profit > max_profit:\n",
        "                            max_profit = profit\n",
        "                            best_s = s\n",
        "                            best_c = c\n",
        "                            best_i = i\n",
        "                            best_l = l\n",
        "                            best_t = t\n",
        "                            best_v = v\n",
        "\n",
        "# Print the best solution and the number of feasible solutions found\n",
        "print(\"Best profit: \", max_profit)\n",
        "print(\"Best combination: s=\", best_s, \", c=\", best_c, \", i=\", best_i, \", l=\", best_l, \", t=\", best_t, \", v=\", best_v)\n",
        "print(\"Number of feasible solutions found: \", best_option)\n"
      ],
      "metadata": {
        "colab": {
          "base_uri": "https://localhost:8080/"
        },
        "id": "HY84XizyAyYN",
        "outputId": "16db4780-26d3-467f-bd25-684a3bd1ac03"
      },
      "execution_count": 10,
      "outputs": [
        {
          "output_type": "stream",
          "name": "stdout",
          "text": [
            "Best profit:  322500000\n",
            "Best combination: s= 200000 , c= 400000 , i= 0 , l= 225000 , t= 275000 , v= 0\n",
            "Number of feasible solutions found:  813732\n"
          ]
        }
      ]
    },
    {
      "cell_type": "markdown",
      "source": [
        "### With set value = 15000 "
      ],
      "metadata": {
        "id": "yfzOPXs5EEgr"
      }
    },
    {
      "cell_type": "code",
      "source": [
        "# Initialize variables\n",
        "max_profit = -1\n",
        "best_s = -1\n",
        "best_c = -1\n",
        "best_i = -1\n",
        "best_l = -1\n",
        "best_t = -1\n",
        "best_v = -1\n",
        "best_option = 0\n",
        "\n",
        "# Set ranges for each variable\n",
        "s_range = range(0, 600001, 15000)\n",
        "c_range = range(0, 400001, 15000)\n",
        "i_range = range(0, 300001, 15000)\n",
        "l_range = range(0, 225001, 15000)\n",
        "t_range = range(0, 325001, 15000)\n",
        "v_range = range(0, 100001, 15000)\n",
        "\n",
        "# Loop through each combination of variables and check the constraints\n",
        "for s in s_range:\n",
        "    for c in c_range:\n",
        "        if s + c > 620000:\n",
        "            continue\n",
        "        for i in i_range:\n",
        "            for l in l_range:\n",
        "                if i + l > 400000:\n",
        "                    continue\n",
        "                for t in t_range:\n",
        "                    for v in v_range:\n",
        "                        if t + v > 275000:\n",
        "                            continue\n",
        "                        if s + c + i + l + t + v > 1200000:\n",
        "                            continue\n",
        "                        if s + c < (s + c + i + l) / 2:\n",
        "                            continue\n",
        "                        if s+c+i+l+t+v == 0:\n",
        "                            continue\n",
        "                        if ((s*40+c*34+i*15+l*12+t*20+v*25)/(s+c+i+l+t+v)) < 27:\n",
        "                            continue\n",
        "                        \n",
        "                        # Increase the count of feasible solutions\n",
        "                        best_option += 1\n",
        "                        \n",
        "                        # Calculate the profit for the current solution\n",
        "                        profit = 50 * s + 225 * c + 250 * i + 500 * l + 400 * t + 200 * v\n",
        "                        \n",
        "                        # If the current solution is better than the previous one, update the variables\n",
        "                        if profit > max_profit:\n",
        "                            max_profit = profit\n",
        "                            best_s = s\n",
        "                            best_c = c\n",
        "                            best_i = i\n",
        "                            best_l = l\n",
        "                            best_t = t\n",
        "                            best_v = v\n",
        "\n",
        "# Print the best solution and the number of feasible solutions found\n",
        "print(\"Best profit: \", max_profit)\n",
        "print(\"Best combination: s=\", best_s, \", c=\", best_c, \", i=\", best_i, \", l=\", best_l, \", t=\", best_t, \", v=\", best_v)\n",
        "print(\"Number of feasible solutions found: \", best_option)\n"
      ],
      "metadata": {
        "colab": {
          "base_uri": "https://localhost:8080/"
        },
        "id": "dywyrHqWBOt0",
        "outputId": "ecb62cd1-814e-447b-b06f-badffa620f6f"
      },
      "execution_count": 11,
      "outputs": [
        {
          "output_type": "stream",
          "name": "stdout",
          "text": [
            "Best profit:  327000000\n",
            "Best combination: s= 225000 , c= 390000 , i= 30000 , l= 225000 , t= 270000 , v= 0\n",
            "Number of feasible solutions found:  13057095\n"
          ]
        }
      ]
    },
    {
      "cell_type": "markdown",
      "source": [
        "### With set value = 10000 "
      ],
      "metadata": {
        "id": "6J_eNijGEJP9"
      }
    },
    {
      "cell_type": "code",
      "source": [
        "# Initialize variables\n",
        "max_profit = -1\n",
        "best_s = -1\n",
        "best_c = -1\n",
        "best_i = -1\n",
        "best_l = -1\n",
        "best_t = -1\n",
        "best_v = -1\n",
        "best_option = 0\n",
        "\n",
        "# Set ranges for each variable\n",
        "s_range = range(0, 600001, 10000)\n",
        "c_range = range(0, 400001, 10000)\n",
        "i_range = range(0, 300001, 10000)\n",
        "l_range = range(0, 225001, 10000)\n",
        "t_range = range(0, 325001, 10000)\n",
        "v_range = range(0, 100001, 10000)\n",
        "\n",
        "# Loop through each combination of variables and check the constraints\n",
        "for s in s_range:\n",
        "    for c in c_range:\n",
        "        if s + c > 620000:\n",
        "            continue\n",
        "        for i in i_range:\n",
        "            for l in l_range:\n",
        "                if i + l > 400000:\n",
        "                    continue\n",
        "                for t in t_range:\n",
        "                    for v in v_range:\n",
        "                        if t + v > 275000:\n",
        "                            continue\n",
        "                        if s + c + i + l + t + v > 1200000:\n",
        "                            continue\n",
        "                        if s + c < (s + c + i + l) / 2:\n",
        "                            continue\n",
        "                        if s+c+i+l+t+v == 0:\n",
        "                            continue\n",
        "                        if ((s*40+c*34+i*15+l*12+t*20+v*25)/(s+c+i+l+t+v)) < 27:\n",
        "                            continue\n",
        "                        \n",
        "                        # Increase the count of feasible solutions\n",
        "                        best_option += 1\n",
        "                        \n",
        "                        # Calculate the profit for the current solution\n",
        "                        profit = 50 * s + 225 * c + 250 * i + 500 * l + 400 * t + 200 * v\n",
        "                        \n",
        "                        # If the current solution is better than the previous one, update the variables\n",
        "                        if profit > max_profit:\n",
        "                            max_profit = profit\n",
        "                            best_s = s\n",
        "                            best_c = c\n",
        "                            best_i = i\n",
        "                            best_l = l\n",
        "                            best_t = t\n",
        "                            best_v = v\n",
        "\n",
        "# Print the best solution and the number of feasible solutions found\n",
        "print(\"Best profit: \", max_profit)\n",
        "print(\"Best combination: s=\", best_s, \", c=\", best_c, \", i=\", best_i, \", l=\", best_l, \", t=\", best_t, \", v=\", best_v)\n",
        "print(\"Number of feasible solutions found: \", best_option)\n"
      ],
      "metadata": {
        "colab": {
          "base_uri": "https://localhost:8080/"
        },
        "id": "ZmPT_64CBrmv",
        "outputId": "c8cbf2ce-c507-4e95-e09c-b5d92178481e"
      },
      "execution_count": 12,
      "outputs": [
        {
          "output_type": "stream",
          "name": "stdout",
          "text": [
            "Best profit:  327250000\n",
            "Best combination: s= 230000 , c= 390000 , i= 40000 , l= 220000 , t= 270000 , v= 0\n",
            "Number of feasible solutions found:  145002419\n"
          ]
        }
      ]
    },
    {
      "cell_type": "markdown",
      "source": [
        "### Conclusion: \n",
        "\n",
        "The optimal profit for the ACA is 327000000 with a better run time of 45 seconds."
      ],
      "metadata": {
        "id": "WqWpwF1yE2p7"
      }
    },
    {
      "cell_type": "markdown",
      "source": [
        "## Problem 3 (25 points)\n",
        "\n",
        "Consider the Veerman furniture company problem again. Suppose we don't know for sure the number of hours available each month.  We can assume that the number of hours in normally distributed, with standard deviation 350, 400, and 500 for fabrication, assembly, and shipping, respectively (with expected value at the deterministic value for the original problem).  If you want to be 90% sure that your choice for the number of chairs, desks, and tables will not exceed available hours, how many chairs, desks, and tables should you plan to make to maximize profit?"
      ],
      "metadata": {
        "id": "VSGkrj2je1lg"
      }
    },
    {
      "cell_type": "code",
      "source": [
        "import numpy as np\n",
        "import random\n",
        "\n",
        "# initialize variables to store the best profit and the corresponding values of c, d, and t\n",
        "max_profit = -1\n",
        "best_c_value = -1\n",
        "best_d_value = -1\n",
        "best_t_value = -1\n",
        "\n",
        "# loop through different values of c, d, and t\n",
        "for c_value in np.arange(0, 361, 25):\n",
        "    for d_value in np.arange(0, 301, 25):\n",
        "        for t_value in np.arange(0, 101, 25):\n",
        "            \n",
        "            # simulate different scenarios of fabrication, shipping, and assembly\n",
        "            fab_scenarios = [np.sum(np.random.normal(4, 350/60, c_value)) + \n",
        "                             np.sum(np.random.normal(6, 400/60, d_value)) + \n",
        "                             np.sum(np.random.normal(2, 500/60, t_value)) for i in range(1000)]\n",
        "            ship_scenarios = [np.sum(np.random.normal(3, 350/60, c_value)) + \n",
        "                              np.sum(np.random.normal(2, 400/60, d_value)) + \n",
        "                              np.sum(np.random.normal(4, 500/60, t_value)) for i in range(1000)]\n",
        "            assem_scenarios = [np.sum(np.random.normal(3, 350/60, c_value)) + \n",
        "                               np.sum(np.random.normal(5, 400/60, d_value)) + \n",
        "                               np.sum(np.random.normal(7, 500/60, t_value)) for i in range(1000)]\n",
        "            \n",
        "            # check if the profit for this solution is the highest so far, and update the variables accordingly\n",
        "            if np.quantile(fab_scenarios, 0.90) <= 1850 and np.quantile(ship_scenarios, 0.90) <= 1500 and np.quantile(assem_scenarios, 0.90) <= 2400:\n",
        "                profit = 15*c_value + 24*d_value + 18*t_value\n",
        "                if profit > max_profit:\n",
        "                    max_profit = profit\n",
        "                    best_c_value = c_value\n",
        "                    best_d_value = d_value\n",
        "                    best_t_value = t_value\n",
        "\n",
        "# print the final results\n",
        "print(\"Maximum Profit: \", max_profit)\n",
        "print(\"Best number of Chairs: \", best_c_value)\n",
        "print(\"Best number of Desks: \", best_d_value)\n",
        "print(\"Best number of Tables: \", best_t_value)\n"
      ],
      "metadata": {
        "id": "Ryebwcl-LItH",
        "outputId": "adb1e053-482e-46d4-c224-322afb7a2e34",
        "colab": {
          "base_uri": "https://localhost:8080/"
        }
      },
      "execution_count": 2,
      "outputs": [
        {
          "output_type": "stream",
          "name": "stdout",
          "text": [
            "Maximum Profit:  7575\n",
            "Best number of Chairs:  25\n",
            "Best number of Desks:  225\n",
            "Best number of Tables:  100\n"
          ]
        }
      ]
    },
    {
      "cell_type": "markdown",
      "source": [
        "## Problem 4 (25 points)\n",
        "\n",
        "Think of a problem from your personal experience (work, life, etc.) that would be interesting to tackle with optimization. What are the variables? What are the constaints? What is the objective function? What data would you need to gather in order to solve the problem?"
      ],
      "metadata": {
        "id": "1YNw7EGIguFC"
      }
    },
    {
      "cell_type": "markdown",
      "source": [
        "\n",
        "\n",
        "As an international student pursuing my masters at UConn, I face several challenges in advancing my career. One of the major constraints is my lack of industry experience in my home country, which can limit my job opportunities. Another constraint is the high cost of living in the USA, which adds financial pressure on me.\n",
        "\n",
        "To overcome these challenges, I need to focus on maximizing my knowledge and skills to be successful. The variables in this equation are the various academic and professional development opportunities available to me, including coursework, internships, and networking events. By making the most of these resources, I can improve my chances of landing a good job and advancing my career.\n",
        "\n",
        "Ultimately, my objective function is to follow the best practices in both work and life to be successful in my professional and personal life. This includes building strong relationships with mentors and peers, staying up-to-date with industry trends and developments, and maintaining a healthy work-life balance. By prioritizing these factors, I can achieve my goals and create a fulfilling and rewarding career path for myself."
      ],
      "metadata": {
        "id": "2bSSlGWoNevu"
      }
    }
  ]
}