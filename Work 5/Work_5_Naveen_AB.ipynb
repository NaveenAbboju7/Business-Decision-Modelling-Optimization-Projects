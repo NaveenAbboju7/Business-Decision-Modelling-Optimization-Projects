{
  "nbformat": 4,
  "nbformat_minor": 0,
  "metadata": {
    "colab": {
      "provenance": []
    },
    "kernelspec": {
      "name": "python3",
      "display_name": "Python 3"
    },
    "language_info": {
      "name": "python"
    }
  },
  "cells": [
    {
      "cell_type": "markdown",
      "source": [
        "# Homework 5\n",
        "\n",
        "Due Monday, May 22, 7:59am.\n",
        "\n",
        "1. Solve the machine allocation problem to minimize total time given that each machine has to complete the same number of tasks.\n",
        "2. Suppose that it is OK for a machine to do slightly more tasks than another machine. In particular, for  the small data set, suppose we allow any machine to do at most 5 tasks, but it has to do at least 3 tasks. Solve the machine allocation problem to minimize total time.\n",
        "3. Suppose that machine 0 and machine 1 cannot do odd numbered tasks.  Solve the machine allocation problem to minimize total time."
      ],
      "metadata": {
        "id": "VlEGcH7ke59T"
      }
    },
    {
      "cell_type": "code",
      "source": [
        "from google.colab import drive\n",
        "drive.mount('/content/drive')"
      ],
      "metadata": {
        "colab": {
          "base_uri": "https://localhost:8080/"
        },
        "id": "iZSuiyB3gwCT",
        "outputId": "effb06db-2310-462b-d1d5-ea4e1640bec9"
      },
      "execution_count": 1,
      "outputs": [
        {
          "output_type": "stream",
          "name": "stdout",
          "text": [
            "Mounted at /content/drive\n"
          ]
        }
      ]
    },
    {
      "cell_type": "code",
      "source": [
        "import numpy as np"
      ],
      "metadata": {
        "id": "IG0BjnoDhDuf"
      },
      "execution_count": 2,
      "outputs": []
    },
    {
      "cell_type": "code",
      "source": [
        "path_to_data = \"/content/drive/MyDrive/BDM /machine_scheduling_small.csv\"\n",
        "machine_times = np.genfromtxt(path_to_data, delimiter=',')"
      ],
      "metadata": {
        "id": "dv3rOoRFfEbp"
      },
      "execution_count": 3,
      "outputs": []
    },
    {
      "cell_type": "code",
      "source": [
        "import sys\n",
        "import os\n",
        " \n",
        "if 'google.colab' in sys.modules:\n",
        "    !pip install idaes-pse --pre\n",
        "    !idaes get-extensions --to ./bin\n",
        "    os.environ['PATH'] += ':bin'\n",
        "\n",
        "import pandas as pd\n",
        "import matplotlib.pyplot as plt\n",
        "from pyomo.environ import *"
      ],
      "metadata": {
        "colab": {
          "base_uri": "https://localhost:8080/"
        },
        "id": "qNXRTjJ-hfDP",
        "outputId": "b3fb7a89-4b73-4393-c275-0d23ebb0cc77"
      },
      "execution_count": 4,
      "outputs": [
        {
          "output_type": "stream",
          "name": "stdout",
          "text": [
            "Looking in indexes: https://pypi.org/simple, https://us-python.pkg.dev/colab-wheels/public/simple/\n",
            "Collecting idaes-pse\n",
            "  Downloading idaes_pse-2.0.0-py3-none-any.whl (46.8 MB)\n",
            "\u001b[2K     \u001b[90m━━━━━━━━━━━━━━━━━━━━━━━━━━━━━━━━━━━━━━━━\u001b[0m \u001b[32m46.8/46.8 MB\u001b[0m \u001b[31m16.4 MB/s\u001b[0m eta \u001b[36m0:00:00\u001b[0m\n",
            "\u001b[?25hCollecting backports.shutil-get-terminal-size (from idaes-pse)\n",
            "  Downloading backports.shutil_get_terminal_size-1.0.0-py2.py3-none-any.whl (6.5 kB)\n",
            "Collecting bunch (from idaes-pse)\n",
            "  Downloading bunch-1.0.1.zip (11 kB)\n",
            "  Preparing metadata (setup.py) ... \u001b[?25l\u001b[?25hdone\n",
            "Requirement already satisfied: click>=8 in /usr/local/lib/python3.10/dist-packages (from idaes-pse) (8.1.3)\n",
            "Collecting colorama (from idaes-pse)\n",
            "  Downloading colorama-0.4.6-py2.py3-none-any.whl (25 kB)\n",
            "Collecting distro (from idaes-pse)\n",
            "  Downloading distro-1.8.0-py3-none-any.whl (20 kB)\n",
            "Requirement already satisfied: flask in /usr/local/lib/python3.10/dist-packages (from idaes-pse) (2.2.4)\n",
            "Collecting flask-cors (from idaes-pse)\n",
            "  Downloading Flask_Cors-3.0.10-py2.py3-none-any.whl (14 kB)\n",
            "Collecting jupyter (from idaes-pse)\n",
            "  Downloading jupyter-1.0.0-py2.py3-none-any.whl (2.7 kB)\n",
            "Requirement already satisfied: lxml in /usr/local/lib/python3.10/dist-packages (from idaes-pse) (4.9.2)\n",
            "Requirement already satisfied: matplotlib in /usr/local/lib/python3.10/dist-packages (from idaes-pse) (3.7.1)\n",
            "Requirement already satisfied: nbconvert in /usr/local/lib/python3.10/dist-packages (from idaes-pse) (6.5.4)\n",
            "Requirement already satisfied: nbformat in /usr/local/lib/python3.10/dist-packages (from idaes-pse) (5.8.0)\n",
            "Requirement already satisfied: numpy in /usr/local/lib/python3.10/dist-packages (from idaes-pse) (1.22.4)\n",
            "Requirement already satisfied: networkx in /usr/local/lib/python3.10/dist-packages (from idaes-pse) (3.1)\n",
            "Collecting omlt==1.1 (from idaes-pse)\n",
            "  Downloading omlt-1.1-py2.py3-none-any.whl (37 kB)\n",
            "Collecting pandas<1.5 (from idaes-pse)\n",
            "  Downloading pandas-1.4.4-cp310-cp310-manylinux_2_17_x86_64.manylinux2014_x86_64.whl (11.6 MB)\n",
            "\u001b[2K     \u001b[90m━━━━━━━━━━━━━━━━━━━━━━━━━━━━━━━━━━━━━━━\u001b[0m \u001b[32m11.6/11.6 MB\u001b[0m \u001b[31m106.1 MB/s\u001b[0m eta \u001b[36m0:00:00\u001b[0m\n",
            "\u001b[?25hCollecting pint (from idaes-pse)\n",
            "  Downloading Pint-0.22rc2-py3-none-any.whl (294 kB)\n",
            "\u001b[2K     \u001b[90m━━━━━━━━━━━━━━━━━━━━━━━━━━━━━━━━━━━━━━\u001b[0m \u001b[32m294.1/294.1 kB\u001b[0m \u001b[31m28.9 MB/s\u001b[0m eta \u001b[36m0:00:00\u001b[0m\n",
            "\u001b[?25hRequirement already satisfied: psutil in /usr/local/lib/python3.10/dist-packages (from idaes-pse) (5.9.5)\n",
            "Collecting pyomo>=6.5.0 (from idaes-pse)\n",
            "  Downloading Pyomo-6.5.0-cp310-cp310-manylinux_2_17_x86_64.manylinux2014_x86_64.whl (10.7 MB)\n",
            "\u001b[2K     \u001b[90m━━━━━━━━━━━━━━━━━━━━━━━━━━━━━━━━━━━━━━━━\u001b[0m \u001b[32m10.7/10.7 MB\u001b[0m \u001b[31m81.4 MB/s\u001b[0m eta \u001b[36m0:00:00\u001b[0m\n",
            "\u001b[?25hRequirement already satisfied: pytest in /usr/local/lib/python3.10/dist-packages (from idaes-pse) (7.2.2)\n",
            "Requirement already satisfied: pyyaml in /usr/local/lib/python3.10/dist-packages (from idaes-pse) (6.0)\n",
            "Requirement already satisfied: requests in /usr/local/lib/python3.10/dist-packages (from idaes-pse) (2.27.1)\n",
            "Requirement already satisfied: python-slugify in /usr/local/lib/python3.10/dist-packages (from idaes-pse) (8.0.1)\n",
            "Requirement already satisfied: scipy in /usr/local/lib/python3.10/dist-packages (from idaes-pse) (1.10.1)\n",
            "Requirement already satisfied: sympy in /usr/local/lib/python3.10/dist-packages (from idaes-pse) (1.11.1)\n",
            "Collecting tinydb (from idaes-pse)\n",
            "  Downloading tinydb-4.7.1-py3-none-any.whl (24 kB)\n",
            "Collecting rbfopt (from idaes-pse)\n",
            "  Downloading rbfopt-4.2.5-py2.py3-none-any.whl (135 kB)\n",
            "\u001b[2K     \u001b[90m━━━━━━━━━━━━━━━━━━━━━━━━━━━━━━━━━━━━━━\u001b[0m \u001b[32m135.6/135.6 kB\u001b[0m \u001b[31m15.7 MB/s\u001b[0m eta \u001b[36m0:00:00\u001b[0m\n",
            "\u001b[?25hRequirement already satisfied: xlrd in /usr/local/lib/python3.10/dist-packages (from idaes-pse) (2.0.1)\n",
            "Requirement already satisfied: openpyxl in /usr/local/lib/python3.10/dist-packages (from idaes-pse) (3.0.10)\n",
            "Requirement already satisfied: ipython<8.0.0 in /usr/local/lib/python3.10/dist-packages (from idaes-pse) (7.34.0)\n",
            "Requirement already satisfied: setuptools>=18.5 in /usr/local/lib/python3.10/dist-packages (from ipython<8.0.0->idaes-pse) (67.7.2)\n",
            "Collecting jedi>=0.16 (from ipython<8.0.0->idaes-pse)\n",
            "  Downloading jedi-0.18.2-py2.py3-none-any.whl (1.6 MB)\n",
            "\u001b[2K     \u001b[90m━━━━━━━━━━━━━━━━━━━━━━━━━━━━━━━━━━━━━━━━\u001b[0m \u001b[32m1.6/1.6 MB\u001b[0m \u001b[31m78.8 MB/s\u001b[0m eta \u001b[36m0:00:00\u001b[0m\n",
            "\u001b[?25hRequirement already satisfied: decorator in /usr/local/lib/python3.10/dist-packages (from ipython<8.0.0->idaes-pse) (4.4.2)\n",
            "Requirement already satisfied: pickleshare in /usr/local/lib/python3.10/dist-packages (from ipython<8.0.0->idaes-pse) (0.7.5)\n",
            "Requirement already satisfied: traitlets>=4.2 in /usr/local/lib/python3.10/dist-packages (from ipython<8.0.0->idaes-pse) (5.7.1)\n",
            "Requirement already satisfied: prompt-toolkit!=3.0.0,!=3.0.1,<3.1.0,>=2.0.0 in /usr/local/lib/python3.10/dist-packages (from ipython<8.0.0->idaes-pse) (3.0.38)\n",
            "Requirement already satisfied: pygments in /usr/local/lib/python3.10/dist-packages (from ipython<8.0.0->idaes-pse) (2.14.0)\n",
            "Requirement already satisfied: backcall in /usr/local/lib/python3.10/dist-packages (from ipython<8.0.0->idaes-pse) (0.2.0)\n",
            "Requirement already satisfied: matplotlib-inline in /usr/local/lib/python3.10/dist-packages (from ipython<8.0.0->idaes-pse) (0.1.6)\n",
            "Requirement already satisfied: pexpect>4.3 in /usr/local/lib/python3.10/dist-packages (from ipython<8.0.0->idaes-pse) (4.8.0)\n",
            "Requirement already satisfied: python-dateutil>=2.8.1 in /usr/local/lib/python3.10/dist-packages (from pandas<1.5->idaes-pse) (2.8.2)\n",
            "Requirement already satisfied: pytz>=2020.1 in /usr/local/lib/python3.10/dist-packages (from pandas<1.5->idaes-pse) (2022.7.1)\n",
            "Collecting ply (from pyomo>=6.5.0->idaes-pse)\n",
            "  Downloading ply-3.11-py2.py3-none-any.whl (49 kB)\n",
            "\u001b[2K     \u001b[90m━━━━━━━━━━━━━━━━━━━━━━━━━━━━━━━━━━━━━━━━\u001b[0m \u001b[32m49.6/49.6 kB\u001b[0m \u001b[31m6.1 MB/s\u001b[0m eta \u001b[36m0:00:00\u001b[0m\n",
            "\u001b[?25hRequirement already satisfied: Werkzeug>=2.2.2 in /usr/local/lib/python3.10/dist-packages (from flask->idaes-pse) (2.3.0)\n",
            "Requirement already satisfied: Jinja2>=3.0 in /usr/local/lib/python3.10/dist-packages (from flask->idaes-pse) (3.1.2)\n",
            "Requirement already satisfied: itsdangerous>=2.0 in /usr/local/lib/python3.10/dist-packages (from flask->idaes-pse) (2.1.2)\n",
            "Requirement already satisfied: Six in /usr/local/lib/python3.10/dist-packages (from flask-cors->idaes-pse) (1.16.0)\n",
            "Requirement already satisfied: notebook in /usr/local/lib/python3.10/dist-packages (from jupyter->idaes-pse) (6.4.8)\n",
            "Collecting qtconsole (from jupyter->idaes-pse)\n",
            "  Downloading qtconsole-5.4.3-py3-none-any.whl (121 kB)\n",
            "\u001b[2K     \u001b[90m━━━━━━━━━━━━━━━━━━━━━━━━━━━━━━━━━━━━━━\u001b[0m \u001b[32m121.9/121.9 kB\u001b[0m \u001b[31m16.0 MB/s\u001b[0m eta \u001b[36m0:00:00\u001b[0m\n",
            "\u001b[?25hRequirement already satisfied: jupyter-console in /usr/local/lib/python3.10/dist-packages (from jupyter->idaes-pse) (6.1.0)\n",
            "Requirement already satisfied: ipykernel in /usr/local/lib/python3.10/dist-packages (from jupyter->idaes-pse) (5.5.6)\n",
            "Requirement already satisfied: ipywidgets in /usr/local/lib/python3.10/dist-packages (from jupyter->idaes-pse) (7.7.1)\n",
            "Requirement already satisfied: contourpy>=1.0.1 in /usr/local/lib/python3.10/dist-packages (from matplotlib->idaes-pse) (1.0.7)\n",
            "Requirement already satisfied: cycler>=0.10 in /usr/local/lib/python3.10/dist-packages (from matplotlib->idaes-pse) (0.11.0)\n",
            "Requirement already satisfied: fonttools>=4.22.0 in /usr/local/lib/python3.10/dist-packages (from matplotlib->idaes-pse) (4.39.3)\n",
            "Requirement already satisfied: kiwisolver>=1.0.1 in /usr/local/lib/python3.10/dist-packages (from matplotlib->idaes-pse) (1.4.4)\n",
            "Requirement already satisfied: packaging>=20.0 in /usr/local/lib/python3.10/dist-packages (from matplotlib->idaes-pse) (23.1)\n",
            "Requirement already satisfied: pillow>=6.2.0 in /usr/local/lib/python3.10/dist-packages (from matplotlib->idaes-pse) (8.4.0)\n",
            "Requirement already satisfied: pyparsing>=2.3.1 in /usr/local/lib/python3.10/dist-packages (from matplotlib->idaes-pse) (3.0.9)\n",
            "Requirement already satisfied: beautifulsoup4 in /usr/local/lib/python3.10/dist-packages (from nbconvert->idaes-pse) (4.11.2)\n",
            "Requirement already satisfied: bleach in /usr/local/lib/python3.10/dist-packages (from nbconvert->idaes-pse) (6.0.0)\n",
            "Requirement already satisfied: defusedxml in /usr/local/lib/python3.10/dist-packages (from nbconvert->idaes-pse) (0.7.1)\n",
            "Requirement already satisfied: entrypoints>=0.2.2 in /usr/local/lib/python3.10/dist-packages (from nbconvert->idaes-pse) (0.4)\n",
            "Requirement already satisfied: jupyter-core>=4.7 in /usr/local/lib/python3.10/dist-packages (from nbconvert->idaes-pse) (5.3.0)\n",
            "Requirement already satisfied: jupyterlab-pygments in /usr/local/lib/python3.10/dist-packages (from nbconvert->idaes-pse) (0.2.2)\n",
            "Requirement already satisfied: MarkupSafe>=2.0 in /usr/local/lib/python3.10/dist-packages (from nbconvert->idaes-pse) (2.1.2)\n",
            "Requirement already satisfied: mistune<2,>=0.8.1 in /usr/local/lib/python3.10/dist-packages (from nbconvert->idaes-pse) (0.8.4)\n",
            "Requirement already satisfied: nbclient>=0.5.0 in /usr/local/lib/python3.10/dist-packages (from nbconvert->idaes-pse) (0.7.4)\n",
            "Requirement already satisfied: pandocfilters>=1.4.1 in /usr/local/lib/python3.10/dist-packages (from nbconvert->idaes-pse) (1.5.0)\n",
            "Requirement already satisfied: tinycss2 in /usr/local/lib/python3.10/dist-packages (from nbconvert->idaes-pse) (1.2.1)\n",
            "Requirement already satisfied: fastjsonschema in /usr/local/lib/python3.10/dist-packages (from nbformat->idaes-pse) (2.16.3)\n",
            "Requirement already satisfied: jsonschema>=2.6 in /usr/local/lib/python3.10/dist-packages (from nbformat->idaes-pse) (4.3.3)\n",
            "Requirement already satisfied: et-xmlfile in /usr/local/lib/python3.10/dist-packages (from openpyxl->idaes-pse) (1.1.0)\n",
            "Requirement already satisfied: typing-extensions in /usr/local/lib/python3.10/dist-packages (from pint->idaes-pse) (4.5.0)\n",
            "Requirement already satisfied: attrs>=19.2.0 in /usr/local/lib/python3.10/dist-packages (from pytest->idaes-pse) (23.1.0)\n",
            "Requirement already satisfied: iniconfig in /usr/local/lib/python3.10/dist-packages (from pytest->idaes-pse) (2.0.0)\n",
            "Requirement already satisfied: pluggy<2.0,>=0.12 in /usr/local/lib/python3.10/dist-packages (from pytest->idaes-pse) (1.0.0)\n",
            "Requirement already satisfied: exceptiongroup>=1.0.0rc8 in /usr/local/lib/python3.10/dist-packages (from pytest->idaes-pse) (1.1.1)\n",
            "Requirement already satisfied: tomli>=1.0.0 in /usr/local/lib/python3.10/dist-packages (from pytest->idaes-pse) (2.0.1)\n",
            "Requirement already satisfied: text-unidecode>=1.3 in /usr/local/lib/python3.10/dist-packages (from python-slugify->idaes-pse) (1.3)\n",
            "Requirement already satisfied: urllib3<1.27,>=1.21.1 in /usr/local/lib/python3.10/dist-packages (from requests->idaes-pse) (1.26.15)\n",
            "Requirement already satisfied: certifi>=2017.4.17 in /usr/local/lib/python3.10/dist-packages (from requests->idaes-pse) (2022.12.7)\n",
            "Requirement already satisfied: charset-normalizer~=2.0.0 in /usr/local/lib/python3.10/dist-packages (from requests->idaes-pse) (2.0.12)\n",
            "Requirement already satisfied: idna<4,>=2.5 in /usr/local/lib/python3.10/dist-packages (from requests->idaes-pse) (3.4)\n",
            "Requirement already satisfied: mpmath>=0.19 in /usr/local/lib/python3.10/dist-packages (from sympy->idaes-pse) (1.3.0)\n",
            "Requirement already satisfied: parso<0.9.0,>=0.8.0 in /usr/local/lib/python3.10/dist-packages (from jedi>=0.16->ipython<8.0.0->idaes-pse) (0.8.3)\n",
            "Requirement already satisfied: pyrsistent!=0.17.0,!=0.17.1,!=0.17.2,>=0.14.0 in /usr/local/lib/python3.10/dist-packages (from jsonschema>=2.6->nbformat->idaes-pse) (0.19.3)\n",
            "Requirement already satisfied: platformdirs>=2.5 in /usr/local/lib/python3.10/dist-packages (from jupyter-core>=4.7->nbconvert->idaes-pse) (3.3.0)\n",
            "Requirement already satisfied: jupyter-client>=6.1.12 in /usr/local/lib/python3.10/dist-packages (from nbclient>=0.5.0->nbconvert->idaes-pse) (6.1.12)\n",
            "Requirement already satisfied: ptyprocess>=0.5 in /usr/local/lib/python3.10/dist-packages (from pexpect>4.3->ipython<8.0.0->idaes-pse) (0.7.0)\n",
            "Requirement already satisfied: wcwidth in /usr/local/lib/python3.10/dist-packages (from prompt-toolkit!=3.0.0,!=3.0.1,<3.1.0,>=2.0.0->ipython<8.0.0->idaes-pse) (0.2.6)\n",
            "Requirement already satisfied: soupsieve>1.2 in /usr/local/lib/python3.10/dist-packages (from beautifulsoup4->nbconvert->idaes-pse) (2.4.1)\n",
            "Requirement already satisfied: webencodings in /usr/local/lib/python3.10/dist-packages (from bleach->nbconvert->idaes-pse) (0.5.1)\n",
            "Requirement already satisfied: ipython-genutils in /usr/local/lib/python3.10/dist-packages (from ipykernel->jupyter->idaes-pse) (0.2.0)\n",
            "Requirement already satisfied: tornado>=4.2 in /usr/local/lib/python3.10/dist-packages (from ipykernel->jupyter->idaes-pse) (6.3.1)\n",
            "Requirement already satisfied: widgetsnbextension~=3.6.0 in /usr/local/lib/python3.10/dist-packages (from ipywidgets->jupyter->idaes-pse) (3.6.4)\n",
            "Requirement already satisfied: jupyterlab-widgets>=1.0.0 in /usr/local/lib/python3.10/dist-packages (from ipywidgets->jupyter->idaes-pse) (3.0.7)\n",
            "Requirement already satisfied: pyzmq>=17 in /usr/local/lib/python3.10/dist-packages (from notebook->jupyter->idaes-pse) (23.2.1)\n",
            "Requirement already satisfied: argon2-cffi in /usr/local/lib/python3.10/dist-packages (from notebook->jupyter->idaes-pse) (21.3.0)\n",
            "Requirement already satisfied: nest-asyncio>=1.5 in /usr/local/lib/python3.10/dist-packages (from notebook->jupyter->idaes-pse) (1.5.6)\n",
            "Requirement already satisfied: Send2Trash>=1.8.0 in /usr/local/lib/python3.10/dist-packages (from notebook->jupyter->idaes-pse) (1.8.0)\n",
            "Requirement already satisfied: terminado>=0.8.3 in /usr/local/lib/python3.10/dist-packages (from notebook->jupyter->idaes-pse) (0.17.1)\n",
            "Requirement already satisfied: prometheus-client in /usr/local/lib/python3.10/dist-packages (from notebook->jupyter->idaes-pse) (0.16.0)\n",
            "Collecting qtpy>=2.0.1 (from qtconsole->jupyter->idaes-pse)\n",
            "  Downloading QtPy-2.3.1-py3-none-any.whl (84 kB)\n",
            "\u001b[2K     \u001b[90m━━━━━━━━━━━━━━━━━━━━━━━━━━━━━━━━━━━━━━━━\u001b[0m \u001b[32m84.9/84.9 kB\u001b[0m \u001b[31m10.5 MB/s\u001b[0m eta \u001b[36m0:00:00\u001b[0m\n",
            "\u001b[?25hRequirement already satisfied: argon2-cffi-bindings in /usr/local/lib/python3.10/dist-packages (from argon2-cffi->notebook->jupyter->idaes-pse) (21.2.0)\n",
            "Requirement already satisfied: cffi>=1.0.1 in /usr/local/lib/python3.10/dist-packages (from argon2-cffi-bindings->argon2-cffi->notebook->jupyter->idaes-pse) (1.15.1)\n",
            "Requirement already satisfied: pycparser in /usr/local/lib/python3.10/dist-packages (from cffi>=1.0.1->argon2-cffi-bindings->argon2-cffi->notebook->jupyter->idaes-pse) (2.21)\n",
            "Building wheels for collected packages: bunch\n",
            "  Building wheel for bunch (setup.py) ... \u001b[?25l\u001b[?25hdone\n",
            "  Created wheel for bunch: filename=bunch-1.0.1-py3-none-any.whl size=7076 sha256=dbfbf7e2de0663d9e1a2790cdf960462cc99419b438af7929a87b7b9bdee2c41\n",
            "  Stored in directory: /root/.cache/pip/wheels/b8/a9/fe/1ab6d927c80327a67fddb03d620f77b8168c0f6caaac3a5271\n",
            "Successfully built bunch\n",
            "Installing collected packages: ply, bunch, backports.shutil-get-terminal-size, tinydb, qtpy, pyomo, pint, jedi, distro, colorama, rbfopt, pandas, omlt, flask-cors, qtconsole, jupyter, idaes-pse\n",
            "  Attempting uninstall: pandas\n",
            "    Found existing installation: pandas 1.5.3\n",
            "    Uninstalling pandas-1.5.3:\n",
            "      Successfully uninstalled pandas-1.5.3\n",
            "\u001b[31mERROR: pip's dependency resolver does not currently take into account all the packages that are installed. This behaviour is the source of the following dependency conflicts.\n",
            "google-colab 1.0.0 requires pandas==1.5.3, but you have pandas 1.4.4 which is incompatible.\u001b[0m\u001b[31m\n",
            "\u001b[0mSuccessfully installed backports.shutil-get-terminal-size-1.0.0 bunch-1.0.1 colorama-0.4.6 distro-1.8.0 flask-cors-3.0.10 idaes-pse-2.0.0 jedi-0.18.2 jupyter-1.0.0 omlt-1.1 pandas-1.4.4 pint-0.22rc2 ply-3.11 pyomo-6.5.0 qtconsole-5.4.3 qtpy-2.3.1 rbfopt-4.2.5 tinydb-4.7.1\n",
            "Getting files...\n",
            "Done\n",
            "---------------------------------------------------\n",
            "IDAES Extensions Build Versions\n",
            "===================================================\n",
            "Solvers:  vno version file found\n",
            "Library:  vno version file found\n",
            "===================================================\n"
          ]
        }
      ]
    },
    {
      "cell_type": "code",
      "source": [
        "machine_times"
      ],
      "metadata": {
        "colab": {
          "base_uri": "https://localhost:8080/"
        },
        "id": "sps_8CPFhOon",
        "outputId": "d8c65474-a12d-4605-97e0-8b4181eec65a"
      },
      "execution_count": 5,
      "outputs": [
        {
          "output_type": "execute_result",
          "data": {
            "text/plain": [
              "array([[39., 31., 28., 37., 40., 38., 26., 35., 28., 23., 24., 31., 27.,\n",
              "        23., 25., 25., 23., 31., 27., 32.],\n",
              "       [27., 30., 31., 24., 21., 24., 30., 35., 27., 30., 36., 21., 38.,\n",
              "        31., 27., 24., 23., 28., 35., 32.],\n",
              "       [36., 23., 34., 40., 23., 31., 30., 36., 38., 32., 39., 34., 20.,\n",
              "        35., 40., 24., 26., 34., 38., 33.],\n",
              "       [40., 34., 40., 36., 30., 32., 39., 40., 24., 39., 25., 37., 39.,\n",
              "        40., 30., 29., 29., 21., 34., 35.],\n",
              "       [29., 29., 28., 40., 29., 29., 23., 28., 29., 35., 21., 28., 24.,\n",
              "        22., 28., 22., 30., 21., 34., 36.]])"
            ]
          },
          "metadata": {},
          "execution_count": 5
        }
      ]
    },
    {
      "cell_type": "code",
      "source": [
        "number_of_machines = machine_times.shape[0]\n",
        "number_of_tasks = machine_times.shape[1]\n",
        "n_tasks_per_machine = int(number_of_tasks/number_of_machines)\n",
        "print(\"Machines: \", number_of_machines)\n",
        "print(\"Tasks: \", number_of_tasks)\n",
        "print(\"Per machine: \", n_tasks_per_machine)"
      ],
      "metadata": {
        "colab": {
          "base_uri": "https://localhost:8080/"
        },
        "id": "07F9B7IeIiVy",
        "outputId": "c450be54-dc94-4958-9701-5461482e6e4f"
      },
      "execution_count": 6,
      "outputs": [
        {
          "output_type": "stream",
          "name": "stdout",
          "text": [
            "Machines:  5\n",
            "Tasks:  20\n",
            "Per machine:  4\n"
          ]
        }
      ]
    },
    {
      "cell_type": "markdown",
      "source": [
        "# Problem 1"
      ],
      "metadata": {
        "id": "dJ06KRPWIvD8"
      }
    },
    {
      "cell_type": "code",
      "source": [
        "model = ConcreteModel()\n",
        "\n",
        "# Define indices and parameters\n",
        "number_of_machines = machine_times.shape[0]\n",
        "number_of_tasks = machine_times.shape[1]\n",
        "n_tasks_per_machine = int(number_of_tasks / number_of_machines)\n",
        "\n",
        "model.Machines = RangeSet(1, number_of_machines)\n",
        "model.Tasks = RangeSet(1, number_of_tasks)\n",
        "\n",
        "# Define binary decision variables\n",
        "model.x = Var(model.Machines, model.Tasks, within=Binary)\n",
        "\n",
        "# Define the objective function\n",
        "objective_expr = sum(model.x[m, t] * machine_times[m - 1, t - 1] for m in model.Machines for t in model.Tasks)\n",
        "model.total_time = Objective(expr=objective_expr, sense=minimize)\n",
        "\n",
        "# Define the constraint for the number of tasks per machine\n",
        "model.tasks_per_machine = ConstraintList()\n",
        "for m in model.Machines:\n",
        "    tasks_expr = sum(model.x[m, t] for t in model.Tasks)\n",
        "    model.tasks_per_machine.add(tasks_expr == n_tasks_per_machine)\n",
        "\n",
        "# Solve the optimization model\n",
        "SolverFactory('cbc').solve(model, tee=True)"
      ],
      "metadata": {
        "colab": {
          "base_uri": "https://localhost:8080/"
        },
        "id": "eMc2IrmfIHwG",
        "outputId": "cd92bbb1-ede9-4e1b-e92e-66d58ebdc457"
      },
      "execution_count": 7,
      "outputs": [
        {
          "output_type": "stream",
          "name": "stdout",
          "text": [
            "Welcome to the CBC MILP Solver \n",
            "Version: 2.10.8 \n",
            "Build Date: Feb  3 2023 \n",
            "\n",
            "command line - /content/bin/cbc -printingOptions all -import /tmp/tmpwldzmytw.pyomo.lp -stat=1 -solve -solu /tmp/tmpwldzmytw.pyomo.soln (default strategy 1)\n",
            "Option for printingOptions changed from normal to all\n",
            "Presolve 5 (-1) rows, 100 (-1) columns and 100 (-1) elements\n",
            "Statistics for presolved model\n",
            "Original problem has 100 integers (100 of which binary)\n",
            "Presolved problem has 100 integers (100 of which binary)\n",
            "==== 0 zero objective 21 different\n",
            "==== absolute objective values 21 different\n",
            "==== for integers 0 zero objective 21 different\n",
            "==== for integers absolute objective values 21 different\n",
            "===== end objective counts\n",
            "\n",
            "\n",
            "Problem has 5 rows, 100 columns (100 with objective) and 100 elements\n",
            "There are 100 singletons with objective \n",
            "Column breakdown:\n",
            "0 of type 0.0->inf, 0 of type 0.0->up, 0 of type lo->inf, \n",
            "0 of type lo->up, 0 of type free, 0 of type fixed, \n",
            "0 of type -inf->0.0, 0 of type -inf->up, 100 of type 0.0->1.0 \n",
            "Row breakdown:\n",
            "0 of type E 0.0, 0 of type E 1.0, 0 of type E -1.0, \n",
            "5 of type E other, 0 of type G 0.0, 0 of type G 1.0, \n",
            "0 of type G other, 0 of type L 0.0, 0 of type L 1.0, \n",
            "0 of type L other, 0 of type Range 0.0->1.0, 0 of type Range other, \n",
            "0 of type Free \n",
            "Continuous objective value is 457 - 0.00 seconds\n",
            "Cgl0004I processed model has 5 rows, 96 columns (96 integer (92 of which binary)) and 96 elements\n",
            "Cutoff increment increased from 1e-05 to 0.9999\n",
            "Cbc0038I Initial state - 0 integers unsatisfied sum - 0\n",
            "Cbc0038I Solution found of 457\n",
            "Cbc0038I Cleaned solution of 457\n",
            "Cbc0038I Before mini branch and bound, 96 integers at bound fixed and 0 continuous of which 1 were internal integer and 0 internal continuous\n",
            "Cbc0038I Mini branch and bound did not improve solution (0.00 seconds)\n",
            "Cbc0038I After 0.00 seconds - Feasibility pump exiting with objective of 457 - took 0.00 seconds\n",
            "Cbc0012I Integer solution of 457 found by feasibility pump after 0 iterations and 0 nodes (0.00 seconds)\n",
            "Cbc0001I Search completed - best objective 457, took 0 iterations and 0 nodes (0.00 seconds)\n",
            "Cbc0035I Maximum depth 0, 0 variables fixed on reduced cost\n",
            "Cuts at root node changed objective from 457 to 457\n",
            "Probing was tried 0 times and created 0 cuts of which 0 were active after adding rounds of cuts (0.000 seconds)\n",
            "Gomory was tried 0 times and created 0 cuts of which 0 were active after adding rounds of cuts (0.000 seconds)\n",
            "Knapsack was tried 0 times and created 0 cuts of which 0 were active after adding rounds of cuts (0.000 seconds)\n",
            "Clique was tried 0 times and created 0 cuts of which 0 were active after adding rounds of cuts (0.000 seconds)\n",
            "MixedIntegerRounding2 was tried 0 times and created 0 cuts of which 0 were active after adding rounds of cuts (0.000 seconds)\n",
            "FlowCover was tried 0 times and created 0 cuts of which 0 were active after adding rounds of cuts (0.000 seconds)\n",
            "TwoMirCuts was tried 0 times and created 0 cuts of which 0 were active after adding rounds of cuts (0.000 seconds)\n",
            "ZeroHalf was tried 0 times and created 0 cuts of which 0 were active after adding rounds of cuts (0.000 seconds)\n",
            "\n",
            "Result - Optimal solution found\n",
            "\n",
            "Objective value:                457.00000000\n",
            "Enumerated nodes:               0\n",
            "Total iterations:               0\n",
            "Time (CPU seconds):             0.00\n",
            "Time (Wallclock seconds):       0.01\n",
            "\n",
            "Total time (CPU seconds):       0.01   (Wallclock seconds):       0.01\n",
            "\n"
          ]
        },
        {
          "output_type": "execute_result",
          "data": {
            "text/plain": [
              "{'Problem': [{'Name': 'unknown', 'Lower bound': 457.0, 'Upper bound': 457.0, 'Number of objectives': 1, 'Number of constraints': 5, 'Number of variables': 100, 'Number of binary variables': 100, 'Number of integer variables': 100, 'Number of nonzeros': 100, 'Sense': 'minimize'}], 'Solver': [{'Status': 'ok', 'User time': -1.0, 'System time': 0.01, 'Wallclock time': 0.01, 'Termination condition': 'optimal', 'Termination message': 'Model was solved to optimality (subject to tolerances), and an optimal solution is available.', 'Statistics': {'Branch and bound': {'Number of bounded subproblems': 0, 'Number of created subproblems': 0}, 'Black box': {'Number of iterations': 0}}, 'Error rc': 0, 'Time': 0.0858461856842041}], 'Solution': [OrderedDict([('number of solutions', 0), ('number of solutions displayed', 0)])]}"
            ]
          },
          "metadata": {},
          "execution_count": 7
        }
      ]
    },
    {
      "cell_type": "code",
      "source": [
        "# Print the optimal machine-task allocation\n",
        "for m in model.Machines:\n",
        "    for t in model.Tasks:\n",
        "        if model.x[m, t]() == 1:\n",
        "            print(f\"Task {t} assigned to Machine {m}\")"
      ],
      "metadata": {
        "colab": {
          "base_uri": "https://localhost:8080/"
        },
        "id": "NKEhT--3IOvv",
        "outputId": "c6a028dc-cac2-4480-8d68-946cfc1707e8"
      },
      "execution_count": 8,
      "outputs": [
        {
          "output_type": "stream",
          "name": "stdout",
          "text": [
            "Task 10 assigned to Machine 1\n",
            "Task 11 assigned to Machine 1\n",
            "Task 14 assigned to Machine 1\n",
            "Task 17 assigned to Machine 1\n",
            "Task 4 assigned to Machine 2\n",
            "Task 5 assigned to Machine 2\n",
            "Task 12 assigned to Machine 2\n",
            "Task 17 assigned to Machine 2\n",
            "Task 2 assigned to Machine 3\n",
            "Task 5 assigned to Machine 3\n",
            "Task 13 assigned to Machine 3\n",
            "Task 16 assigned to Machine 3\n",
            "Task 9 assigned to Machine 4\n",
            "Task 11 assigned to Machine 4\n",
            "Task 16 assigned to Machine 4\n",
            "Task 18 assigned to Machine 4\n",
            "Task 11 assigned to Machine 5\n",
            "Task 14 assigned to Machine 5\n",
            "Task 16 assigned to Machine 5\n",
            "Task 18 assigned to Machine 5\n"
          ]
        }
      ]
    },
    {
      "cell_type": "markdown",
      "source": [
        "# Problem 2"
      ],
      "metadata": {
        "id": "e3RuXHatIzKC"
      }
    },
    {
      "cell_type": "code",
      "source": [
        "\n",
        "model = ConcreteModel()\n",
        "\n",
        "# Define indices and parameters\n",
        "number_of_machines = machine_times.shape[0]\n",
        "number_of_tasks = machine_times.shape[1]\n",
        "\n",
        "model.Machines = RangeSet(1, number_of_machines)\n",
        "model.Tasks = RangeSet(1, number_of_tasks)\n",
        "\n",
        "# Define binary decision variables\n",
        "model.x = Var(model.Machines, model.Tasks, within=Binary)\n",
        "\n",
        "# Define the objective function\n",
        "objective_expr = sum(model.x[m, t] * machine_times[m - 1, t - 1] for m in model.Machines for t in model.Tasks)\n",
        "model.total_time = Objective(expr=objective_expr, sense=minimize)\n",
        "\n",
        "# Define the constraint for the number of tasks per machine\n",
        "model.min_tasks_per_machine = ConstraintList()\n",
        "model.max_tasks_per_machine = ConstraintList()\n",
        "\n",
        "min_tasks_per_machine_limit = 3\n",
        "max_tasks_per_machine_limit = 5\n",
        "\n",
        "for m in model.Machines:\n",
        "    tasks_expr = sum(model.x[m, t] for t in model.Tasks)\n",
        "    model.min_tasks_per_machine.add(tasks_expr >= min_tasks_per_machine_limit)\n",
        "    model.max_tasks_per_machine.add(tasks_expr <= max_tasks_per_machine_limit)\n",
        "\n",
        "# Solve the optimization model\n",
        "SolverFactory('cbc').solve(model, tee=True)\n",
        "\n"
      ],
      "metadata": {
        "colab": {
          "base_uri": "https://localhost:8080/"
        },
        "id": "qYV34ZNJh77H",
        "outputId": "bca57597-bc6c-4980-93be-ebe3808e1998"
      },
      "execution_count": 9,
      "outputs": [
        {
          "output_type": "stream",
          "name": "stdout",
          "text": [
            "Welcome to the CBC MILP Solver \n",
            "Version: 2.10.8 \n",
            "Build Date: Feb  3 2023 \n",
            "\n",
            "command line - /content/bin/cbc -printingOptions all -import /tmp/tmpcs_59157.pyomo.lp -stat=1 -solve -solu /tmp/tmpcs_59157.pyomo.soln (default strategy 1)\n",
            "Option for printingOptions changed from normal to all\n",
            "Presolve 10 (-1) rows, 100 (-1) columns and 200 (-1) elements\n",
            "Statistics for presolved model\n",
            "Original problem has 100 integers (100 of which binary)\n",
            "Presolved problem has 100 integers (100 of which binary)\n",
            "==== 0 zero objective 21 different\n",
            "==== absolute objective values 21 different\n",
            "==== for integers 0 zero objective 21 different\n",
            "==== for integers absolute objective values 21 different\n",
            "===== end objective counts\n",
            "\n",
            "\n",
            "Problem has 10 rows, 100 columns (100 with objective) and 200 elements\n",
            "Column breakdown:\n",
            "0 of type 0.0->inf, 0 of type 0.0->up, 0 of type lo->inf, \n",
            "0 of type lo->up, 0 of type free, 0 of type fixed, \n",
            "0 of type -inf->0.0, 0 of type -inf->up, 100 of type 0.0->1.0 \n",
            "Row breakdown:\n",
            "0 of type E 0.0, 0 of type E 1.0, 0 of type E -1.0, \n",
            "0 of type E other, 0 of type G 0.0, 0 of type G 1.0, \n",
            "5 of type G other, 0 of type L 0.0, 0 of type L 1.0, \n",
            "5 of type L other, 0 of type Range 0.0->1.0, 0 of type Range other, \n",
            "0 of type Free \n",
            "Continuous objective value is 334 - 0.00 seconds\n",
            "Cgl0004I processed model has 5 rows, 89 columns (89 integer (79 of which binary)) and 89 elements\n",
            "Cutoff increment increased from 1e-05 to 0.9999\n",
            "Cbc0038I Initial state - 0 integers unsatisfied sum - 0\n",
            "Cbc0038I Solution found of 334\n",
            "Cbc0038I Cleaned solution of 334\n",
            "Cbc0038I Before mini branch and bound, 89 integers at bound fixed and 0 continuous\n",
            "Cbc0038I Mini branch and bound did not improve solution (0.00 seconds)\n",
            "Cbc0038I After 0.00 seconds - Feasibility pump exiting with objective of 334 - took 0.00 seconds\n",
            "Cbc0012I Integer solution of 334 found by feasibility pump after 0 iterations and 0 nodes (0.00 seconds)\n",
            "Cbc0001I Search completed - best objective 334, took 0 iterations and 0 nodes (0.00 seconds)\n",
            "Cbc0035I Maximum depth 0, 0 variables fixed on reduced cost\n",
            "Cuts at root node changed objective from 334 to 334\n",
            "Probing was tried 0 times and created 0 cuts of which 0 were active after adding rounds of cuts (0.000 seconds)\n",
            "Gomory was tried 0 times and created 0 cuts of which 0 were active after adding rounds of cuts (0.000 seconds)\n",
            "Knapsack was tried 0 times and created 0 cuts of which 0 were active after adding rounds of cuts (0.000 seconds)\n",
            "Clique was tried 0 times and created 0 cuts of which 0 were active after adding rounds of cuts (0.000 seconds)\n",
            "MixedIntegerRounding2 was tried 0 times and created 0 cuts of which 0 were active after adding rounds of cuts (0.000 seconds)\n",
            "FlowCover was tried 0 times and created 0 cuts of which 0 were active after adding rounds of cuts (0.000 seconds)\n",
            "TwoMirCuts was tried 0 times and created 0 cuts of which 0 were active after adding rounds of cuts (0.000 seconds)\n",
            "ZeroHalf was tried 0 times and created 0 cuts of which 0 were active after adding rounds of cuts (0.000 seconds)\n",
            "\n",
            "Result - Optimal solution found\n",
            "\n",
            "Objective value:                334.00000000\n",
            "Enumerated nodes:               0\n",
            "Total iterations:               0\n",
            "Time (CPU seconds):             0.01\n",
            "Time (Wallclock seconds):       0.01\n",
            "\n",
            "Total time (CPU seconds):       0.01   (Wallclock seconds):       0.01\n",
            "\n"
          ]
        },
        {
          "output_type": "execute_result",
          "data": {
            "text/plain": [
              "{'Problem': [{'Name': 'unknown', 'Lower bound': 334.0, 'Upper bound': 334.0, 'Number of objectives': 1, 'Number of constraints': 10, 'Number of variables': 100, 'Number of binary variables': 100, 'Number of integer variables': 100, 'Number of nonzeros': 100, 'Sense': 'minimize'}], 'Solver': [{'Status': 'ok', 'User time': -1.0, 'System time': 0.01, 'Wallclock time': 0.01, 'Termination condition': 'optimal', 'Termination message': 'Model was solved to optimality (subject to tolerances), and an optimal solution is available.', 'Statistics': {'Branch and bound': {'Number of bounded subproblems': 0, 'Number of created subproblems': 0}, 'Black box': {'Number of iterations': 0}}, 'Error rc': 0, 'Time': 0.02574467658996582}], 'Solution': [OrderedDict([('number of solutions', 0), ('number of solutions displayed', 0)])]}"
            ]
          },
          "metadata": {},
          "execution_count": 9
        }
      ]
    },
    {
      "cell_type": "code",
      "source": [
        "# Print the optimal machine-task allocation\n",
        "for m in model.Machines:\n",
        "    for t in model.Tasks:\n",
        "        if model.x[m, t]() == 1:\n",
        "            print(f\"Task {t} assigned to Machine {m}\")\n"
      ],
      "metadata": {
        "colab": {
          "base_uri": "https://localhost:8080/"
        },
        "id": "zkF_-yldIUuD",
        "outputId": "ebe42aa7-1b0a-4b36-a57c-dce5deb8c121"
      },
      "execution_count": 10,
      "outputs": [
        {
          "output_type": "stream",
          "name": "stdout",
          "text": [
            "Task 10 assigned to Machine 1\n",
            "Task 14 assigned to Machine 1\n",
            "Task 17 assigned to Machine 1\n",
            "Task 5 assigned to Machine 2\n",
            "Task 12 assigned to Machine 2\n",
            "Task 17 assigned to Machine 2\n",
            "Task 2 assigned to Machine 3\n",
            "Task 5 assigned to Machine 3\n",
            "Task 13 assigned to Machine 3\n",
            "Task 9 assigned to Machine 4\n",
            "Task 11 assigned to Machine 4\n",
            "Task 18 assigned to Machine 4\n",
            "Task 11 assigned to Machine 5\n",
            "Task 14 assigned to Machine 5\n",
            "Task 18 assigned to Machine 5\n"
          ]
        }
      ]
    },
    {
      "cell_type": "markdown",
      "source": [
        "# problem 3"
      ],
      "metadata": {
        "id": "jE4-TIsLI1rr"
      }
    },
    {
      "cell_type": "code",
      "source": [
        "\n",
        "model = ConcreteModel()\n",
        "\n",
        "# Define indices and parameters\n",
        "number_of_machines = machine_times.shape[0]\n",
        "number_of_tasks = machine_times.shape[1]\n",
        "\n",
        "model.Machines = RangeSet(1, number_of_machines)\n",
        "model.Tasks = RangeSet(1, number_of_tasks)\n",
        "\n",
        "# Define binary decision variables\n",
        "model.x = Var(model.Machines, model.Tasks, within=Binary)\n",
        "\n",
        "# Define the objective function\n",
        "objective_expr = sum(model.x[m, t] * machine_times[m - 1, t - 1] for m in model.Machines for t in model.Tasks)\n",
        "model.total_time = Objective(expr=objective_expr, sense=minimize)\n",
        "\n",
        "# Define the constraint for the number of tasks per machine\n",
        "model.min_tasks_per_machine = ConstraintList()\n",
        "model.max_tasks_per_machine = ConstraintList()\n",
        "\n",
        "min_tasks_per_machine_limit = 3\n",
        "max_tasks_per_machine_limit = 5\n",
        "\n",
        "for m in model.Machines:\n",
        "    tasks_expr = sum(model.x[m, t] for t in model.Tasks)\n",
        "    model.min_tasks_per_machine.add(tasks_expr >= min_tasks_per_machine_limit)\n",
        "    model.max_tasks_per_machine.add(tasks_expr <= max_tasks_per_machine_limit)\n",
        "\n",
        "# Define the constraint for machines 0 and 1 not doing odd-numbered tasks\n",
        "model.odd_tasks_constraint = ConstraintList()\n",
        "for m in [0, 1]:\n",
        "    for t in model.Tasks:\n",
        "        if t % 2 != 0:\n",
        "            model.odd_tasks_constraint.add(model.x[m + 1, t] == 0)\n",
        "\n",
        "# Solve the optimization model\n",
        "SolverFactory('cbc').solve(model, tee=True)\n",
        "\n",
        "\n"
      ],
      "metadata": {
        "colab": {
          "base_uri": "https://localhost:8080/"
        },
        "id": "iXj1lCnnigfZ",
        "outputId": "f9b586f0-cbba-4f5f-a223-ed4b92e22f80"
      },
      "execution_count": 11,
      "outputs": [
        {
          "output_type": "stream",
          "name": "stdout",
          "text": [
            "Welcome to the CBC MILP Solver \n",
            "Version: 2.10.8 \n",
            "Build Date: Feb  3 2023 \n",
            "\n",
            "command line - /content/bin/cbc -printingOptions all -import /tmp/tmp5u2x1698.pyomo.lp -stat=1 -solve -solu /tmp/tmp5u2x1698.pyomo.soln (default strategy 1)\n",
            "Option for printingOptions changed from normal to all\n",
            "Presolve 10 (-21) rows, 80 (-21) columns and 160 (-61) elements\n",
            "Statistics for presolved model\n",
            "Original problem has 100 integers (100 of which binary)\n",
            "Presolved problem has 80 integers (80 of which binary)\n",
            "==== 0 zero objective 20 different\n",
            "==== absolute objective values 20 different\n",
            "==== for integers 0 zero objective 20 different\n",
            "==== for integers absolute objective values 20 different\n",
            "===== end objective counts\n",
            "\n",
            "\n",
            "Problem has 10 rows, 80 columns (80 with objective) and 160 elements\n",
            "Column breakdown:\n",
            "0 of type 0.0->inf, 0 of type 0.0->up, 0 of type lo->inf, \n",
            "0 of type lo->up, 0 of type free, 0 of type fixed, \n",
            "0 of type -inf->0.0, 0 of type -inf->up, 80 of type 0.0->1.0 \n",
            "Row breakdown:\n",
            "0 of type E 0.0, 0 of type E 1.0, 0 of type E -1.0, \n",
            "0 of type E other, 0 of type G 0.0, 0 of type G 1.0, \n",
            "5 of type G other, 0 of type L 0.0, 0 of type L 1.0, \n",
            "5 of type L other, 0 of type Range 0.0->1.0, 0 of type Range other, \n",
            "0 of type Free \n",
            "Continuous objective value is 340 - 0.00 seconds\n",
            "Cgl0002I 20 variables fixed\n",
            "Cgl0004I processed model has 5 rows, 73 columns (73 integer (67 of which binary)) and 73 elements\n",
            "Cutoff increment increased from 1e-05 to 0.9999\n",
            "Cbc0038I Initial state - 0 integers unsatisfied sum - 0\n",
            "Cbc0038I Solution found of 340\n",
            "Cbc0038I Cleaned solution of 340\n",
            "Cbc0038I Before mini branch and bound, 73 integers at bound fixed and 0 continuous\n",
            "Cbc0038I Mini branch and bound did not improve solution (0.00 seconds)\n",
            "Cbc0038I After 0.00 seconds - Feasibility pump exiting with objective of 340 - took 0.00 seconds\n",
            "Cbc0012I Integer solution of 340 found by feasibility pump after 0 iterations and 0 nodes (0.00 seconds)\n",
            "Cbc0001I Search completed - best objective 340, took 0 iterations and 0 nodes (0.00 seconds)\n",
            "Cbc0035I Maximum depth 0, 0 variables fixed on reduced cost\n",
            "Cuts at root node changed objective from 340 to 340\n",
            "Probing was tried 0 times and created 0 cuts of which 0 were active after adding rounds of cuts (0.000 seconds)\n",
            "Gomory was tried 0 times and created 0 cuts of which 0 were active after adding rounds of cuts (0.000 seconds)\n",
            "Knapsack was tried 0 times and created 0 cuts of which 0 were active after adding rounds of cuts (0.000 seconds)\n",
            "Clique was tried 0 times and created 0 cuts of which 0 were active after adding rounds of cuts (0.000 seconds)\n",
            "MixedIntegerRounding2 was tried 0 times and created 0 cuts of which 0 were active after adding rounds of cuts (0.000 seconds)\n",
            "FlowCover was tried 0 times and created 0 cuts of which 0 were active after adding rounds of cuts (0.000 seconds)\n",
            "TwoMirCuts was tried 0 times and created 0 cuts of which 0 were active after adding rounds of cuts (0.000 seconds)\n",
            "ZeroHalf was tried 0 times and created 0 cuts of which 0 were active after adding rounds of cuts (0.000 seconds)\n",
            "\n",
            "Result - Optimal solution found\n",
            "\n",
            "Objective value:                340.00000000\n",
            "Enumerated nodes:               0\n",
            "Total iterations:               0\n",
            "Time (CPU seconds):             0.00\n",
            "Time (Wallclock seconds):       0.01\n",
            "\n",
            "Total time (CPU seconds):       0.01   (Wallclock seconds):       0.01\n",
            "\n"
          ]
        },
        {
          "output_type": "execute_result",
          "data": {
            "text/plain": [
              "{'Problem': [{'Name': 'unknown', 'Lower bound': 340.0, 'Upper bound': 340.0, 'Number of objectives': 1, 'Number of constraints': 10, 'Number of variables': 80, 'Number of binary variables': 100, 'Number of integer variables': 100, 'Number of nonzeros': 80, 'Sense': 'minimize'}], 'Solver': [{'Status': 'ok', 'User time': -1.0, 'System time': 0.01, 'Wallclock time': 0.01, 'Termination condition': 'optimal', 'Termination message': 'Model was solved to optimality (subject to tolerances), and an optimal solution is available.', 'Statistics': {'Branch and bound': {'Number of bounded subproblems': 0, 'Number of created subproblems': 0}, 'Black box': {'Number of iterations': 0}}, 'Error rc': 0, 'Time': 0.025628328323364258}], 'Solution': [OrderedDict([('number of solutions', 0), ('number of solutions displayed', 0)])]}"
            ]
          },
          "metadata": {},
          "execution_count": 11
        }
      ]
    },
    {
      "cell_type": "code",
      "source": [
        "# Print the optimal machine-task allocation\n",
        "for m in model.Machines:\n",
        "    for t in model.Tasks:\n",
        "        if model.x[m, t]() == 1:\n",
        "            print(f\"Task {t} assigned to Machine {m}\")"
      ],
      "metadata": {
        "colab": {
          "base_uri": "https://localhost:8080/"
        },
        "id": "e_Nft35wIapx",
        "outputId": "62f0219d-8789-49f7-ae60-99786c21a80a"
      },
      "execution_count": 12,
      "outputs": [
        {
          "output_type": "stream",
          "name": "stdout",
          "text": [
            "Task 10 assigned to Machine 1\n",
            "Task 14 assigned to Machine 1\n",
            "Task 16 assigned to Machine 1\n",
            "Task 4 assigned to Machine 2\n",
            "Task 6 assigned to Machine 2\n",
            "Task 12 assigned to Machine 2\n",
            "Task 2 assigned to Machine 3\n",
            "Task 5 assigned to Machine 3\n",
            "Task 13 assigned to Machine 3\n",
            "Task 9 assigned to Machine 4\n",
            "Task 11 assigned to Machine 4\n",
            "Task 18 assigned to Machine 4\n",
            "Task 11 assigned to Machine 5\n",
            "Task 14 assigned to Machine 5\n",
            "Task 18 assigned to Machine 5\n"
          ]
        }
      ]
    }
  ]
}